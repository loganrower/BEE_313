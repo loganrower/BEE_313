{
 "cells": [
  {
   "cell_type": "markdown",
   "metadata": {},
   "source": [
    "# BEE313 Problem 1.1\n",
    "\n",
    "## Objective \n",
    "The objective of this problem was to determine the groundwater contribution to a 10km2 catchment in the Cascades. This was done by completing a water mass balance. The average precipitation is known to be 1750 mm/year and the average stream flow is .3 m3/sec. The ET is also known to be 4 mm/day. It was assumed that there was no change in storage. However, for this basin both the input and output groundwater flows were not known. By combining the two groundwater terms into one, the overall contribution to the basin was be determined as well as its direction. \n",
    "\n",
    "#### Equations:\n",
    "Deriving Equation for GW:\n",
    "* P + GWin- ET - Q -GWout = deltaS\n",
    "\n",
    "* GWout - GWin  = P - ET - Q - deltaS \n",
    "\n",
    "* GW  = P - ET - Q - deltaS \n",
    "\n",
    "Assumption:\n",
    "* deltaS = 0\n",
    "\n",
    "## Methods:\n",
    "First, developed a function for mass balance of the groundwater flow, and made note of all known parameters. The Stream flow was then divided by the area in order to get into a measurment of depth. Next, the precipitation, stream flow, and evapotranspiration values were converted to units of mm/year. The after converting to the proper units that values were plugged back into the function to return the groundwater flow in mm/year.\n",
    "\n"
   ]
  },
  {
   "cell_type": "code",
   "execution_count": 40,
   "metadata": {},
   "outputs": [
    {
     "name": "stdout",
     "output_type": "stream",
     "text": [
      "946.08\n",
      "Groundwater Contribution GW_final 656.080 mm/year into the basin\n"
     ]
    }
   ],
   "source": [
    "import numpy as np\n",
    "\n",
    "# function to solve for GW\n",
    "def GW (P,Q,ET,dS):\n",
    "    GW = P-ET-Q-dS\n",
    "    return GW\n",
    "\n",
    "# known parameters\n",
    "rain_mm_yr = 1750 #mm/year\n",
    "annual_strm_flow = .3 #m3/sec\n",
    "avg_ET = 4 #mm/day\n",
    "deltaS = 0 #no change\n",
    "area =10*1000*1000*1000*1000 #mm2\n",
    "\n",
    "# solved for Q\n",
    "annual_strm_flow_mm = .3*1000*1000*1000 #mm3/s\n",
    "Qmm_sec = annual_strm_flow_mm/area # mm/s\n",
    "\n",
    "# convert all units to mm per year\n",
    "## converted the stream flow into mm/year\n",
    "Q_mm_yr= Qmm_sec*60*60*24*365\n",
    "print(Q_mm_yr)\n",
    "## converted the ET to mm/year\n",
    "ET_mm_yr = avg_ET*365\n",
    "\n",
    "# Applied the new parameters into the function\n",
    "GW_final = GW(rain_mm_yr, Q_mm_yr,ET_mm_yr,deltaS )*-1\n",
    "\n",
    "# Printed Answer\n",
    "print(f\"Groundwater Contribution GW_final {GW_final:.3f} mm/year into the basin\")\n"
   ]
  },
  {
   "cell_type": "markdown",
   "metadata": {},
   "source": [
    "## Results:\n",
    "The Groundwater contribution for the 10km2 basin in the Cascades was determined to be 289.999 mm/year out of the the basin. The precipitation had the largest contribution of 1750 mm/year. This was followed by the average ET with 1460 mm/year. The stream flow represented as a depth had a contribution of 946.08 mm/year, which was the smalled contribution. \n",
    "\n",
    "## Discussion:\n",
    "\n",
    "The results show that the majority of the the groundwater is moving out of the basin. It would make sense for the majority of the water to enter this basin because of the fact that due to gravity and pressure dynamics within the soil, the water will be forced to move down the hill to the lower regions towards where the water will eventually discharge (Massachusetts Audubon Society). The initial assumption was made that the change in the storage would be equal to zero. This assumption would be valid because within the annual hydrologic cycle the change in the amount of water held within the soil and in aquifers would be small since it is a cylical processes and it will start and end at the same point (NCRS, 2009).\n"
   ]
  },
  {
   "cell_type": "markdown",
   "metadata": {},
   "source": [
    "# BEE313 Problem 1.2\n",
    "\n",
    "## Objective:\n",
    "The objective of this problem is to determine the minimum amount of rainfall that occurs from the Pacific Ocean to Mary's Peak. The Pacific Ocean had an air temperature of 21C and a relative humidut of 65%. Mary's Peak on the other hand had a temperature of 8C and a relative humidity that was not super saturated. The average thickness of the air mass is 2.5 km.\n",
    "\n",
    "\n",
    "### Equations:\n",
    "\n",
    "* Dew Point:\n",
    "   * T_dp = (ln(e)-6.415)/(.0999-.000421*ln(e))\n",
    "* Clausius–Clapeyron\n",
    "\n",
    "   *  e* = 611*e^((17.3*T)/(T+237.3))  \n",
    "      * e* = Saturation Vapor Pressure\n",
    "      * T = Temperature (C)\n",
    "* Relative Humidity\n",
    "   * RH = e/e*\n",
    "      * e = vapor pressure\n",
    "      * RH = relative humidity\n",
    "\n",
    "* Vapor Density \n",
    "   * pv = e/(Rv*T)  \n",
    "      * pv = vapor density\n",
    "      * Rv = 461 J/kg*K\n",
    "      * e = vapor pressure\n",
    "\n",
    "* Precipitation Equation\n",
    "   * P = [pv(t1)-pv(t2)]*h/pw\n",
    "      * pw = density of water\n",
    "      * h = parcel thickness\n",
    "      * P = Precipitation\n",
    "## Methods:\n",
    "The Clausisus-Clapeyron equation was used to calculate e* for 21C and 8C. These values were then plugged into their respective RH equations. The RH for 21C was 65%, and was used to find the vapor pressure. The dew point equation was then used to determine at what temperature condensation began to occur. The vapor pressure at 8C was found using the RH of 100%. The vapor pressures were then used to find the vapor density at each temperature. With the vapor densities at both 21C and 8C the precipitation equation was used to determine the minimum amount of rainfall."
   ]
  },
  {
   "cell_type": "code",
   "execution_count": 41,
   "metadata": {
    "collapsed": true
   },
   "outputs": [
    {
     "name": "stdout",
     "output_type": "stream",
     "text": [
      "Dew Point Temperature:  10.082 C\n",
      "Precipitation  9.166 mm\n"
     ]
    }
   ],
   "source": [
    "# Assumptions:\n",
    "import numpy as np\n",
    "\n",
    "\n",
    "# constants\n",
    "Rv = 461 # J/kg*K\n",
    "rho_water = 1000 #1000 kg/m^3\n",
    "h = 2500 #m\n",
    "\n",
    "\n",
    "\n",
    "# pv for 21C (t1)\n",
    "e_sat21 = 611*np.exp(17.3*(21)/((21)+237.3))\n",
    "\n",
    "## found vapor pressure\n",
    "e_21 = .65*e_sat21\n",
    "\n",
    "### found pv21\n",
    "pv21 =  e_21/(Rv*(21+273.15))\n",
    "\n",
    "\n",
    "# dew point temp\n",
    "T_dp = (np.log(e_21)-6.415)/(.0999-.000421*np.log(e_21))\n",
    "print(f\"Dew Point Temperature: {T_dp: .3f} C\")\n",
    "\n",
    "\n",
    "# pv for 8C (t2)\n",
    "## e*\n",
    "e_sat8 = 611*np.exp(17.3*(8)/((8)+237.3))\n",
    "\n",
    "## found vapor pressure\n",
    "### Where RH = 1\n",
    "e_8 = 1*e_sat8\n",
    "\n",
    "### found pv8 \n",
    "pv8 =  e_8/(Rv*(8+273.15))\n",
    "\n",
    "# Precipitation\n",
    "P = (pv21 - pv8)*(h/rho_water)\n",
    "P_m = P * 1000\n",
    "print(f\"Precipitation {P_m: .3f} mm\")"
   ]
  },
  {
   "cell_type": "markdown",
   "metadata": {},
   "source": [
    "## Results:\n",
    "It was determined that the minimum amount of rainfall from the Pacific Ocean to Mary's Peak was 9.166 mm.\n",
    "## Dicussion:\n",
    "\n",
    "It was assumed that at Mary's Peak the relative humidity was 100%. This was based on the condition that it was not at supersaturation. It was known tha\n",
    "AT RH =1 it doesn't necessarily have to be raining but rather that is when the air is fully saturated. The given situation has a case where the air is not super saturated so in order to find the minimum amount given that the dew point was at 10C it is assumed that the RH remained the same from this dew point to the peak. The realtive humidity is typically inversely related to the temperature so as the temperature goes down, or as the air rise, then the relative humidity increases. In this case a simplification was made. If it was super saturated at the peak, then this would have decreased the level of precipitation. "
   ]
  },
  {
   "cell_type": "markdown",
   "metadata": {},
   "source": [
    "# BEE313 Problem 1.3\n",
    "\n",
    "## Objective:\n",
    "The objective of this problem was to determine the average annual precipitation that the watershed recieved. The known elevation and precipiation data given at the gauge have been provided. The Area elevations and the fraction of the overall area that those elvations make up has also been provided in order to develop a predicted precipitation for those elevations. \n",
    "\n",
    "GaugePrecipitation = [715, 750, 895]\n",
    "\n",
    "GaugeElevations = [460, 600, 1180]\n",
    "\n",
    "Topographic analysis of this watershed gives the following distribution of its area with elevation: \n",
    "\n",
    "AreaFraction = [0.0, 0.028, 0.159, 0.341, 0.271, 0.151, 0.042, 0.008]\n",
    "\n",
    "AreaElevations = [100, 300, 500, 700, 900, 1100, 1300, 1500]\n",
    "\n",
    "\n",
    "\n",
    "## Methods:\n",
    "A plot of the known precipitation and elevations from the stream gauge was developed. An equation representing these values on the plot was generated. Then using curvefit() a regression was run in order to determine the necessary coefficients for the model equation. With the model equation developed the area elevations were then inputted into the model to generate predicted precipitation values. Next, these precipitation values were weighted by multiplying the array by an array of the array fractions. Finally the weighted precipitation values were summed to get the average precipitation. \n"
   ]
  },
  {
   "cell_type": "code",
   "execution_count": 42,
   "metadata": {},
   "outputs": [
    {
     "data": {
      "image/png": "[encoded data removed]",
      "text/plain": [
       "<Figure size 432x288 with 1 Axes>"
      ]
     },
     "metadata": {
      "needs_background": "light"
     },
     "output_type": "display_data"
    },
    {
     "name": "stdout",
     "output_type": "stream",
     "text": [
      "Average Annual Precipitation 800.800 mm/year\n"
     ]
    }
   ],
   "source": [
    "import matplotlib.pyplot as plt\n",
    "import pandas as pd\n",
    "import numpy as np\n",
    "from scipy.optimize import curve_fit\n",
    "# Step 1 inputted data into two separate dictionaries\n",
    "\n",
    "gauge_dict = {\n",
    "    \"P_gauge\":[715,750,895],\n",
    "    \"E_gauge\":[460,600,1180] \n",
    "}\n",
    "area_dict = {\n",
    "    \"area_fraction\":[0.0,.028,.159,.341,.271,.151,.042,.008],\n",
    "    \"E_area\":[100,300,500,700,900,1100,1300,1500]\n",
    "}\n",
    "gauge_df = pd.DataFrame(gauge_dict)\n",
    "area_df = pd.DataFrame(area_dict)\n",
    "# Step 2: performed a Regression on the Limited Data Available for Precipitation and Gauge Elevation\n",
    "## Set the figure\n",
    "\n",
    "## Set the x and y values (observed gauge elevation and observed precipitation and )\n",
    "### converted to numpy arrays\n",
    "obs_elv = (gauge_df['E_gauge'].values)*1000\n",
    "obs_precip =gauge_df['P_gauge'].values\n",
    "\n",
    "# Initial Plot of Points \n",
    "fig1 = plt.figure()\n",
    "ax3_1 = fig1.add_subplot(111)\n",
    "ax3_1.plot(obs_elv,obs_precip,color= \"tab:blue\", label = \"observed\")\n",
    "ax3_1.scatter(obs_elv,obs_precip,color= \"tab:red\", label = \"observed\")\n",
    "ax3_1.set_xlabel(\"elevation [mm]\")\n",
    "ax3_1.set_ylabel(\"precipitation [mm]\")\n",
    "ax3_1.set_title(\"gauge precipitation [mm] vs. gauge elevation [mm]\")\n",
    "plt.show()\n",
    "\n",
    "# Step 3:Created a Function for Modeling the Precipitation\n",
    "### This was constructed based on the determiningation that the precipirtion follows a linear form\n",
    "def modelP(elevation, P_const, P_init):\n",
    "     precip = P_const*elevation + P_init\n",
    "     return precip\n",
    "\n",
    "\n",
    "\n",
    "# Step 4: Used Curve Fit to determine the necessary coefficients needed for this model\n",
    "## Data To Input\n",
    "elv_area = (area_df['E_area'].values)*1000\n",
    "### Curvefit(model equation, x observed values, y observed valyes, coefficients in a tuple)\n",
    "## generated coefficients for model \n",
    "popt,pcov = curve_fit(modelP, obs_elv, obs_precip, p0=(5,1))\n",
    "\n",
    "## then using the new model parameters the estimated non-weighted precipitation was found\n",
    "est_precip = modelP(elv_area, popt[0], popt[1])\n",
    "\n",
    "# Step 5: Incorporate Weights to the Precipitation Values\n",
    "## saved these estimated precipiation values into a new column in the dataframe\n",
    "area_df['est_p_wght'] = est_precip\n",
    "est_p_no_wght = area_df['est_p_wght']\n",
    "\n",
    "## Apply the weight to the precipitation values and change the name of the column in the dataframe\n",
    "\n",
    "# #### Multiply Area Fraction (Weight) By Precipitation Values\n",
    "area_df['est_p_wght'] =  est_p_no_wght * area_df[\"area_fraction\"]\n",
    "est_p_wght = area_df['est_p_wght']\n",
    "# Step 6: Now will sum the values\n",
    "Ann_Avg_Precip = np.sum(est_p_wght)\n",
    "\n",
    "print(f\"Average Annual Precipitation {Ann_Avg_Precip:.3f} mm/year\")"
   ]
  },
  {
   "cell_type": "markdown",
   "metadata": {},
   "source": [
    "## Results:\n",
    "The average annual precipitation was found to be 800.8 mm/year.\n",
    "\n",
    "## Discussion:\n",
    "Rather than taking the predicted precipitation values and then averaging them over each of the recorded elevations a weight was taken into account. This was to ensure that the distribution of precipitation values across the elevations truly represented the region overall. Since the area elevations are only a sample of the elevations within this region the fraction helps to account to the wider population instead of this single sample. Then by summing these values the average precipitation within this basin can be found. If this were to be implemented in the future a larger dataset of observed values would have been useful. Then this dataset could have been split into a test and training datasets. However, for the purpose of the current model this is not necessary for future implementation this may be something that might need to be performed. "
   ]
  },
  {
   "cell_type": "markdown",
   "metadata": {},
   "source": [
    "# BEE313 Problem 1.4\n",
    "\n",
    "## Objective:\n",
    "Using the annual rainfall data collected from 1901 to 1999 and a weibull plotting position the 10-year annual precipiation was determined for Corvallis in mm.\n",
    "\n",
    "AnnualRainfall = \n",
    "[1021.06,1052.48,1330.55,889.06,1407.20,886.63,1163.28,1168.88,897.59,1249.29,\n",
    "993.65,963.82,1240.87,958.52,1144.11,1017.51,1252.29,1074.10,897.10,1284.55,1097.71,1105.44,1000.74,933.31,966.33,903.02,1033.65,1206.93,988.68,673.89,\n",
    "654.62,1052.87,998.38,1157.67,981.55,718.48,869.52,1505.57,911.09,775.72,\n",
    "1118.34,975.42,1132.92,947.14,659.60,1200.15,1033.66,1022.35,1227.38,907.94,\n",
    "1435.88,1190.44,778.84,1326.98,1162.43,1246.73,1043.58,1034.07,1116.40,934.84,\n",
    "1126.82,1211.50,932.40,1022.74,1188.63,907.78,1015.64,887.22,1393.42,1067.60,\n",
    "1224.72,1336.84,1154.76,1238.44,1234.72,1095.73,748.32,1025.56,923.02,1071.70,\n",
    "1112.84,1200.78,1209.95,1422.25,1245.29,693.02,1112.20,967.55,970.48,766.32,\n",
    "974.69,849.93,833.45,902.90,954.75,1382.77,1918.39,1162.03,1520.63]\n",
    "\n",
    "\n",
    "## Methods:\n",
    "The years and the annual rain data was inputted into a dataframe for ease of manipulation. The dataframe was sorted so that the rainfall data was arranged in ascending order. The ranks were then added to the dataframe making sure that the added array ranged from 1 to 99. A for loop was constructed to calculate the empirical distribution and save it in an empty array F. This array was saved into the dataframe. A range of precipitation values from 500 to 2000 were generated. An interpolation was performed over the range of 500 to 2000 with the sorted annual rain data and the calculatd emipirical distribution. A plot was developed showcasing the interpolated values. Finally the return interval was generated based on the interpolation. The precipitation versus the return interval was plotted, and the 10 year event was estimated by looking within this range."
   ]
  },
  {
   "cell_type": "code",
   "execution_count": 43,
   "metadata": {},
   "outputs": [
    {
     "data": {
      "image/png": "[encoded data removed]",
      "text/plain": [
       "<Figure size 432x288 with 1 Axes>"
      ]
     },
     "metadata": {
      "needs_background": "light"
     },
     "output_type": "display_data"
    },
    {
     "data": {
      "image/png": "[encoded data removed]",
      "text/plain": [
       "<Figure size 432x288 with 1 Axes>"
      ]
     },
     "metadata": {
      "needs_background": "light"
     },
     "output_type": "display_data"
    },
    {
     "name": "stdout",
     "output_type": "stream",
     "text": [
      "The 10-year storm has a depth of 1331.0mm using an interpolated CDF\n"
     ]
    }
   ],
   "source": [
    "import numpy as np\n",
    "import pandas as pd\n",
    "import matplotlib.pyplot as plt\n",
    "\n",
    "# Data\n",
    "Rain_input = [1021.06,1052.48,1330.55,889.06,1407.20,886.63,1163.28,1168.88,897.59,1249.29,\n",
    "993.65,963.82,1240.87,958.52,1144.11,1017.51,1252.29,1074.10,897.10,1284.55,1097.71,1105.44,1000.74,933.31,966.33,903.02,1033.65,1206.93,988.68,673.89,\n",
    "654.62,1052.87,998.38,1157.67,981.55,718.48,869.52,1505.57,911.09,775.72,\n",
    "1118.34,975.42,1132.92,947.14,659.60,1200.15,1033.66,1022.35,1227.38,907.94,\n",
    "1435.88,1190.44,778.84,1326.98,1162.43,1246.73,1043.58,1034.07,1116.40,934.84,\n",
    "1126.82,1211.50,932.40,1022.74,1188.63,907.78,1015.64,887.22,1393.42,1067.60,\n",
    "1224.72,1336.84,1154.76,1238.44,1234.72,1095.73,748.32,1025.56,923.02,1071.70,\n",
    "1112.84,1200.78,1209.95,1422.25,1245.29,693.02,1112.20,967.55,970.48,766.32,\n",
    "974.69,849.93,833.45,902.90,954.75,1382.77,1918.39,1162.03,1520.63]\n",
    "\n",
    "Year_input = np.arange(1901,1999+1,1)\n",
    "# Created a Dataframe with Years and Associated Data\n",
    "corvo_rain = {\n",
    "    \"year\": Year_input,\n",
    "    \"annual_rain\":Rain_input,\n",
    "}\n",
    "\n",
    "# Sorted the Data\n",
    "corvo_df = pd.DataFrame(corvo_rain)\n",
    "\n",
    "corvo_df_sort = corvo_df.sort_values(by=['annual_rain'], ascending = True)\n",
    "\n",
    "# Reset the Indicies and then dropped the old index column\n",
    "corvo_df_sort = corvo_df_sort.reset_index()\n",
    "corvo_df_sort = corvo_df_sort.drop(columns = ['index'])\n",
    "\n",
    "# added rank\n",
    "corvo_df_sort['Rank'] = np.arange(1, len(Year_input)+1)\n",
    "rank = corvo_df_sort['Rank']\n",
    "# Estimated the Empirical Distribution of the Rainfall (F(x))\n",
    "\n",
    "F = np.empty(len(rank))\n",
    "values = np.arange(len(rank))\n",
    "for num in values:\n",
    "    F[num] =(rank[num]/((len(rank))+1))\n",
    "\n",
    "# Called all of the relevant variables\n",
    "corvo_df_sort[\"F(x)\"] = F\n",
    "F_x = corvo_df_sort[\"F(x)\"]\n",
    "year = corvo_df_sort[\"year\"]\n",
    "rank = corvo_df_sort[\"Rank\"]\n",
    "annual_rain = corvo_df_sort[\"annual_rain\"]\n",
    "#print(corvo_df_sort[\"F(x)\"].head(99))\n",
    "# Utilized Interp CDF\n",
    "## First needed to get the x coordinates, and for this got the max and min values for precipitation\n",
    "rainmin, rainmax =annual_rain.min(), annual_rain.max()\n",
    "\n",
    "\n",
    "## generated x values going from 500 to 2000\n",
    "Precip_eval = np.arange(500,2000,1)\n",
    "## used np.interp to return the linear interpolation for further estimation\n",
    "pptInterpCDF = np.interp(Precip_eval,annual_rain,F_x)\n",
    "\n",
    "fig4 = plt.figure()\n",
    "ax4_1 = fig4.add_subplot(111)\n",
    "# ax4_1.scatter,F_x, color =\"tab:red\", label = \"observed\")\n",
    "ax4_1.plot(annual_rain,F_x,'r.')\n",
    "ax4_1.plot(Precip_eval,pptInterpCDF,'g--')\n",
    "ax4_1.set_xlabel('Rainfall [mm]')\n",
    "ax4_1.set_ylabel('F(x)')\n",
    "\n",
    "\n",
    "# Solve for the RI using Interp method\n",
    "Year = 10\n",
    "RI_interp = 1/(1-pptInterpCDF)\n",
    "fig4_2 = plt.figure()\n",
    "ax4_2 = fig4_2.add_subplot(111)\n",
    "ax4_2.plot(RI_interp,Precip_eval,'g--',label='Empirical (Interp)')\n",
    "ax4_2.scatter(10,Precip_eval[np.argmin((RI_interp-Year)**2)], color = 'b', label = '10 year depth')\n",
    "ax4_2.set_yscale('log')\n",
    "ax4_2.set_xscale('log')\n",
    "ax4_2.set_xlabel(\"Return Interval [years]\")\n",
    "ax4_2.set_ylabel(\"Precipitation [mm]\")\n",
    "ax4_2.legend()\n",
    "plt.show()\n",
    "print('The %d-year storm has a depth of %.1fmm using an interpolated CDF' % (\n",
    "    Year, Precip_eval[np.argmin((RI_interp-Year)**2)]))\n",
    "\n"
   ]
  },
  {
   "cell_type": "markdown",
   "metadata": {},
   "source": [
    "## Results:\n",
    "The 10 year rain event was determined to have a depth of 1331 mm.\n",
    "\n",
    "## Discussion:\n",
    "\n",
    "Using the interpolation method the 10 year rain event was determined to be 1331 mm. This value is the estimated depth of precipitation that would occur over the course of ten years. It is possible that the interpolation method slightly underestimated the value, for this reason it would be prudent for future implementations to run multiple different simulations with larger datasets. "
   ]
  },
  {
   "cell_type": "markdown",
   "metadata": {},
   "source": [
    "# References"
   ]
  },
  {
   "cell_type": "markdown",
   "metadata": {},
   "source": [
    "\n",
    "Massachusetts Audubon Society. Groundwater Tour. Retrieved from https://www.oars3rivers.org/river/watercycle/groundwater\n",
    "\n",
    "Natural Resources Conservation Service. (2009). Watershed Yield.\n"
   ]
  }
 ],
 "metadata": {
  "anaconda-cloud": {},
  "kernelspec": {
   "display_name": "Python 3",
   "language": "python",
   "name": "python3"
  },
  "language_info": {
   "codemirror_mode": {
    "name": "ipython",
    "version": 3
   },
   "file_extension": ".py",
   "mimetype": "text/x-python",
   "name": "python",
   "nbconvert_exporter": "python",
   "pygments_lexer": "ipython3",
   "version": "3.9.7"
  }
 },
 "nbformat": 4,
 "nbformat_minor": 1
}
