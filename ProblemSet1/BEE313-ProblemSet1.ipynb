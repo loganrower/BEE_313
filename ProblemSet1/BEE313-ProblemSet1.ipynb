{
 "cells": [
  {
   "cell_type": "markdown",
   "metadata": {},
   "source": [
    "# BEE313 Problem 1.1\n",
    "\n",
    "## Objective \n",
    "The objective of this problem is to determine the groundwater contribution to a 10km2 catchment in the Cascades. It \n",
    "\n",
    "## Methods:\n",
    "and here\n",
    "\n"
   ]
  },
  {
   "cell_type": "code",
   "execution_count": 2,
   "metadata": {},
   "outputs": [],
   "source": [
    "# Import statements\n",
    "import numpy as np\n",
    "\n",
    "# function to solve for GW\n",
    "def GW (P,Q,ET,dS):\n",
    "    GW = P-ET-Q-dS\n",
    "    return GW\n",
    "# known parameters\n",
    "rain_mm_yr = 1750 #mm/year\n",
    "annual_strm_flow = .3 #m3/sec\n",
    "avg_ET = 4 #mm/day\n",
    "deltaS = 0 #no change\n",
    "area =10000*1000*1000 #mm\n",
    "\n",
    "# solved for Q\n",
    "Qm_sec = annual_strm_flow/area # m/s\n",
    "\n",
    "# convert all units to mm per year\n",
    "## converted the stream flow into mm/year\n",
    "Q_mm_yr= Qm_sec*60*60*24*365*1000\n",
    "\n",
    "\n",
    "## converted the ET to mm/year\n",
    "ET_mm_yr = avg_ET*365\n",
    "\n",
    "# Applied the new parameters into the function\n",
    "GW_final = GW(rain_mm_yr, Q_mm_yr,ET_mm_yr,deltaS )\n",
    "\n",
    "print(f\"Groundwater Contribution GW_final {GW_final:.3f}mm/year out of the basin\")\n",
    "\n",
    "\n"
   ]
  },
  {
   "cell_type": "markdown",
   "metadata": {},
   "source": [
    "## Results:\n",
    "and here\n",
    "\n",
    "## Discussion:\n",
    "and here\n",
    "\n",
    "\\pagebreak"
   ]
  },
  {
   "cell_type": "markdown",
   "metadata": {},
   "source": [
    "# BEE313 Problem 1.2\n",
    "\n",
    "## Objective :\n",
    "... and so on...\n",
    "\n"
   ]
  },
  {
   "cell_type": "code",
   "execution_count": 6,
   "metadata": {
    "collapsed": true
   },
   "outputs": [],
   "source": [
    "# More code goes here..."
   ]
  }
 ],
 "metadata": {
  "anaconda-cloud": {},
  "kernelspec": {
   "display_name": "Python 3",
   "language": "python",
   "name": "python3"
  },
  "language_info": {
   "codemirror_mode": {
    "name": "ipython",
    "version": 3
   },
   "file_extension": ".py",
   "mimetype": "text/x-python",
   "name": "python",
   "nbconvert_exporter": "python",
   "pygments_lexer": "ipython3",
   "version": "3.6.6"
  }
 },
 "nbformat": 4,
 "nbformat_minor": 1
}
