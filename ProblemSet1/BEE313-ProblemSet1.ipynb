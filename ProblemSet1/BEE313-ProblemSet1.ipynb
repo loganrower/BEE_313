{
 "cells": [
  {
   "cell_type": "markdown",
   "metadata": {},
   "source": [
    "# BEE313 Problem 1.1\n",
    "\n",
    "## Objective \n",
    "The objective of this problem was to determine the groundwater contribution to a 10km2 catchment in the Cascades. This was done by completing a water mass balance. The average precipitation is known to be 1750 mm/year and the average stream flow is .3 m3/sec. The ET is also known to be 4 mm/day. It was assumed that there was no change in storage. However, for this basin both the input and output groundwater flows were not known. By combining the two groundwater terms into one, the overall contribution to the basin was be determined as well as its direction. \n",
    "\n",
    "#### Equations:\n",
    "Deriving Equation for GW:\n",
    "* P + GWin- ET - Q -GWout = deltaS\n",
    "\n",
    "* GWout - GWin  = P - ET - Q - deltaS \n",
    "\n",
    "* GW  = P - ET - Q - deltaS \n",
    "\n",
    "Assumption:\n",
    "* deltaS = 0\n",
    "\n",
    "## Methods:\n",
    "First, developed a function for mass balance of the groundwater flow, and made note of all known parameters. The Stream flow was then divided by the area in order to get into a measurment of depth. Next, the precipitation, stream flow, and evapotranspiration values were converted to units of mm/year. The after converting to the proper units that values were plugged back into the function to return the groundwater flow in mm/year.\n",
    "\n"
   ]
  },
  {
   "cell_type": "code",
   "execution_count": 8,
   "metadata": {},
   "outputs": [
    {
     "name": "stdout",
     "output_type": "stream",
     "text": [
      "Groundwater Contribution GW_final 289.999mm/year out of the basin\n"
     ]
    }
   ],
   "source": [
    "import numpy as np\n",
    "\n",
    "# function to solve for GW\n",
    "def GW (P,Q,ET,dS):\n",
    "    GW = P-ET-Q-dS\n",
    "    return GW\n",
    "\n",
    "# known parameters\n",
    "rain_mm_yr = 1750 #mm/year\n",
    "annual_strm_flow = .3 #m3/sec\n",
    "avg_ET = 4 #mm/day\n",
    "deltaS = 0 #no change\n",
    "area =10*1000*1000*1000*1000#mm\n",
    "\n",
    "# solved for Q\n",
    "Qm_sec = annual_strm_flow/area # m/s\n",
    "\n",
    "# convert all units to mm per year\n",
    "## converted the stream flow into mm/year\n",
    "Q_mm_yr= Qm_sec*60*60*24*365*1000\n",
    "## converted the ET to mm/year\n",
    "ET_mm_yr = avg_ET*365\n",
    "\n",
    "# Applied the new parameters into the function\n",
    "GW_final = GW(rain_mm_yr, Q_mm_yr,ET_mm_yr,deltaS )\n",
    "\n",
    "# Printed Answer\n",
    "print(f\"Groundwater Contribution GW_final {GW_final:.3f}mm/year out of the basin\")\n"
   ]
  },
  {
   "cell_type": "markdown",
   "metadata": {},
   "source": [
    "## Results:\n",
    "The Groundwater contribution for the 10km2 basin in the Cascades was determined to be 289.054mm/year out of the the basin. The precipitation had the largest contribution of 1750 mm/year. This was followed by the average ET with 1460 mm/year. The stream flow represented as a depth had a contribution of .946mm/year, which was the smalled contribution. \n",
    "\n",
    "## Discussion:\n",
    "\n",
    "The results show that the majority of the the groundwater is moving out of the basin. It would make sense for the majority of the water to exit this basin because of the fact that due to gravity and pressure dynamics within the soil, the water will be forced to move to where it reaches the surface. So although it is in the low lying foothills, this groundwater will continue to move through the soil pores until it reaches a discharge area (Massachusetts Audubon Society). The initial assumption was made that the change in the storage would be equal to zero. This assumption would be valid because within the annual hydrologic cycle the change in the amount of water held within the soil and in aquifers would be small since it is a cylical processes and it will start and end at the same point (NCRS, 2009).\n"
   ]
  },
  {
   "cell_type": "markdown",
   "metadata": {},
   "source": [
    "# BEE313 Problem 1.2\n",
    "\n",
    "## Objective:\n",
    "The objective of this problem is to determine the minimum amount of rainfall that occurs from the Pacific Ocean to Mary's Peak. The Pacific Ocean had an air temperature of 21C and a relative humidut of 65%. Mary's Peak on the other hand had a temperature of 8C and a relative humidity that was not super saturated. The average thickness of the air mass is 2.5 km.\n",
    "\n",
    "\n",
    "### Equations:\n",
    "\n",
    "* Clausius–Clapeyron\n",
    "\n",
    "   *  e* = 611*e^((17.3*T)/(T+237.3))  \n",
    "\n",
    "* Relative Humidity\n",
    "   * RH = e/e*\n",
    "\n",
    "* Vapor Density \n",
    "   * pv = e/()  \n",
    "\n",
    "## Methods:\n",
    "Gathered all necessary constants for the purpose of computation. "
   ]
  },
  {
   "cell_type": "code",
   "execution_count": 6,
   "metadata": {
    "collapsed": true
   },
   "outputs": [],
   "source": [
    "# Assumptions:\n",
    "import numpy as np\n",
    "# constants\n",
    "Rv = 461 # J/kg*K\n",
    "rho_water = 1000 #1000 kg/m^3\n",
    "h = 2500 #m\n",
    "\n",
    "# pv for 21C (t1)\n",
    "e_sat21 = 611*np.exp(17.3*(21)/((21)+237.3))\n",
    "#print(e_sat21) #Pa\n",
    "## found vapor pressure\n",
    "### RH = e/e*\n",
    "e_21 = .65*e_sat21\n",
    "\n",
    "#print(e_21\n",
    "\n",
    "### found \n",
    "pv21 =  e_21/(Rv*(21+273.15))\n",
    "print(pv21)\n",
    "# pv for 8C (t2)\n",
    "### important to note that at this point \n",
    "e_sat8 = 611*np.exp(17.3*(8)/((8)+237.3))\n",
    "#print(e_sat8) #Pa\n",
    "## found vapor pressure\n",
    "### RH = e/e*\n",
    "# Where RH = 1\n",
    "e_8 = 1*e_sat8\n",
    "#print(e_8)\n",
    "### found \n",
    "pv8 =  e_8/(Rv*(8+273.15))\n",
    "print(pv8)\n",
    "\n",
    "\n",
    "## Checked Densities\n",
    "# print(pv8)\n",
    "# print(pv21)\n",
    "\n",
    "# Precipitation\n",
    "P = (pv21 - pv8)*(h/rho_water)\n",
    "P_m = P * 1000\n",
    "print(\"Precipitation\", P_m,\"m\")"
   ]
  },
  {
   "cell_type": "markdown",
   "metadata": {},
   "source": [
    "## Results:\n",
    "\n",
    "\n",
    "## Dicussion:"
   ]
  },
  {
   "cell_type": "markdown",
   "metadata": {},
   "source": [
    "# References"
   ]
  },
  {
   "cell_type": "markdown",
   "metadata": {},
   "source": [
    "##\n",
    "Massachusetts Audubon Society. Groundwater Tour. Retrieved from https://www.oars3rivers.org/river/watercycle/groundwater\n",
    "\n",
    "Natural Resources Conservation Service. (2009). Watershed Yield.\n"
   ]
  }
 ],
 "metadata": {
  "anaconda-cloud": {},
  "kernelspec": {
   "display_name": "Python 3",
   "language": "python",
   "name": "python3"
  },
  "language_info": {
   "codemirror_mode": {
    "name": "ipython",
    "version": 3
   },
   "file_extension": ".py",
   "mimetype": "text/x-python",
   "name": "python",
   "nbconvert_exporter": "python",
   "pygments_lexer": "ipython3",
   "version": "3.9.7"
  }
 },
 "nbformat": 4,
 "nbformat_minor": 1
}
