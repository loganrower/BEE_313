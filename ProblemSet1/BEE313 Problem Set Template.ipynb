{
 "cells": [
  {
   "cell_type": "markdown",
   "metadata": {},
   "source": [
    "# BEE313 Problem 1.1\n",
    "\n",
    "## Objective \n",
    "A 10 km2 catchment located within the foothills of the Cascades has an average annual rainfall of 1750 mm/year and an average annual stream flow of 0.3 m3/sec. Based on data from meteorological stations located within the basin, it is estimated that the average ET is 4 mm/day. Given the location of this catchment, it is hypothesized that it may have strong groundwater inputs or outputs. Based on these flows, what is the groundwater contribution to this basin in each year in mm/year (with positive being out of the basin)?\n",
    "\n",
    "Equation for Q:\n",
    "Q = Q_discharge/A\n",
    "\n",
    "Equation for mass balance:\n",
    "\n",
    "P - ET - Q +/-GW = deltaS\n",
    "\n",
    "GWout - GWin  = P - ET - Q - deltaS \n",
    "\n",
    "GW  = P - ET - Q - deltaS \n",
    "Assumption:\n",
    "\n",
    "deltaS = 0\n",
    "\n",
    "## Methods:\n",
    "1. \n",
    "\n"
   ]
  },
  {
   "cell_type": "code",
   "execution_count": 20,
   "metadata": {},
   "outputs": [
    {
     "name": "stdout",
     "output_type": "stream",
     "text": [
      "Groundwater Contribution -289.05392 mm/year into the basin\n"
     ]
    }
   ],
   "source": [
    "# Import statements\n",
    "import numpy as np\n",
    "\n",
    "# function to solve for GW\n",
    "def GW (P,Q,ET,dS):\n",
    "    GW = P-ET-Q-dS\n",
    "    return GW\n",
    "# known parameters\n",
    "rain_mm_yr = 1750 #mm/year\n",
    "annual_strm_flow = .3 #m3/sec\n",
    "avg_ET = 4 #mm/day\n",
    "deltaS = 0 #no change\n",
    "area =10000*1000*1000 #mm\n",
    "\n",
    "# solved for Q\n",
    "Qm_sec = annual_strm_flow/area # m/s\n",
    "\n",
    "# convert all units to mm per year\n",
    "## converted the stream flow into mm/year\n",
    "Q_mm_yr= Qm_sec*60*60*24*365*1000\n",
    "\n",
    "\n",
    "## converted the ET to mm/year\n",
    "ET_mm_yr = avg_ET*365\n",
    "\n",
    "# Applied the new parameters into the function\n",
    "GW_final = GW(rain_mm_yr, Q_mm_yr,ET_mm_yr,deltaS )\n",
    "\n",
    "# Changed Sign\n",
    "GW_final = GW_final *-1\n",
    "print(\"Groundwater Contribution\",GW_final ,\"mm/year into the basin\")\n",
    "\n",
    "\n",
    "\n"
   ]
  },
  {
   "cell_type": "markdown",
   "metadata": {},
   "source": [
    "## Results:\n",
    "and here\n",
    "\n",
    "## Discussion:\n",
    "and here\n",
    "\n",
    "\\pagebreak"
   ]
  },
  {
   "cell_type": "markdown",
   "metadata": {},
   "source": [
    "# BEE313 Problem 1.2\n",
    "\n",
    "## Objective :\n",
    "An air parcel from the Pacific Ocean with an average air temperature of 21C and relative humidity of 65% moves onshore at Newport and is lofted over the coast range. The weather station on Marys peak reports that temperature of this air parcel is 8C degrees when it passes by. If the average thickness of this air mass is 2.5km, what is the minimum amount of rainfall (assuming the cloud is not super-saturated) that must have occurred between the coast and Mary's peak?\n",
    "\n",
    "## Methods:\n",
    "and here\n",
    "\n",
    "\n",
    "\n",
    "The min it can be 1 before reaching super saturated...\n",
    "so RH = 1\n",
    "\n"
   ]
  },
  {
   "cell_type": "code",
   "execution_count": 26,
   "metadata": {
    "collapsed": true
   },
   "outputs": [
    {
     "name": "stdout",
     "output_type": "stream",
     "text": [
      "0.011954233731587962\n",
      "0.008287703860603355\n",
      "9.166324677461517\n"
     ]
    }
   ],
   "source": [
    "# Assumptions:\n",
    "import numpy as np\n",
    "# constants\n",
    "Rv = 461 # J/kg*K\n",
    "rho_water = 1000 #1000 kg/m^3\n",
    "h = 2500 #m\n",
    "\n",
    "# pv for 21C (t1)\n",
    "e_sat21 = 611*np.exp(17.3*(21)/((21)+237.3))\n",
    "#print(e_sat21) #Pa\n",
    "## found vapor pressure\n",
    "### RH = e/e*\n",
    "e_21 = .65*e_sat21\n",
    "\n",
    "#print(e_21\n",
    "\n",
    "### found \n",
    "pv21 =  e_21/(Rv*(21+273.15))\n",
    "print(pv21)\n",
    "# pv for 8C (t2)\n",
    "### important to note that at this point \n",
    "e_sat8 = 611*np.exp(17.3*(8)/((8)+237.3))\n",
    "#print(e_sat8) #Pa\n",
    "## found vapor pressure\n",
    "### RH = e/e*\n",
    "# Where RH = 1\n",
    "e_8 = 1*e_sat8\n",
    "#print(e_8)\n",
    "### found \n",
    "pv8 =  e_8/(Rv*(8+273.15))\n",
    "print(pv8)\n",
    "\n",
    "\n",
    "## Checked Densities\n",
    "# print(pv8)\n",
    "# print(pv21)\n",
    "\n",
    "# Precipitation\n",
    "P = (pv21 - pv8)*(h/rho_water)\n",
    "print(P*1000)"
   ]
  },
  {
   "cell_type": "code",
   "execution_count": null,
   "metadata": {},
   "outputs": [],
   "source": [
    "# Difference between Masses\n",
    "####\n"
   ]
  },
  {
   "cell_type": "markdown",
   "metadata": {},
   "source": [
    "## Results:\n",
    "and here\n",
    "\n",
    "## Discussion:\n",
    "and here\n",
    "\n",
    "\\pagebreak"
   ]
  },
  {
   "cell_type": "markdown",
   "metadata": {},
   "source": [
    "# BEE313 Problem 1.3\n",
    "\n",
    "## Objective:\n",
    "Within a study watershed there are three precipitation gauges with the following average annual rainfall [mm] at the following elevations [m]:\n",
    "\n",
    "GaugePrecipitation = [715, 750, 895]\n",
    "\n",
    "GaugeElevations = [460, 600, 1180]\n",
    "\n",
    "Topographic analysis of this watershed gives the following distribution of its area with elevation: \n",
    "\n",
    "AreaFraction = [0.0, 0.028, 0.159, 0.341, 0.271, 0.151, 0.042, 0.008]\n",
    "\n",
    "AreaElevations = [100, 300, 500, 700, 900, 1100, 1300, 1500]\n",
    "\n",
    "Where the AreaElevations are the average elevation range associated with each fraction of the catchment. For example, 2.8%, of the basins area has an average elevation of 300m. Given this information, estimate the average annual precipitation that this watershed receives.\n",
    "\n",
    "## Methods:\n",
    "and here"
   ]
  },
  {
   "cell_type": "code",
   "execution_count": 21,
   "metadata": {},
   "outputs": [
    {
     "name": "stdout",
     "output_type": "stream",
     "text": [
      "(array([30.]), array([[inf]]))\n"
     ]
    },
    {
     "name": "stderr",
     "output_type": "stream",
     "text": [
      "C:\\Users\\lkrow\\anaconda3\\envs\\Warren_Lab\\lib\\site-packages\\scipy\\optimize\\minpack.py:833: OptimizeWarning: Covariance of the parameters could not be estimated\n",
      "  warnings.warn('Covariance of the parameters could not be estimated',\n"
     ]
    },
    {
     "data": {
      "text/html": [
       "<div>\n",
       "<style scoped>\n",
       "    .dataframe tbody tr th:only-of-type {\n",
       "        vertical-align: middle;\n",
       "    }\n",
       "\n",
       "    .dataframe tbody tr th {\n",
       "        vertical-align: top;\n",
       "    }\n",
       "\n",
       "    .dataframe thead th {\n",
       "        text-align: right;\n",
       "    }\n",
       "</style>\n",
       "<table border=\"1\" class=\"dataframe\">\n",
       "  <thead>\n",
       "    <tr style=\"text-align: right;\">\n",
       "      <th></th>\n",
       "      <th>area_fraction</th>\n",
       "      <th>E_gauge</th>\n",
       "    </tr>\n",
       "  </thead>\n",
       "  <tbody>\n",
       "    <tr>\n",
       "      <th>0</th>\n",
       "      <td>0.000</td>\n",
       "      <td>100</td>\n",
       "    </tr>\n",
       "    <tr>\n",
       "      <th>1</th>\n",
       "      <td>0.028</td>\n",
       "      <td>300</td>\n",
       "    </tr>\n",
       "    <tr>\n",
       "      <th>2</th>\n",
       "      <td>0.159</td>\n",
       "      <td>500</td>\n",
       "    </tr>\n",
       "    <tr>\n",
       "      <th>3</th>\n",
       "      <td>0.341</td>\n",
       "      <td>700</td>\n",
       "    </tr>\n",
       "    <tr>\n",
       "      <th>4</th>\n",
       "      <td>0.271</td>\n",
       "      <td>900</td>\n",
       "    </tr>\n",
       "    <tr>\n",
       "      <th>5</th>\n",
       "      <td>0.151</td>\n",
       "      <td>1100</td>\n",
       "    </tr>\n",
       "    <tr>\n",
       "      <th>6</th>\n",
       "      <td>0.042</td>\n",
       "      <td>1300</td>\n",
       "    </tr>\n",
       "    <tr>\n",
       "      <th>7</th>\n",
       "      <td>0.008</td>\n",
       "      <td>1500</td>\n",
       "    </tr>\n",
       "  </tbody>\n",
       "</table>\n",
       "</div>"
      ],
      "text/plain": [
       "   area_fraction  E_gauge\n",
       "0          0.000      100\n",
       "1          0.028      300\n",
       "2          0.159      500\n",
       "3          0.341      700\n",
       "4          0.271      900\n",
       "5          0.151     1100\n",
       "6          0.042     1300\n",
       "7          0.008     1500"
      ]
     },
     "execution_count": 21,
     "metadata": {},
     "output_type": "execute_result"
    },
    {
     "data": {
      "image/png": "[encoded data removed]",
      "text/plain": [
       "<Figure size 432x288 with 1 Axes>"
      ]
     },
     "metadata": {
      "needs_background": "light"
     },
     "output_type": "display_data"
    },
    {
     "data": {
      "image/png": "[encoded data removed]",
      "text/plain": [
       "<Figure size 432x288 with 1 Axes>"
      ]
     },
     "metadata": {
      "needs_background": "light"
     },
     "output_type": "display_data"
    }
   ],
   "source": [
    "import matplotlib.pyplot as plt\n",
    "import pandas as pd\n",
    "import numpy as np\n",
    "from scipy.optimize import curve_fit\n",
    "# Step 1 inputted data into two separate dictionaries\n",
    "\n",
    "gauge_dict = {\n",
    "    \"P_gauge\":[715,750,895],\n",
    "    \"E_gauge\":[460,600,1180]\n",
    "}\n",
    "area_dict = {\n",
    "    \"area_fraction\":[0.0,.028,.159,.341,.271,.151,.042,.008],\n",
    "    \"E_gauge\":[100,300,500,700,900,1100,1300,1500]\n",
    "}\n",
    "gauge_df = pd.DataFrame(gauge_dict)\n",
    "area_df = pd.DataFrame(area_dict)\n",
    "# Step 2: performed a Regression on the Limited Data Available for Precipitation and Gauge Elevation\n",
    "## Set the figure\n",
    "\n",
    "## Set the x and y values (observed gauge elevation and observed precipitation and )\n",
    "### converted to numpy arrays\n",
    "obs_elv = gauge_df['E_gauge'].values\n",
    "obs_precip =gauge_df['P_gauge'].values\n",
    "\n",
    "# Initial Plot of Points \n",
    "fig1 = plt.figure()\n",
    "ax3_1 = fig1.add_subplot(111)\n",
    "ax3_1.plot(obs_elv,obs_precip,color= \"tab:blue\", label = \"observed\")\n",
    "\n",
    "\n",
    "\n",
    "# Step 3:Created a Function for Modeling the Precipitation\n",
    "def modelP(Elevation, n):\n",
    "     \n",
    "     return \n",
    "\n",
    "fig2 = plt.figure()\n",
    "ax3 = fig2.add_subplot(111)\n",
    "\n",
    "# Step 4: Used Curve Fit to determine the necessary coefficients needed for this model\n",
    "### curve_fit(model equation,observed x, observed y, initial guess for coefficients)\n",
    "## generated coefficients for model \n",
    "popt = curve_fit(modelP, obs_elv, obs_precip, p0=(30))\n",
    "print(popt)\n",
    "est_precip = modelP(obs_elv, popt[0])\n",
    "ax3.plot(obs_elv,obs_precip,color= \"tab:blue\", label = \"observed\")\n",
    "ax3.plot(obs_elv, est_precip, color = \"tab:red\", label=\"predicted\")\n",
    "ax3.set_title(\"predicted precipitation at rain gauges\")\n",
    "ax3.set_xlabel(\"Elevation\")\n",
    "ax3.set_ylabel(\"Precipitation\") \n",
    "# Step 5: After running the model for the preset values then we will implement the new data and plot that...\n",
    "\n",
    "\n",
    "# def expCDF(x, n):\n",
    "#     return 1 - np.exp(-x*n)\n",
    "# # Fit the curve\n",
    "# popt, pcov = curve_fit(expCDF, pptSorted, pptEmpiricalCDF)\n",
    "# print(popt, pcov)\n",
    "# pptFitCDF = expCDF(pptValues,popt[0])\n",
    "# # Plot more CDFS\n",
    "# plt.figure(2)\n",
    "# plt.plot(pptSorted,pptEmpiricalCDF,'r.')\n",
    "# plt.plot(pptValues,pptInterpCDF,'g--')\n",
    "# plt.plot(pptValues,pptFitCDF,'b:')\n",
    "# plt.xlabel('Rainfall [mm]'); plt.ylabel('F(x)'); plt.xscale('log')\n",
    "area_df.head(8)"
   ]
  },
  {
   "cell_type": "markdown",
   "metadata": {},
   "source": [
    "## Results:\n",
    "and here\n",
    "\n",
    "## Discussion:\n",
    "and here\n",
    "\n",
    "\\pagebreak"
   ]
  },
  {
   "cell_type": "markdown",
   "metadata": {},
   "source": [
    "# BEE313 Problem 1.4\n",
    "\n",
    "## Objective:\n",
    "Annual rainfall totals in Corvallis [mm] from 1901 to 1999 (inclusive) are:\n",
    "\n",
    "AnnualRainfall = \n",
    "[1021.06,1052.48,1330.55,889.06,1407.20,886.63,1163.28,1168.88,897.59,1249.29,\n",
    "993.65,963.82,1240.87,958.52,1144.11,1017.51,1252.29,1074.10,897.10,1284.55,1097.71,1105.44,1000.74,933.31,966.33,903.02,1033.65,1206.93,988.68,673.89,\n",
    "654.62,1052.87,998.38,1157.67,981.55,718.48,869.52,1505.57,911.09,775.72,\n",
    "1118.34,975.42,1132.92,947.14,659.60,1200.15,1033.66,1022.35,1227.38,907.94,\n",
    "1435.88,1190.44,778.84,1326.98,1162.43,1246.73,1043.58,1034.07,1116.40,934.84,\n",
    "1126.82,1211.50,932.40,1022.74,1188.63,907.78,1015.64,887.22,1393.42,1067.60,\n",
    "1224.72,1336.84,1154.76,1238.44,1234.72,1095.73,748.32,1025.56,923.02,1071.70,\n",
    "1112.84,1200.78,1209.95,1422.25,1245.29,693.02,1112.20,967.55,970.48,766.32,\n",
    "974.69,849.93,833.45,902.90,954.75,1382.77,1918.39,1162.03,1520.63]\n",
    "\n",
    "Using the Weibul plotting position, estimate the 10-year annual precipitation total in Corvallis.\n",
    "\n",
    "## Methods:\n",
    "\n",
    "10 year return interval..."
   ]
  },
  {
   "cell_type": "code",
   "execution_count": null,
   "metadata": {},
   "outputs": [],
   "source": [
    "code...."
   ]
  },
  {
   "cell_type": "markdown",
   "metadata": {},
   "source": [
    "## Results:\n",
    "and here\n",
    "\n",
    "## Discussion:\n",
    "and here\n",
    "\n",
    "\\pagebreak"
   ]
  }
 ],
 "metadata": {
  "anaconda-cloud": {},
  "kernelspec": {
   "display_name": "Python 3",
   "language": "python",
   "name": "python3"
  },
  "language_info": {
   "codemirror_mode": {
    "name": "ipython",
    "version": 3
   },
   "file_extension": ".py",
   "mimetype": "text/x-python",
   "name": "python",
   "nbconvert_exporter": "python",
   "pygments_lexer": "ipython3",
   "version": "3.9.7"
  }
 },
 "nbformat": 4,
 "nbformat_minor": 1
}
