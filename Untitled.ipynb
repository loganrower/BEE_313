{
 "cells": [
  {
   "cell_type": "code",
   "execution_count": 5,
   "id": "alone-tooth",
   "metadata": {},
   "outputs": [
    {
     "name": "stdout",
     "output_type": "stream",
     "text": [
      "[0.01 0.02 0.03 0.04 0.05 0.06 0.07 0.08 0.09 0.1  0.11 0.12 0.13 0.14\n",
      " 0.15 0.16 0.17 0.18 0.19 0.2  0.21 0.22 0.23 0.24 0.25 0.26 0.27 0.28\n",
      " 0.29 0.3  0.31 0.32 0.33 0.34 0.35 0.36 0.37 0.38 0.39 0.4  0.41 0.42\n",
      " 0.43 0.44 0.45 0.46 0.47 0.48 0.49 0.5  0.51 0.52 0.53 0.54 0.55 0.56\n",
      " 0.57 0.58 0.59 0.6  0.61 0.62 0.63 0.64 0.65 0.66 0.67 0.68 0.69 0.7\n",
      " 0.71 0.72 0.73 0.74 0.75 0.76 0.77 0.78 0.79 0.8  0.81 0.82 0.83 0.84\n",
      " 0.85 0.86 0.87 0.88 0.89 0.9  0.91 0.92 0.93 0.94 0.95 0.96 0.97 0.98\n",
      " 0.99]\n"
     ]
    },
    {
     "data": {
      "image/png": "[encoded data removed]",
      "text/plain": [
       "<Figure size 432x288 with 1 Axes>"
      ]
     },
     "metadata": {
      "needs_background": "light"
     },
     "output_type": "display_data"
    }
   ],
   "source": [
    "import matplotlib.pyplot as plt\n",
    "import numpy as np\n",
    "\n",
    "# given\n",
    "AnnualRainfall = [1021.06,1052.48,1330.55,889.06,1407.20,886.63,1163.28,1168.88,897.59,1249.29,\n",
    "                           993.65,963.82,1240.87,958.52,1144.11,1017.51,1252.29,1074.10,897.10,1284.55,\n",
    "                           1097.71,1105.44,1000.74,933.31,966.33,903.02,1033.65,1206.93,988.68,673.89,\n",
    "                           654.62,1052.87,998.38,1157.67,981.55,718.48,869.52,1505.57,911.09,775.72,\n",
    "                           1118.34,975.42,1132.92,947.14,659.60,1200.15,1033.66,1022.35,1227.38,907.94,\n",
    "                           1435.88,1190.44,778.84,1326.98,1162.43,1246.73,1043.58,1034.07,1116.40,934.84,\n",
    "                           1126.82,1211.50,932.40,1022.74,1188.63,907.78,1015.64,887.22,1393.42,1067.60,\n",
    "                           1224.72,1336.84,1154.76,1238.44,1234.72,1095.73,748.32,1025.56,923.02,1071.70,\n",
    "                           1112.84,1200.78,1209.95,1422.25,1245.29,693.02,1112.20,967.55,970.48,766.32,\n",
    "                           974.69,849.93,833.45,902.90,954.75,1382.77,1918.39,1162.03,1520.63]  # annual rainfall in Corvallis [mm]\\\n",
    "years = np.arange(1901,2000,1)  # array of years from 1901-1999 (inclusive)\n",
    "\n",
    "pptSorted = np.sort(AnnualRainfall)\n",
    "pptRanked = np.arange(len(AnnualRainfall))+1\n",
    "pptEmpiricalCDF = pptRanked/(len(AnnualRainfall)+1)\n",
    "print(pptEmpiricalCDF)\n",
    "#plt.plot(pptSorted,pptEmpiricalCDF,'r.')\n",
    "#plt.xlabel('Rainfall [mm]'); plt.ylabel('F(x)'); plt.xscale('log')\n",
    "#plt.show()\n",
    "\n",
    "Tr = 1/(1-pptEmpiricalCDF)\n",
    "pptValues = np.arange(0,2000,1)\n",
    "pptInterpCDF = np.interp(pptValues,Tr,pptSorted)\n",
    "plt.plot(pptValues,pptInterpCDF,'g--')\n",
    "plt.plot(Tr,pptSorted,'r.')\n",
    "plt.show()\n",
    "#print(f\"{pptInterpCDF[10]} \\n\")\n",
    "#print(pptInterpCDF)\n",
    "#print(pptInterpCDF[100])\n",
    "#print(Tr)\n",
    "#print(pptSorted)"
   ]
  },
  {
   "cell_type": "code",
   "execution_count": null,
   "id": "surrounded-calcium",
   "metadata": {},
   "outputs": [],
   "source": []
  }
 ],
 "metadata": {
  "kernelspec": {
   "display_name": "Python 3",
   "language": "python",
   "name": "python3"
  },
  "language_info": {
   "codemirror_mode": {
    "name": "ipython",
    "version": 3
   },
   "file_extension": ".py",
   "mimetype": "text/x-python",
   "name": "python",
   "nbconvert_exporter": "python",
   "pygments_lexer": "ipython3",
   "version": "3.9.7"
  }
 },
 "nbformat": 4,
 "nbformat_minor": 5
}
