{
 "cells": [
  {
   "cell_type": "markdown",
   "metadata": {},
   "source": [
    "# BEE313 Problem 4.1\n",
    "\n",
    "Problem 4.1: Over a 7-hour period during which there was a rain event at a small stream in the Cascade mountains, both flow rates and the hydrologic tracer of the deuterium to hydrogen (δD) isotope ratio were measured. The flow rate was\n",
    "\n",
    "q = [0.02, 0.06, 0.12, 0.08, 0.04, 0.03, 0.02]\n",
    "\n",
    "in cubic meters per second for each of the 7 hours. The δD isotope values were measured as\n",
    "\n",
    "δD = [-11, -6, -5, -8, -9, -10, -11]\n",
    "\n",
    "in permil. Note: isotope ratios in permil can be treated as concentrations for the context of this problem. Rain begin during the second hour and had an average isotope value of δD = -4 permil. Estimate the total volume of water in the stream during this period that originated from rainfall from this storm?\n",
    "\n",
    " "
   ]
  },
  {
   "cell_type": "markdown",
   "metadata": {},
   "source": [
    "### 4.1 Thought Process\n",
    "\n",
    "> Although it says \"over a 7 hour period\" it is important to recognize that the rain event began during the second hour!\n",
    "\n",
    "> Goal is to estimate the total volume of water in the stream during this period that originated from rainall from this storm\n",
    "\n",
    "> The volume of channel precipitation, Pcp\n",
    "   * approximated the hydrographj of runoff from channel precipiation to be a triangle...\n",
    "\n",
    "Pcp = .5 * qpkc * (Tp+Tcm)\n",
    "\n",
    "qpck is at Tp... Total time - Tp = Tc\n",
    "\n",
    "Tp = 5 hours.... 2 to 7 \n",
    "\n",
    "\n",
    "> OR OTHER METHOD...\n",
    "\n",
    "Gives a fraction of water coming from rain event at peak flow..\n",
    "\n",
    "q*/q(t) = (c(t) - Cb)/ (Cevent - Cbase)\n",
    "\n",
    "> Now taking the above equation translate to total volume...\n",
    "\n",
    "cb -> unsure... maybe 0\n",
    "Cevemt  =  -4... the concentration during the rain event\n",
    "q* -> unknown flow that we will sum\n",
    "q(t) -> known list of flowrates...\n",
    "\n",
    "\n",
    "\n"
   ]
  },
  {
   "cell_type": "code",
   "execution_count": 5,
   "metadata": {},
   "outputs": [
    {
     "name": "stdout",
     "output_type": "stream",
     "text": [
      "[  0.         154.28571429 370.28571429 123.42857143  41.14285714\n",
      "  15.42857143   0.        ]\n",
      "total volume of water in the stream during this period that originated from rainfall from this storm: 704.571 m^3\n"
     ]
    }
   ],
   "source": [
    "# Import statements\n",
    "import numpy as np\n",
    "\n",
    "\n",
    "#sum(q*) = q(t)*((c(t) - Cb)/ (Cevent - Cbase))\n",
    "### Not sure if the above equation is correct... still not entirely sure about the Cbase and Cevent and I am think that in the case of this...\n",
    "###### C(t) -> \n",
    "\n",
    "q = np.array([0.02*60*60, 0.06*60*60, 0.12*60*60, 0.08*60*60, 0.04*60*60, 0.03*60*60, 0.02*60*60]) # converted such that it is the amount of water that has fell within an hour\n",
    "# assumed the c_t is all concentrations\n",
    "c_t = np.array([-11, -6, -5, -8, -9, -10, -11])\n",
    "# assumed Cevent is only concentrations from 2 hours and on\n",
    "Cevent=-4\n",
    "# assumed that Cbase was -11, baseflow occurance\n",
    "Cbase = -11\n",
    "\n",
    "### GUESSS...\n",
    "##### took the concnetation and subtracted from base value then summed to create a fraction of sorts...\n",
    "##### then I multiplied that by q..\n",
    "##### Then I summed the array\n",
    "##### This generated a value for total volume of water in the stream during this period that originated from rainfall from this storm\n",
    "q_star = q*(((c_t - Cbase))/((Cevent - Cbase)))\n",
    "print(q_star)\n",
    "vol = np.sum(q_star)\n",
    "print(f'total volume of water in the stream during this period that originated from rainfall from this storm: {vol:.3f} m^3')"
   ]
  },
  {
   "cell_type": "markdown",
   "metadata": {},
   "source": [
    "# BEE313 Problem 4.2\n",
    "\n",
    "Problem 4.2: A local watershed consists of 4 square kilometers of good pasture and 6 square kilometers of fair woodlands and is drained by a 8km stream with a 6% slope. If the soils in this area are sandy loams and of average wetness, estimate what will be the peak flow in response to a 85mm storm that lasts 2.5 hours.\n",
    "\n"
   ]
  },
  {
   "cell_type": "markdown",
   "metadata": {},
   "source": [
    "| Landcover           |            Soil        |  Area (sq mi) |  Fraction of Total area | Condition II Curve number |\n",
    "|---------------------|------------------------|---------------|-------------------------|---------------------------|\n",
    "| good  pasture       |  Sandy Loam (Group B)  |        4      |          .4             |             69            |\n",
    "| fair woodlands      |  Sandy Loam (Group B)  |        6      |          .6             |             55            |\n",
    "\n",
    "Curve numbers were found in table 10.11 of the Physical Hydrology Textbook...\n",
    "\n",
    "\n",
    "\n",
    "Watt and Chow formula was used... to compute time of concentration\n",
    "Tc = .128*((L/((S_c)^.5))^.47)\n",
    "* Sc =  sine of channel slope angle (unitless)\n",
    "* L = length of main stream (km)\n",
    "* Tc = time of conentration (hr)\n",
    "\n",
    "For time of rise \n",
    "Tr = (0.5*TP_star) + (0.6*Tc)\n",
    "* TP_star = the duration of excess rainfall (hr)\n",
    "* Tc = time of concentration estimated from Watt and Chow (hr)\n",
    "\n",
    "Peak Flow Equation:\n",
    "\n",
    "qpk = (.208*P_star*A)/(Tr)\n",
    "* A = total area (km^2)\n",
    "* qpk = peak flow (m^3/s)\n",
    "* P_star = effective rainfall (mm)\n",
    "* Tr = time of rise (hr)\n"
   ]
  },
  {
   "cell_type": "code",
   "execution_count": 10,
   "metadata": {
    "collapsed": true
   },
   "outputs": [
    {
     "name": "stdout",
     "output_type": "stream",
     "text": [
      "   \n",
      "Peak Flow with respect to the 85mm storm event 15.727 m^3/s\n",
      "31.47058823529412\n",
      "34.0\n"
     ]
    }
   ],
   "source": [
    "# Objective: Find the peak flow with respect to the storm\n",
    "\n",
    "# stream characteristics\n",
    "### sine of channel slope angle\n",
    "S_c = .06 # percentage 6%\n",
    "### stream length\n",
    "L = 8 # km\n",
    "\n",
    "#storm\n",
    "### total rainfall (P)\n",
    "P = 85 #mm\n",
    "### duration of the even\n",
    "TP_star = 2.5 #hours\n",
    "\n",
    "# average wetness of soil...\n",
    "\n",
    "# areas\n",
    "past_area = 4 # km\n",
    "wood_area = 6 #km\n",
    "### Total Area\n",
    "A = 10\n",
    "\n",
    "frac_past = past_area/A\n",
    "frac_wood = wood_area/A\n",
    "\n",
    "# Curve #\n",
    "CN_past = 69\n",
    "CN_wood = 55\n",
    "\n",
    "# Step 1: Compute the weighted average curve number\n",
    "CN_weight = (CN_past*frac_past) + (CN_wood*frac_wood)\n",
    "\n",
    "\n",
    "# Step 2: Determine Smax...\n",
    "### Smax is the watershed storage capacity that incorporates all watershed storage... including the interception, surface and subsurface storage. \n",
    "Smax = (25400/CN_weight)-254\n",
    "\n",
    "# Step 3: Determine the effective rainfall\n",
    "P_star = ((P-(.2*Smax))**2)/(P+(.8*Smax))\n",
    "\n",
    "\n",
    "print(\" \"*3)\n",
    "# Step 4: Estimate teh Concentration Time\n",
    "## Watt and Chow formula was used...\n",
    "Tc = .128*((L/((S_c)**.5))**.47)\n",
    "\n",
    "# Step 5: Calculated the time to rise\n",
    "Tr = (0.5*TP_star) + (0.6*Tc)\n",
    "\n",
    "# Step 6: Calculated the Peak Flow \n",
    "qpk = (.208*P_star*A)/(Tr)\n",
    "print(f'Peak Flow with respect to the 85mm storm event {qpk:.3f} m^3/s')\n",
    "\n",
    "## Comparision of precipiration values from prior problem and this one.. mm/hr\n",
    "event_text = 107/3.4\n",
    "event_p2 = P/TP_star\n",
    "print(event_text)\n",
    "print(event_p2)"
   ]
  },
  {
   "cell_type": "markdown",
   "metadata": {},
   "source": [
    "# BEE313 Problem 4.3\n",
    "\n",
    "Problem 4.3: Based on an extensive time series of rainfall-runoff data, a small catchment has the following half hour storm unit hydrograph (defined where 1unit corresponds to 1cm of effective precipitation): at t=1hr, q*=3.5m3/sec, at t=2hr, q*=17.5m3/sec, att=3hr, q*=8.75m3/sec, at t=4hr, q*=5.25m3/sec, at t=5hr, q*=3.25m3/sec, and at t=6hr, q*=1.5 m3/sec, where t is the time after the storm begins and q* is the event flow for that hour. If 1.5 cm of effective precipitation falls during a half-hour storm that starts at 8:00AM and 2.5 cm of effective precipitation falls during a half-hour storm that starts at 10:00AM, what is the expected peak flow out of this catchment and when does it occur?\n",
    "\n",
    " "
   ]
  },
  {
   "cell_type": "code",
   "execution_count": 74,
   "metadata": {},
   "outputs": [
    {
     "name": "stdout",
     "output_type": "stream",
     "text": [
      "Peak Outflow: 43.75 m^3/s\n",
      "Time of Peak Outflow: 12:00:00 pm\n"
     ]
    },
    {
     "data": {
      "image/png": "[encoded data removed]",
      "text/plain": [
       "<Figure size 576x576 with 1 Axes>"
      ]
     },
     "metadata": {
      "needs_background": "light"
     },
     "output_type": "display_data"
    }
   ],
   "source": [
    "import numpy as np\n",
    "import matplotlib.pyplot as plt\n",
    "from datetime import time\n",
    "# based on a storm unit hydrograph\n",
    "\n",
    "# Generate the two arrays for half hour storm unit hydrograph...\n",
    "##### 1 unit = 1 cm of effective precip\n",
    "## q* is the eventflow for that hour..\n",
    "q_star = np.array([3.5, 17.5, 8.75, 5.25, 3.25, 1.5])\n",
    "## time after storm begins\n",
    "t = np.array([1,2,3,4,5,6,])\n",
    "\n",
    "p_star1_5 = 1.5 # cm\n",
    "p_star2_5 = 2.5 # cm\n",
    "\n",
    "# Based on above hydrograph...\n",
    "## If 1.5 cm of effective precip fall during a half hour storm that starts at 8am \n",
    "## and 2.5 cn of effective precip falls during a half hour storm event that starts at 10am...\n",
    "\n",
    "## Baseically what will be done is the preipication will be multiplied by the qstar\n",
    "### And then it will be determined when the expected peak flow out of catchment is and when it occurs\n",
    "\n",
    "fig=plt.figure()\n",
    "fig.set_size_inches(8,8,8)\n",
    "\n",
    "# Step 1: Find inital peak flow...\n",
    "ax3 = fig.add_subplot(111)\n",
    "## found max value in this array...\n",
    "init_max_index = np.where(q_star == np.max(q_star))[0][0]\n",
    "tinit_max = t[init_max_index]\n",
    "q_starinit_max =q_star[init_max_index]\n",
    "\n",
    "ax3.plot(t, q_star, '--', color='tab:red')\n",
    "ax3.plot(tinit_max, q_starinit_max,'b.', markersize = 12, label = \"peak discharge initial\")\n",
    "\n",
    "# Step 2: Find the response hydrograph for effective rainfall of 1.5 cm. \n",
    "# ## Found the peak flow for this...\n",
    "time_8 = 8 # am\n",
    "q_star2 = q_star*p_star1_5\n",
    "## found max value in this array...\n",
    "init_max_index2 = np.where(q_star2 == np.max(q_star2))[0][0]\n",
    "tinit2_max = t[init_max_index2]\n",
    "q_star2init_max =q_star2[init_max_index2]\n",
    "\n",
    "ax3.plot(t, q_star2, '--', color= 'tab:cyan')\n",
    "ax3.plot(tinit2_max, q_star2init_max,'m.', markersize = 12, label = \"peak discharge at 1.5cm\")\n",
    "\n",
    "\n",
    "# Step 3: Find the response hydrograph for effective rainfall of 2.5 cm. \n",
    "# ## Found the peak flow for this...\n",
    "time_10 = 10 # am ...\n",
    "q_star3 = q_star*p_star2_5\n",
    "## found max value in this array...\n",
    "init_max_index3 = np.where(q_star3 == np.max(q_star3))[0][0]\n",
    "tinit3_max = t[init_max_index3]\n",
    "q_star3init_max =q_star3[init_max_index2]\n",
    "\n",
    "ax3.plot(t, q_star3, '--', color= 'tab:purple')\n",
    "ax3.plot(tinit3_max, q_star3init_max,'g.', markersize = 12, label = \"peak discharge at 2.5cm\")\n",
    "\n",
    "\n",
    "# Step 4: Compared Peak flows and their times... to determine peak flow and at what time\n",
    "## peak discharge at 2.5cm was peak flow...\n",
    "\n",
    "print(f'Peak Outflow: {q_star3init_max} m^3/s')\n",
    "\n",
    "## got the proper time\n",
    "pk_time = time(time_10+tinit3_max)\n",
    "print(f'Time of Peak Outflow: {pk_time} pm')\n",
    "\n",
    "##relevant axes and legend\n",
    "ax3.legend()\n",
    "ax3.set_xlabel('Time (hr)')\n",
    "ax3.set_ylabel('Discharge ($m^3/s$)')\n",
    "plt.show()\n"
   ]
  },
  {
   "cell_type": "markdown",
   "metadata": {},
   "source": [
    "# BEE313 Problem 4.4\n",
    "\n",
    "Problem 4.4: A storm with the unit hydrograph from problem 4.3 and 1cm in depth will be routed through a six-kilometer reach with a slope of 2.5 percent. If the depth of the water is 1.5m on average and the Mannings coefficient for this reach is 0.05, what will be the peak flow out of this reach and when will it occur?"
   ]
  },
  {
   "cell_type": "code",
   "execution_count": 105,
   "metadata": {},
   "outputs": [
    {
     "name": "stdout",
     "output_type": "stream",
     "text": [
      "Peak Flow out of Reach 15.815 m^3/s\n",
      "\n",
      "\n",
      "Time of Peak Flow out of Reach 2.233 hr\n",
      "\n",
      "\n"
     ]
    },
    {
     "data": {
      "image/png": "[encoded data removed]",
      "text/plain": [
       "<Figure size 576x576 with 1 Axes>"
      ]
     },
     "metadata": {
      "needs_background": "light"
     },
     "output_type": "display_data"
    }
   ],
   "source": [
    "# WHAT WILL BE PEAK FLOW OUT OF REACH AND WHEN WILL IT COME!!!\n",
    "import numpy as np\n",
    "# knowns\n",
    "\n",
    "## Storm\n",
    "p_star = 1 #cm\n",
    "\n",
    "## Hydrograph\n",
    "## q* is the eventflow for that hour..\n",
    "q_star = p_star*(np.array([3.5, 17.5, 8.75, 5.25, 3.25, 1.5])) # m^3/s\n",
    "## time after storm begins\n",
    "t = np.array([1,2,3,4,5,6])\n",
    "\n",
    "## Reach Characteristics\n",
    "#### Length (X) m\n",
    "X = 6*1000 # m\n",
    "#### Depth of discharge\n",
    "y = 1.5  #m\n",
    "#### slope\n",
    "s = .025 # %\n",
    "#### Mannings coefficient\n",
    "n_M = .05\n",
    "# unit conversion factor\n",
    "epsilon = 1 # m^(1/3)\n",
    "\n",
    "# Step 1: determine flow velocity:\n",
    "u = (epsilon/n_M)*(y**(2/3))*(s**(1/2))\n",
    "#print(f\"flow velocity {u:.3f} m/s\")\n",
    "\n",
    "# Step 2: determine the flood wave velocity\n",
    "U_flood = 1.5*u\n",
    "#print(f\"flood wave velocity {U_flood:.3f} m/s\")\n",
    "\n",
    "# Step 3: Determine travel time for the reach... T_star\n",
    "T_star = (X/U_flood)/3600 # hours\n",
    "#print(f\"Travel Time for the reach {T_star:.3f} hr\")\n",
    "\n",
    "# Step 4: Estimate teh Concentration Time\n",
    "## Watt and Chow formula was used...\n",
    "Tc = .128*(((X/1000)/((s)**.5))**.47)\n",
    "\n",
    "# Step 5: Calculated the time to rise\n",
    "Tr = (0.5*T_star) + (0.6*Tc)\n",
    "#print(f\"Travel Time for rise {Tr:.3f} hr\")\n",
    "# Step 6: routing time step\n",
    "### Δt must be less than T* and less than 1/5 the time of rise\n",
    "### of the inflow hydrograph\n",
    "##### Time for rise is .558, and time for travel is .268\n",
    "fifth_tr = (1/5)*(Tr)\n",
    "#print(fifth_tr)\n",
    "###### fifth_tr is less than T_star... so use this value as time step...\n",
    "\n",
    "### Timestep...\n",
    "delta_t = fifth_tr\n",
    "\n",
    "# Step 7: Compute Routing Coefficient:\n",
    "CX = delta_t/T_star\n",
    "#print(f'Routing Coefficient {CX:.3f} hr')\n",
    "\n",
    "# Step 8: STUCK HERE......\n",
    "#### Using interpolation to find the points between points...\n",
    "### Apply the equation 10.56.. to determing outflow hydrograph\n",
    "# interpolate to a fine timescale\n",
    "timeFine = np.arange(0, 6, delta_t)\n",
    "qInFine = np.interp(timeFine, t,q_star)\n",
    "\n",
    "qOutFine = qInFine*0\n",
    "\n",
    "# Translate the flow down the reach in time.\n",
    "for i in np.arange(0,len(timeFine)-1):\n",
    "    qOutFine[i+1] = CX*qInFine[i] + (1-CX)*qOutFine[i]\n",
    "\n",
    "# peak outflow\n",
    "pk_flow_idx = np.where(qOutFine==np.max(qOutFine))[0][0]\n",
    "time_pk = timeFine[pk_flow_idx]\n",
    "pkflow_rch = qOutFine[pk_flow_idx]\n",
    "print(f'Peak Flow out of Reach {pkflow_rch:.3f} m^3/s')\n",
    "print(\"\\n\")\n",
    "print(f'Time of Peak Flow out of Reach {time_pk:.3f} hr')\n",
    "print(\"\\n\")\n",
    "fig=plt.figure()\n",
    "fig.set_size_inches(8,8,8)\n",
    "ax4 = fig.add_subplot(111)\n",
    "ax4.plot(timeFine,qInFine,'r-',label='Inflow')\n",
    "ax4.plot(timeFine,qOutFine,'b--',label='Outflow')\n",
    "ax4.set_xlabel('Time [hrs]')\n",
    "ax4.set_ylabel('Flowrate [m$^3$/sec]')\n",
    "ax4.legend()\n",
    "plt.show()\n",
    "\n"
   ]
  },
  {
   "cell_type": "markdown",
   "metadata": {},
   "source": [
    "Peak flow will occur 2.33 hours into the event..\n"
   ]
  }
 ],
 "metadata": {
  "anaconda-cloud": {},
  "interpreter": {
   "hash": "ec4fd43df588234be800306b20d22148d8a6bf29799a747a386d7b854fd2609b"
  },
  "kernelspec": {
   "display_name": "Python 3.9.7 ('Warren_Lab')",
   "language": "python",
   "name": "python3"
  },
  "language_info": {
   "codemirror_mode": {
    "name": "ipython",
    "version": 3
   },
   "file_extension": ".py",
   "mimetype": "text/x-python",
   "name": "python",
   "nbconvert_exporter": "python",
   "pygments_lexer": "ipython3",
   "version": "3.9.7"
  }
 },
 "nbformat": 4,
 "nbformat_minor": 1
}
