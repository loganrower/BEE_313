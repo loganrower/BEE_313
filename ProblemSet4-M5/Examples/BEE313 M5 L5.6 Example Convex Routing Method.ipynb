{
 "cells": [
  {
   "cell_type": "markdown",
   "metadata": {},
   "source": [
    "# Convex Routing Method (Box 10.6)\n",
    "\n",
    "Here we apply the convex routing procedure to a fictitious inflow hydrograph and river reach. The steps follow the methods described in US Department of Agriculture (1982). SI units are assumed. The hydrograph of inflow to the channel reach is given, either as values of QIt or as a graph from which values of QIt can be determined. The development here does not consider lateral inflows; when required, these can be included as described in the above reference."
   ]
  },
  {
   "cell_type": "code",
   "execution_count": 1,
   "metadata": {},
   "outputs": [],
   "source": [
    "# Import numeric python and the plotting library\n",
    "import numpy as np\n",
    "import matplotlib.pyplot as plt\n",
    "%matplotlib inline\n",
    "\n",
    "# Inflow Hydrograph\n",
    "q0 = 0 # [m^3/s]\n",
    "qPeak = 36 # [m^3/s]\n",
    "Trise = 1 # [hrs]\n",
    "Trecession = 4 # [hrs]\n",
    "\n",
    "# As a triangular hydrograph\n",
    "qIn = [q0, qPeak, q0, q0];\n",
    "time = [0, Trise, Trise+Trecession,8]"
   ]
  },
  {
   "cell_type": "markdown",
   "metadata": {},
   "source": [
    "## Compute Reach Routing Coefficeint\n",
    "\n",
    "The flow velocity is calcualted by equations 10.43b and 10.44. Together these give\n",
    "\n",
    "$$ u = \\frac{\\varepsilon}{n_M}y^{2/3}s^{1/2} $$\n",
    "\n",
    "where $s$ is the slope, $y$ is the depth, $n_M$ is the Mannings coefficient and $ \\varepsilon $ is a unit conversation factor (1 for SI units here).\n",
    "\n",
    "The flood-wave veloicty is 1.5 times the flow velocity (equation 10.53) as\n",
    "\n",
    "$$ u_{flood} = 1.5 u $$\n",
    "\n",
    "Now, given the flood wave velocity, the travel time ($T^*$) of the wave is the distance divided by the flood wave veloicty as\n",
    "\n",
    "$$ T^* = \\frac{X}{u_{flood}} $$\n",
    "\n",
    "Finally, the routing coefficient ($CX$) is the ratio of the timestep ($\\Delta t$) to the transit time as\n",
    "\n",
    "$$ CX = \\frac{\\Delta t}{T^*} $$\n",
    "\n",
    "Where it is important that both are in the same time units. Note that $\\Delta t$ must be less than 1/5 the time to rise.\n",
    "\n",
    "Additonally, we can combine the above into a single forumla (eq 10.57) as\n",
    "\n",
    "$$ CX = \\frac{1.5 u \\Delta t}{X} = \\frac{1.5 \\varepsilon y^{2/3}s^{1/2} \\Delta t}{n_M X} $$\n",
    "\n",
    "Where again, it is important to check your units.\n",
    "\n"
   ]
  },
  {
   "cell_type": "code",
   "execution_count": 2,
   "metadata": {},
   "outputs": [
    {
     "name": "stdout",
     "output_type": "stream",
     "text": [
      "Flow velocity is 0.70 m/s\n",
      "Flood-wave velocity is 1.04 m/s\n",
      "Flood wave transit time is 2395.88 s\n",
      "Flood wave transit time is 0.67 hrs\n",
      "The routing coefficient is 0.15 (eq 10.54)\n",
      "The routing coefficient is 0.15 (eq 10.57)\n"
     ]
    }
   ],
   "source": [
    "# Given Information:\n",
    "X = 2500 # [m]\n",
    "y = 1.94 # [m]\n",
    "s = 0.0005 # [unitless]\n",
    "n = 0.05 \n",
    "epsilon = 1\n",
    "\n",
    "# Calculate flow velocity\n",
    "u = epsilon * y**(2/3) * s**(1/2)/ n\n",
    "print('Flow velocity is %.2f m/s' % u)\n",
    "\n",
    "# Estimate flood-wave velocity\n",
    "u_flood = 1.5*u\n",
    "print('Flood-wave velocity is %.2f m/s' % u_flood)\n",
    "\n",
    "# Transit time\n",
    "tStar = X/u_flood\n",
    "print('Flood wave transit time is %.2f s' % tStar)\n",
    "tStar_hrs = tStar/60/60\n",
    "print('Flood wave transit time is %.2f hrs' % tStar_hrs)\n",
    "\n",
    "# Routing Coefficient\n",
    "deltaT_hours = 0.1\n",
    "CX = deltaT_hours/tStar_hrs\n",
    "print('The routing coefficient is %.2f (eq 10.54)' %CX)\n",
    "\n",
    "# Combined formula\n",
    "deltaT_Sec = deltaT_hours*60*60\n",
    "CX = (1.5 * epsilon * y**(2/3) * s**(1/2) * deltaT_Sec) / (n * X)\n",
    "print('The routing coefficient is %.2f (eq 10.57)' %CX)"
   ]
  },
  {
   "cell_type": "markdown",
   "metadata": {},
   "source": [
    "## Resolve Outflow Hydrograph\n",
    "\n",
    "Give the routing coefficient, we now estimate the outflow hydrograph for this reach. We create a timeseries that steps by $\\delta t$ that lasts for 8 hours. \n",
    "\n",
    "Next, the outflow at the next timestep is calculated as the weighted sum of the inflow and outflow at each timestep, with $CX being the weighting factor. This is given by (eq. 10.56) as\n",
    "\n",
    "$$ Q_{out}(t+1) = CX \\; Q_{In}(t) + (1-CX) Q_{Out}(t) $$\n",
    "\n",
    "This is implemented with a simple for-loop in the python code below."
   ]
  },
  {
   "cell_type": "code",
   "execution_count": 8,
   "metadata": {},
   "outputs": [
    {
     "name": "stdout",
     "output_type": "stream",
     "text": [
      "4\n",
      "[ 0.   3.6  7.2 10.8 14.4 18.  21.6 25.2 28.8 32.4 36.  35.1 34.2 33.3\n",
      " 32.4 31.5 30.6 29.7 28.8 27.9 27.  26.1 25.2 24.3 23.4 22.5 21.6 20.7\n",
      " 19.8 18.9 18.  17.1 16.2 15.3 14.4 13.5 12.6 11.7 10.8  9.9  9.   8.1\n",
      "  7.2  6.3  5.4  4.5  3.6  2.7  1.8  0.9  0.   0.   0.   0.   0.   0.\n",
      "  0.   0.   0.   0.   0.   0.   0.   0.   0.   0.   0.   0.   0.   0.\n",
      "  0.   0.   0.   0.   0.   0.   0.   0.   0.   0. ]\n"
     ]
    }
   ],
   "source": [
    "# interpolate to a fine timescale\n",
    "timeFine = np.arange(0, 8, deltaT_hours)\n",
    "qInFine = np.interp(timeFine, time,qIn)\n",
    "qOutFine = qInFine*0\n",
    "print(qInFine)\n",
    "# Translate the flow down the reach in time.\n",
    "for i in np.arange(0,len(timeFine)-1):\n",
    "    qOutFine[i+1] = CX*qInFine[i] + (1-CX)*qOutFine[i]"
   ]
  },
  {
   "cell_type": "markdown",
   "metadata": {},
   "source": [
    "## Plot Results"
   ]
  },
  {
   "cell_type": "code",
   "execution_count": 4,
   "metadata": {},
   "outputs": [
    {
     "data": {
      "text/plain": [
       "<matplotlib.legend.Legend at 0x1f22a874a30>"
      ]
     },
     "execution_count": 4,
     "metadata": {},
     "output_type": "execute_result"
    },
    {
     "data": {
      "image/png": "[encoded data removed]",
      "text/plain": [
       "<Figure size 432x288 with 1 Axes>"
      ]
     },
     "metadata": {
      "needs_background": "light"
     },
     "output_type": "display_data"
    }
   ],
   "source": [
    "plt.plot(timeFine,qInFine,'r-',label='Inflow')\n",
    "plt.plot(timeFine,qOutFine,'b--',label='Outflow')\n",
    "plt.xlabel('Time [hrs]')\n",
    "plt.ylabel('Flowrate [m$^3$/sec]')\n",
    "plt.legend()"
   ]
  }
 ],
 "metadata": {
  "interpreter": {
   "hash": "ec4fd43df588234be800306b20d22148d8a6bf29799a747a386d7b854fd2609b"
  },
  "kernelspec": {
   "display_name": "Python 3.9.7 ('Warren_Lab')",
   "language": "python",
   "name": "python3"
  },
  "language_info": {
   "codemirror_mode": {
    "name": "ipython",
    "version": 3
   },
   "file_extension": ".py",
   "mimetype": "text/x-python",
   "name": "python",
   "nbconvert_exporter": "python",
   "pygments_lexer": "ipython3",
   "version": "3.9.7"
  }
 },
 "nbformat": 4,
 "nbformat_minor": 2
}
