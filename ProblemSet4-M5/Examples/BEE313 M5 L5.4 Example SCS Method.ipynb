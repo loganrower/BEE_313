{
 "cells": [
  {
   "cell_type": "markdown",
   "metadata": {},
   "source": [
    "# Example Application of SCS Method\n",
    "The \"Soil Conservation Service (SCS) method\" is one of the simple rainfall-runoff models used to generate design flows from small watersheds. See Box 10.9, Box 10.10, and Table 10.13 for this example."
   ]
  },
  {
   "cell_type": "markdown",
   "metadata": {},
   "source": [
    "## Estimation of P*\n",
    "\n",
    "We apply the SCS method to a rain event of 107 mm in 3.4 hr on a watershed of 3.21 square kilometers, mainstream length of 1.35 km, a main-channel slope of 0.08, and the land-cover characteristics shown in Table 10B10.1.\n",
    "\n",
    "* * *\n",
    "* * * \n",
    "\n",
    "**Table 10B10.1** Land Cover Characteristics\n",
    "\n",
    "**Land Cover**  | **Soil Group** | **Area** $(km^2)$ | **Fraction of Total Area** | **Condition II Curve Number** \n",
    "--------------- | -------------- | ----------------- | -------------------------- | -----------------------------\n",
    "Forest          | B              | 1.86              | 0.58                       | 58\n",
    "Forest          | C              | 0.39              | 0.12                       | 72\n",
    "Meadow          | A              | 0.67              | 0.21                       | 30\n",
    "Meadow          | B              | 0.28              | 0.09                       | 58\n",
    "\n",
    "The curve numbers for condition II were found from Table 10.11. The weighted-average curve number for condition II is calculated as the sum of the fraction of total area times the curve number \n",
    "\n",
    "$$ CN = (0.58 * 58) + (0.12 * 72) + (0.21 * 30) + (0.09 * 58) = 53.8 \\rightarrow 54 $$\n",
    "\n",
    "Then from Equation 10.67\n",
    "\n",
    "$$ S_{max} = \\frac{25,400}{CN} - 254 = \\frac{25,400}{54} - 254 = 216 mm $$\n",
    "\n",
    "and using this value in Equation 10.66 gives\n",
    "\n",
    "$$ P^* = \\frac{(P - 0.2*S_{max})^2}{P + 0.8*S_{max}} = \\frac{(107mm - 0.2*216mm)^2}{(107mm + 0.8*216mm)} = 14 mm $$\n",
    "\n",
    "An example code of this process is outlined below."
   ]
  },
  {
   "cell_type": "code",
   "execution_count": 1,
   "metadata": {},
   "outputs": [
    {
     "name": "stdout",
     "output_type": "stream",
     "text": [
      "Weighted average curve number for condition II = 54\n",
      "Watershed storage capacity for condition II = 216 mm\n",
      "Effective water input for condition II = 14 mm\n"
     ]
    }
   ],
   "source": [
    "import numpy as np\n",
    "import matplotlib.pyplot as plt\n",
    "\n",
    "# Define Givens\n",
    "P = 107 # rainfall event, mm \n",
    "T_Pstar = 3.4 # event duration, hr \n",
    "A_D = 3.21 # watershed area, km^2, \n",
    "L = 1.35 # mainstream length, km, \n",
    "Sc = 0.08 # main-channel slope\n",
    "\n",
    "# Land-cover characteristics (Table 10B10.1)\n",
    "areas = [1.86, 0.39, 0.67, 0.28]  # area of each land cover, km^2\n",
    "fractions = [0.58, 0.12, 0.21, 0.09] # fraction of total area, km^2/km^2\n",
    "CN_II = [58, 72, 30, 58] # condition II curve numbers\n",
    "\n",
    "# Function to find the weighted average curve number\n",
    "def weightedaverage(frac,CN):\n",
    "    return round(frac[0]*CN[0] + frac[1]*CN[1] + frac[2]*CN[2] + frac[3]*CN[3]) # the round() function provides an integer\n",
    "\n",
    "# Calculate weighted average curve number\n",
    "WCN_II = weightedaverage(fractions,CN_II)\n",
    "print('Weighted average curve number for condition II = %.f'% WCN_II)\n",
    "\n",
    "# Function to find S_max\n",
    "def Smax(WCN):\n",
    "    return (25400/WCN)-254\n",
    "\n",
    "# Calculate S_max for condition II\n",
    "Smax_II = Smax(WCN_II)\n",
    "print('Watershed storage capacity for condition II = %.f'% Smax_II, 'mm')\n",
    "\n",
    "# Function to find P*\n",
    "def Pstar(P,Smax):\n",
    "    return(P-0.2*Smax)**2/(P+0.8*Smax)\n",
    "\n",
    "# Calculate P* for condition II\n",
    "Pstar_II = Pstar(P,Smax_II)\n",
    "print('Effective water input for condition II = %.f'% Pstar_II, 'mm')"
   ]
  },
  {
   "cell_type": "markdown",
   "metadata": {},
   "source": [
    "Repeating the computations using the curve numbers adjusted for conditions I and III gives the results in Table 10B10.2.\n",
    " \n",
    "* * *\n",
    "* * *\n",
    "\n",
    "**Table 10B10.2** Comparison of $S_{max}$ and $P^*$ Values for Antecedent Wetness Conditions\n",
    "\n",
    "**Condition**  | **Weighted Curve Number** | $S_{max}$ **(mm)** | $P^*$ **(mm)**  \n",
    "-------------- | ------------------------- | ------------------ | --------------\n",
    "I              | 35                        | 472                | 0.3                       \n",
    "II             | 54                        | 216                | 14                       \n",
    "III            | 72                        | 99                 | 41                       \n",
    "\n",
    "An example code of this process is outlined below."
   ]
  },
  {
   "cell_type": "code",
   "execution_count": 2,
   "metadata": {},
   "outputs": [
    {
     "name": "stdout",
     "output_type": "stream",
     "text": [
      "Weighted average curve number for condition I = 35\n",
      "Weighted average curve number for condition III = 72\n",
      "Watershed storage capacity for condition I = 472 mm\n",
      "Watershed storage capacity for condition III = 99 mm\n",
      "Effective water input for condition I = 0.3 mm\n",
      "Effective water input for condition III = 41 mm\n"
     ]
    }
   ],
   "source": [
    "# Land-cover characteristics (see Table 10.12 to get new CN values for condition I and III)(try your best to interpolate)\n",
    "CN_I = [37.5, 53, 15, 37.5] # condition I curve numbers\n",
    "CN_III = [76, 86, 50, 76] # condition III curve numbers\n",
    "\n",
    "# Calculate weighted average curve number for condition I and III\n",
    "WCN_I = weightedaverage(fractions,CN_I)\n",
    "WCN_III = weightedaverage(fractions,CN_III)\n",
    "print('Weighted average curve number for condition I = %.f'% WCN_I)\n",
    "print('Weighted average curve number for condition III = %.f'% WCN_III)\n",
    "\n",
    "# Calculate S_max for condition I and III\n",
    "Smax_I = Smax(WCN_I)\n",
    "Smax_III = Smax(WCN_III)\n",
    "print('Watershed storage capacity for condition I = %.f'% Smax_I, 'mm')\n",
    "print('Watershed storage capacity for condition III = %.f'% Smax_III, 'mm')\n",
    "\n",
    "# Calculate P* for condition I and III\n",
    "Pstar_I = Pstar(P,Smax_I)\n",
    "Pstar_III = Pstar(P,Smax_III)\n",
    "print('Effective water input for condition I = %.1f'% Pstar_I, 'mm')\n",
    "print('Effective water input for condition III = %.f'% Pstar_III, 'mm')"
   ]
  },
  {
   "cell_type": "markdown",
   "metadata": {},
   "source": [
    "## Estimation of Peak Discharge\n",
    "To compute the peak discharge for the above event for antecedent conditions I, II, and III, we first calculate the time of concentration, $T_c$, using an appropriate formula from Table 10.8.\n",
    "\n",
    "For this example, we select the Watt and Chow formula:\n",
    "\n",
    "$$ T_C = 0.128*(\\frac{L}{S_c^{0.5}})^{0.79} = 0.128*(\\frac{1.35}{0.08^{0.5}})^{0.79} = 0.44 hr $$\n",
    "\n",
    "Note: Watt and Chow formula is appropriate for cases in the US and Canada where $ 0.01 \\leq A_D \\leq 5,840 km^2$ and $0.00121 \\leq S_c \\leq 0.0978 $\n",
    "\n",
    "From Equation 10.68,\n",
    "\n",
    "$$ T_r = 0.5 * T_{P^*} + 0.6 * T_c = 0.5 * 3.4 hr + 0.6 8 0.44 hr = 1.96 hr $$\n",
    "\n",
    "From Equation 10.71 for condition II:\n",
    "\n",
    "$$ q_{pk} = \\frac{2.08*P^**A_D}{T_r} = \\frac{0.208 * 14 mm * 3.21 km^2}{1.96 hr} = 4.78 m^3/s $$\n",
    "\n",
    "Note: the units look like they don't cancel correctly, but the numerical coefficient 0.208 accounts for this.\n",
    "\n",
    "The results for conditions I and III are:  \n",
    "Condition I: $q_{pk} = 0.105$ $m^3/s$  \n",
    "Condition III: $q_{pk} = 13.9$ $m^3/s$\n",
    "\n",
    "And example code of this process is outlined below."
   ]
  },
  {
   "cell_type": "code",
   "execution_count": 3,
   "metadata": {},
   "outputs": [
    {
     "name": "stdout",
     "output_type": "stream",
     "text": [
      "Time of concentration = 0.44 hr\n",
      "Time of rise = 1.96 hr\n",
      "Peak discharge for condition I = 0.112 m^3/s\n",
      "Peak discharge for condition II = 4.93 m^3/s\n",
      "Peak discharge for condition III = 13.9 m^3/s\n"
     ]
    }
   ],
   "source": [
    "# Calculate time of concentration\n",
    "Tc = 0.128*(L/Sc**0.5)**0.79\n",
    "print('Time of concentration = %.2f'% Tc, 'hr')\n",
    "\n",
    "# Calculate time of rise\n",
    "Tr = 0.5*T_Pstar + 0.6*Tc\n",
    "print('Time of rise = %.2f'% Tr, 'hr')\n",
    "\n",
    "# Function to find peak discharge\n",
    "def qpk(Pstar,A_D,Tr):\n",
    "    return((0.208*Pstar*A_D)/Tr)\n",
    "\n",
    "# Calculate peak discharge for each condition\n",
    "qpk_I = qpk(Pstar_I,A_D,Tr)\n",
    "qpk_II = qpk(Pstar_II,A_D,Tr)\n",
    "qpk_III = qpk(Pstar_III,A_D,Tr)\n",
    "print('Peak discharge for condition I = %.3f'% qpk_I, 'm^3/s')\n",
    "print('Peak discharge for condition II = %.2f'% qpk_II, 'm^3/s')\n",
    "print('Peak discharge for condition III = %.1f'% qpk_III, 'm^3/s')"
   ]
  },
  {
   "cell_type": "markdown",
   "metadata": {},
   "source": [
    "## Plotting the Unit-Hydrograph\n",
    "One of the most widely used transfer functions for rainfall-runoff modeling is the unit-hydrograph. The central hypothesis of the unit-hydrograph approach is that the watershed response is **linear**, i.e., the ordinates of the hydrograph responding to a steady input of $P^*$ units for a duration $T_{P^*}$ are equal to $P^*$ times the ordinates of the $T_{P^*}$-hr unit hydrograph. \n",
    "\n",
    "Using Table 10.13, the hydrograph from the example above can be plotted.      "
   ]
  },
  {
   "cell_type": "code",
   "execution_count": 4,
   "metadata": {},
   "outputs": [
    {
     "data": {
      "image/png": "[encoded data removed]",
      "text/plain": [
       "<Figure size 864x432 with 1 Axes>"
      ]
     },
     "metadata": {
      "needs_background": "light"
     },
     "output_type": "display_data"
    }
   ],
   "source": [
    "# Define SCS Dimensionless Unit Hydrograph\n",
    "ttpk = np.array([0.0, 0.1, 0.2, 0.3, 0.4, 0.5, 0.6, 0.7, 0.8, 0.9, 1.0, 1.1, 1.2, 1.3, 1.4, 1.5, 1.6, 1.8, 2.0, \n",
    "        2.2, 2.4, 2.6, 2.8, 3.0, 3.5, 4.0, 4.5, 5.0])\n",
    "qqpk = np.array([0.0, 0.015, 0.075, 0.16, 0.28, 0.43, 0.60, 0.77, 0.89, 0.97, 1.00, 0.98, 0.92, 0.84, 0.75, 0.66,\n",
    "        0.56, 0.42, 0.32, 0.24, 0.18, 0.13, 0.098, 0.075, 0.036, 0.018, 0.009, 0.004])\n",
    "\n",
    "# Calculate the outflow hydrograph for each condition\n",
    "t = ttpk*T_Pstar\n",
    "q_I = qqpk*qpk_I\n",
    "q_II = qqpk*qpk_II\n",
    "q_III = qqpk*qpk_III\n",
    "\n",
    "# Plot the hydrographs\n",
    "plt.figure(1,figsize=(12,6))\n",
    "plt.plot(t, q_I,label='Condition I')\n",
    "plt.plot(t, q_II,'--',label='Condition II')\n",
    "plt.plot(t, q_III,':',label='Condition III')\n",
    "plt.xlabel('Time since beginning of runoff (hr)') \n",
    "plt.ylabel('Discharge ($m^3/s$)')\n",
    "plt.legend()\n",
    "plt.show()"
   ]
  }
 ],
 "metadata": {
  "kernelspec": {
   "display_name": "Python 3",
   "language": "python",
   "name": "python3"
  },
  "language_info": {
   "codemirror_mode": {
    "name": "ipython",
    "version": 3
   },
   "file_extension": ".py",
   "mimetype": "text/x-python",
   "name": "python",
   "nbconvert_exporter": "python",
   "pygments_lexer": "ipython3",
   "version": "3.7.6"
  }
 },
 "nbformat": 4,
 "nbformat_minor": 2
}
