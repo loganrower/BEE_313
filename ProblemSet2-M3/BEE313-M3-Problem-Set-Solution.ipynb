{
 "cells": [
  {
   "cell_type": "markdown",
   "metadata": {},
   "source": [
    "# BEE313 Problem 2.1\n",
    "\n",
    "## Objective:\n",
    "You are asked to calculate on what day the snowpack at the Hogg Pass SNOTEL station (site 526) will fully melt, given that the snowpack has a depth of  62 inches and a snow water equivalent of 16.4 inches with a temperature of -4.5C on April 1st. Assume that no more snow falls after April 1st date and the average daily net energy flux is 5.3 MJ per square meter per day.\n",
    "\n",
    "## Methods\n",
    "The total time-to-melt is obtained from the required times to (a) warm the pack to zero, (b) release the hold water and (c) melt the remained of snow. The solution will follow the example in Box 5.2 of the text. On April first, the snowpack was 62 inches deep with a SWE of 14 inches and a temperature of -4.5C."
   ]
  },
  {
   "cell_type": "code",
   "execution_count": 1,
   "metadata": {},
   "outputs": [
    {
     "name": "stdout",
     "output_type": "stream",
     "text": [
      "3.940241039999999\n",
      "uCC= 3.940241039999999 uRR 10.534492050930556 uOO 128.59654794906942\n",
      "0.7434417056603773 1.987640009609539 24.263499613031968\n",
      "Time to melt = 27.0 days\n"
     ]
    }
   ],
   "source": [
    "# import numpy as np\n",
    "import matplotlib.pyplot as plt\n",
    "%matplotlib inline\n",
    "\n",
    "# define some constants\n",
    "ci = 2102 # [J/kg K]\n",
    "rhoW = 1000 # [km/m3]\n",
    "lambdaF = 0.334*10**6 # [J/kg]\n",
    "in_to_m = 0.0254\n",
    "\n",
    "# Given inital conditions\n",
    "initialDepth = 62 * in_to_m # [m]\n",
    "initialSWE = 16.4 * in_to_m # [m]\n",
    "initialTemp = -4.5 # [C] \n",
    "energyFlux = 5.3 # MJ/m2/day\n",
    "\n",
    "## WARMING PHASE\n",
    "# Calculate the cold content in [MJ m^-2]\n",
    "uCC = -ci * rhoW * initialSWE * (initialTemp - 0) * 10**-6\n",
    "print(uCC)\n",
    "\n",
    "# Calculate the days to warm the pack to zero\n",
    "daysToWarm = uCC / energyFlux\n",
    "\n",
    "## RIPENING PHASE\n",
    "# What is the density of the snow?\n",
    "initalDensity = initialSWE/initialDepth*rhoW\n",
    "# How much water can the snowpack hold before output\n",
    "snowpackWaterFractionMax = 3*10**-10 * (initalDensity)**3.23\n",
    "# How much water will be produced\n",
    "hWret = snowpackWaterFractionMax * initialDepth\n",
    "# How much energy is needed to melt this much snow in [MJ m**-2]\n",
    "uRR = hWret * rhoW * lambdaF * 10**-6\n",
    "# Calculate the time to melt this much water given the input flux\n",
    "daysToRipen = uRR / energyFlux\n",
    "\n",
    "## OUTPUT PHASE\n",
    "# Calculate the energy needed to melt the remainder of the snow in [MJ m^-2]\n",
    "uOO = (initialSWE - hWret) * rhoW * lambdaF * 10**-6\n",
    "# Calculate the time to melt the rest of the water\n",
    "daysToOutput = uOO / energyFlux\n",
    "\n",
    "# Return the days for each phase and the total\n",
    "totalDays = daysToWarm + daysToRipen + daysToOutput\n",
    "\n",
    "# Print answer\n",
    "print('uCC=', uCC, 'uRR', uRR, 'uOO', uOO)\n",
    "print(daysToWarm, daysToRipen, daysToOutput)\n",
    "print('Time to melt = %.1f days' %totalDays)"
   ]
  },
  {
   "cell_type": "markdown",
   "metadata": {},
   "source": [
    "## Results:\n",
    "The total time to melt is obtained as 27 days, so the snowpack will fully melt on the 28th of April.\n",
    "\n",
    "## Description:\n",
    "Because the snowpack was not that much below zero C, the first stage for warm up the snow pack takes very short compared to the total time. The second stage takes about 2 days and the last stage requires more than 24 days.\n",
    "\n",
    "\\pagebreak"
   ]
  },
  {
   "cell_type": "markdown",
   "metadata": {},
   "source": [
    "# BEE313 Problem 2.2\n",
    "\n",
    "## Objective:\n",
    "A weather station near Bend recently recorded an air temperature of 7.5C, a surface temperature of 1.2C and a relative humidity of 90%. Assuming there is no ground heat flux, water advected energy, or storage of energy at the surface, what fraction of the incoming net radiation is converted to latent enregy?\n",
    "\n",
    "## Methods\n",
    "First, the Latent Heat of Vaporization ($\\lambda_v$) is calculated using the surface temperature. The Psychrometric constant can be obtained from this value, in conjunction with the air pressure and specific heat of water. The Bowen ratio is finally derived using the vapor pressure (calculated from temperature and relative humidity) and air/surface temperatures."
   ]
  },
  {
   "cell_type": "code",
   "execution_count": 2,
   "metadata": {},
   "outputs": [
    {
     "name": "stdout",
     "output_type": "stream",
     "text": [
      "The evaporative fraction is 0.39\n"
     ]
    }
   ],
   "source": [
    "import numpy as np\n",
    "import matplotlib.pyplot as plt\n",
    "%matplotlib inline\n",
    "\n",
    "# Given Info\n",
    "airTemp = 7.5 # Air Temp [C]\n",
    "surfTemp = 1.2 # Surface Temp [C]\n",
    "rh = .90 # Relative humidity []\n",
    "\n",
    "# Constants\n",
    "ca = 1000 # Specfic heat of water [J/Kg K]\n",
    "press = 101.3 # Estimated air pressure [Pa]\n",
    "rhoW = 1000 # Density of water [kg/m3]\n",
    "netRad = 600 # Net Radiation [Wm-2]\n",
    "\n",
    "# Latent heat of vaporization and psychrometric constant\n",
    "lambdaV = (2.50 - 2.36 * 10**-3 * surfTemp) * 10**6  # Latent Heat of Vaporization [J/kg]\n",
    "psychro = ca * press / (0.622 * lambdaV) # Psychrometric constat [kPa/K]\n",
    "\n",
    "def eStarFn(inT): return 0.611*np.exp((17.3*inT)/(inT + 237.3))\n",
    "eSurf = eStarFn(surfTemp)\n",
    "eAir = eStarFn(airTemp)*rh\n",
    "\n",
    "# The Bowen Ratio (Eq 6.20)\n",
    "bowenRatio = psychro * (surfTemp-airTemp)/(eSurf-eAir) \n",
    "\n",
    "# Evaporation Fraction using Bowen Ratio \n",
    "evapFraction = 1/(1+bowenRatio)\n",
    "\n",
    "print('The evaporative fraction is %.2f' %evapFraction)"
   ]
  },
  {
   "cell_type": "markdown",
   "metadata": {},
   "source": [
    "## Results:\n",
    "The evaporative fraction is 0.39.\n",
    "\n",
    "## Description:\n",
    "At this location and time, about 40% of the incoming energy is used in evaporation. Thus much of the energy lost at this location is though sensible heat losses.\n",
    "\n",
    "\\pagebreak"
   ]
  },
  {
   "cell_type": "markdown",
   "metadata": {},
   "source": [
    "# BEE313 Problem 2.3\n",
    "\n",
    "## Objective:\n",
    "Using data provided, estimate the total evaporation from Crater Lake on a late summer day. Assume the weather station in the middle of the lake is at 2m.\n",
    " \n",
    "##  Methods\n",
    "Relative humidity, wind speed, air and lake water temperature data are used to calculate the mass transfer coefficient ($K_E$). Then this is used to estimate the evporation as:\n",
    "\n",
    "$$ E = K_E u(z) (e_{surf} - e_{air}) $$\n",
    "\n",
    "The value of $K_E$ can be calculated based on equation 6.11 of the text. "
   ]
  },
  {
   "cell_type": "code",
   "execution_count": 3,
   "metadata": {},
   "outputs": [
    {
     "name": "stdout",
     "output_type": "stream",
     "text": [
      "e_Air = 1.14 kPa, e_Surf =1.44 kPa\n",
      "Mass transfer estimated daily ET: \t 1.43 mm/day\n"
     ]
    }
   ],
   "source": [
    "import numpy as np\n",
    "%matplotlib inline\n",
    "import matplotlib.pyplot as plt\n",
    "\n",
    "# Use given information\n",
    "relativeHumidity = 0.45\n",
    "windSpeed = 2.6 # [m/s]\n",
    "airTemp = 21.3 # C\n",
    "waterTemp = 12.4 # C\n",
    "zm = 2\n",
    "z0 = 0.0012 # Table 6.4\n",
    "zd = 0\n",
    "\n",
    "# Constants\n",
    "rhoW = 1000 # Density of water [kg/m3]\n",
    "Rda = 287.04 # Universal gass constant for dry air\n",
    "press = .85*101.3 # Estimated air pressure [kPa]\n",
    "vonKarman = 0.4 # Von Karman constant\n",
    "\n",
    "# Vapor pressures in kPa\n",
    "def eStarFn(inT): return 0.611*np.exp((17.3*inT)/(inT + 237.3))\n",
    "eAir = eStarFn(airTemp)*relativeHumidity\n",
    "eSurf = eStarFn(waterTemp)\n",
    "print('e_Air = %.2f kPa,' %eAir, 'e_Surf =%.2f kPa' % eSurf)\n",
    "\n",
    "# Get KE (eq 6.11)\n",
    "rhoA = press*1000/(Rda*(airTemp+273.15))*(1-0.378*eAir/press)\n",
    "KE = (0.622 * vonKarman**2 * rhoA) / (rhoW * press * (np.log((zm-zd)/(z0)))**2)\n",
    "KE = KE * (1000*60*60*24)\n",
    "\n",
    "# Evaporation in mm/hr using Mass Transfer Approach (Eq 6.21)\n",
    "evapMT = KE * windSpeed * (eSurf - eAir) # in mm/day\n",
    "print('Mass transfer estimated daily ET: \\t %.2f mm/day'%evapMT)\n"
   ]
  },
  {
   "cell_type": "markdown",
   "metadata": {},
   "source": [
    "## Results:\n",
    "Evapotranspiration by mass transfer method is **1.4mm** on this day.\n",
    "\n",
    "## Description:\n",
    "The low evaporation from Crater lake is driven by the lake and air temperatures and the low(ish) relative humidty. When the water surface is cool relative to the air temperature, the vapor pressure gradient is smaller than when the surface is warmer. However the low realtive humidity still creates a stong enough vapor pressure gradient to drive evaporation from the lake.\n",
    "\n",
    "\n",
    "\\pagebreak"
   ]
  },
  {
   "cell_type": "markdown",
   "metadata": {},
   "source": [
    "# BEE313 Problem 2.4\n",
    "\n",
    "## Objective:\n",
    "A new variety of potatoes has recently been developed that uses less water than traditional types. This new crop is planted in April and harvested in August. It has the following crop coefficient values:\n",
    "\n",
    "            Month = [4, 5, 6, 7, 8]\n",
    "            ETr = [124, 185, 233, 284, 245]\n",
    "            Kc = [0.2, 0.5, 0.9, 0.6, 0.3]\n",
    "\n",
    "You are asked to estimate the amount of irrigation water required to grow this new potato variety in Hermiston, OR during an average growing season, assuming that precipitation is minor and that irrigation during each month much match crop water use.\n",
    "\n",
    "##  Methods\n",
    "We first obtain the average monthly ET from AgriMet for this station. Then we multiply each montly ETr value by the crop coefficeint value."
   ]
  },
  {
   "cell_type": "code",
   "execution_count": 4,
   "metadata": {},
   "outputs": [
    {
     "name": "stdout",
     "output_type": "stream",
     "text": [
      "Total crop water requirment is 570 mm per year\n"
     ]
    },
    {
     "data": {
      "text/plain": [
       "<matplotlib.legend.Legend at 0x7fb1404b3520>"
      ]
     },
     "execution_count": 4,
     "metadata": {},
     "output_type": "execute_result"
    },
    {
     "data": {
      "image/png": "[encoded data removed]",
      "text/plain": [
       "<Figure size 432x288 with 1 Axes>"
      ]
     },
     "metadata": {
      "needs_background": "light"
     },
     "output_type": "display_data"
    }
   ],
   "source": [
    "# Given values\n",
    "Month = np.array([4, 5, 6, 7, 8])\n",
    "ETr = np.array([124, 185, 233, 284, 245])\n",
    "Kc = np.array([0.2, 0.5, 0.9, 0.6, 0.3])\n",
    "\n",
    "# Total ET required is\n",
    "totalETc = np.sum(Kc*ETr)\n",
    "print('Total crop water requirment is %d mm per year' %totalETc)\n",
    "\n",
    "# Make a plot\n",
    "plt.plot(Month, ETr,label='ETr')\n",
    "plt.plot(Month, Kc*ETr,label='ETc')\n",
    "plt.legend()\n"
   ]
  },
  {
   "cell_type": "markdown",
   "metadata": {},
   "source": [
    "## Results:\n",
    "Final ETc is 570mm.\n",
    "\n",
    "## Description:\n",
    "On average, for this location, we expect a potoato crop to use **570** mm of irrigation water water in total. Thus if no rainfall occurs at this field, it will need this much water over the course of the growning season.\n",
    "\n",
    "\\pagebreak"
   ]
  },
  {
   "cell_type": "code",
   "execution_count": null,
   "metadata": {},
   "outputs": [],
   "source": []
  }
 ],
 "metadata": {
  "anaconda-cloud": {},
  "kernelspec": {
   "display_name": "Python 3",
   "language": "python",
   "name": "python3"
  },
  "language_info": {
   "codemirror_mode": {
    "name": "ipython",
    "version": 3
   },
   "file_extension": ".py",
   "mimetype": "text/x-python",
   "name": "python",
   "nbconvert_exporter": "python",
   "pygments_lexer": "ipython3",
   "version": "3.8.5"
  }
 },
 "nbformat": 4,
 "nbformat_minor": 1
}
