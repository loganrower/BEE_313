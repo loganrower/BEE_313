{
 "cells": [
  {
   "cell_type": "markdown",
   "metadata": {},
   "source": [
    "# Melt Phases Calculation Example\n",
    "The melt period of a seasonal snowpack begins when the net input of energy becomes more or less continually positive. It can be separated into three phases: warming, ripening, and output. See Box 5.2 in Dingman for this example. "
   ]
  },
  {
   "cell_type": "markdown",
   "metadata": {},
   "source": [
    "## Warming Phase\n",
    "Consider a snowpack with height ($h_s$) of 72.5cm, a density ($\\rho_s$) of 400 kg/m$^3$, a snow-water equivalent of $h_{swe}$ 29cm, and a temperature ($T_s$) -9℃. Its cold content is given by equation (5.18d): \n",
    "\n",
    "$$ U_{cc} = -c_i * \\rho_w * h_{swe} * (T_s - T_{mp}) $$\n",
    "\n",
    "Where $c_i$ is the heat capacity of ice, $\\rho_w$ is the density of water, and $T_{mp}$ is temperature at which snow melts. If the net energy flux is $F_E = 10.8 MJ/m^2*day$, it would take time, $t$, of\n",
    "\n",
    "$$ t = \\frac{U_{cc}}{F_E} $$\n",
    "\n",
    "to complete the warming phase."
   ]
  },
  {
   "cell_type": "code",
   "execution_count": 1,
   "metadata": {},
   "outputs": [
    {
     "name": "stdout",
     "output_type": "stream",
     "text": [
      "\n",
      "Cold content = 5.49 MJ/m^2\n",
      "\n",
      "Time to complete warming phase = 0.51 days\n"
     ]
    }
   ],
   "source": [
    "# Define givens\n",
    "h_s = 0.725  #cm\n",
    "rho_s = 400  #kg/m^3\n",
    "h_swe = 0.29  #m\n",
    "T_s = -9  #deg C\n",
    "\n",
    "# Define constants from textbook\n",
    "c_i = 2102  #heat capacity of ice, J/kg*K\n",
    "rho_w = 1000  #density of water, kg/m^3\n",
    "T_mp = 0  #melting point temperature, deg C\n",
    "\n",
    "# Calculate cold content\n",
    "U_cc = -c_i * rho_w * h_swe * (T_s - T_mp) / 1000000\n",
    "# convert from J to MJ with 1000000\n",
    "print(\"\\nCold content = {:0.2f} MJ/m^2\".format(U_cc))\n",
    "\n",
    "# Calculate time for warming phase\n",
    "F_E = 10.8  #MJ/m^2*day\n",
    "t_w = U_cc / F_E\n",
    "print(\"\\nTime to complete warming phase = {:0.2f} days\".format(t_w))"
   ]
  },
  {
   "cell_type": "markdown",
   "metadata": {},
   "source": [
    "## Ripening Phase\n",
    "When the net energy inputs from the atmosphere and ground equal $U_{cc}$ and the snowpack has become isothermal at the melting point, melting and the ripening phase begin. Assuming snowpack density remains at 400 $kg/m^3$, maximum its liquid-water-holding capacity ($\\theta_{ret}$) is estimated via equtaion (5.25) as\n",
    "\n",
    "$$ \\theta_{ret} = 3 * 10^{-10} * \\rho_s^{3.23} $$\n",
    "\n",
    "Then from equation (5.23), the amount of water as a depth ($h_{wret}$) is estimated as\n",
    "\n",
    "$$ h_{wret} = \\theta_{ret} * h_s. $$\n",
    "\n",
    "The energy required to produce melt that fills this capacity and brings the snowpack to a ripe condition is then found from equation (5.26) with the latent heat of freezing ($\\lambda_f$ = 0.334 MJ/kg) as\n",
    "\n",
    "$$ U_f = h_{wret} * \\rho_w * \\lambda_f $$.\n",
    "\n",
    "Again assuming similar energy inputs ($F_E$ = 10.8 MJ/m^2*day), we can calculate the amount of melt water produce in 1 day via equation (5.22):\n",
    "\n",
    "$$ \\Delta h_w = \\frac{\\Delta t * F_E}{\\rho_w*\\lambda_f} $$\n",
    "\n",
    "At this rate, the ripening phase would take\n",
    "\n",
    "$$ t = \\frac{h_{wret}}{\\Delta h_w} $$"
   ]
  },
  {
   "cell_type": "code",
   "execution_count": 2,
   "metadata": {},
   "outputs": [
    {
     "name": "stdout",
     "output_type": "stream",
     "text": [
      "\n",
      "Maximum volumetric water content = 0.076\n",
      "\n",
      "Liquid water holding capacity = 0.055 m\n",
      "\n",
      "Energy required to complete ripening = 18.4 MJ/m^2\n",
      "\n",
      "Amount of melt water = 0.0323 m\n",
      "\n",
      "Time to complete ripening phase = 1.71 days\n"
     ]
    }
   ],
   "source": [
    "# Calculate maximum volumetric water content\n",
    "theta_ret = 3*10**-10 * rho_s**3.23\n",
    "print(\"\\nMaximum volumetric water content = {:0.3f}\".format(theta_ret))\n",
    "\n",
    "# Calculate liquid-water-holding-capacity\n",
    "h_wret = theta_ret * h_s\n",
    "print(\"\\nLiquid water holding capacity = {:0.3f} m\".format(h_wret))\n",
    "\n",
    "# Calculate energy required to complete the ripening phase\n",
    "lambda_f = 0.334 #MJ/kg\n",
    "U_r = h_wret * rho_w * lambda_f\n",
    "print(\"\\nEnergy required to complete ripening = {:0.1f} MJ/m^2\".format(U_r))\n",
    "\n",
    "# Calculate amount of melt water\n",
    "dt = 1 # delta t\n",
    "delta_hw = (dt * F_E)/(rho_w * lambda_f)\n",
    "print(\"\\nAmount of melt water = {:0.4f} m\".format(delta_hw))\n",
    "\n",
    "# Calculate time for ripening phase\n",
    "t_r = h_wret / delta_hw\n",
    "print(\"\\nTime to complete ripening phase = {:0.2f} days\".format(t_r))"
   ]
  },
  {
   "cell_type": "markdown",
   "metadata": {},
   "source": [
    "## Output Phase\n",
    "The net energy required to complete the melting of the snowpack ($U_o$) is found from equation (5.27):\n",
    "\n",
    "$$ U_o = (h_{swe} - h_{wret}) * \\rho_w * \\lambda_f $$\n",
    "\n",
    "If the energy flux remained constant (at $F_E$ = 10.8 MJ/m^2*day), it would take\n",
    "\n",
    "$$ t = \\frac{U_o}{F_E} $$\n",
    "\n",
    "to completely melt the snowpack."
   ]
  },
  {
   "cell_type": "code",
   "execution_count": 3,
   "metadata": {},
   "outputs": [
    {
     "name": "stdout",
     "output_type": "stream",
     "text": [
      "\n",
      "Energy required to melt the snowpack = 78 MJ/m^2\n",
      "\n",
      "Time to complete output phase = 7.26 days\n"
     ]
    }
   ],
   "source": [
    "# Calculate energy required to melt the snowpack\n",
    "U_o = (h_swe - h_wret) * rho_w * lambda_f\n",
    "print(\"\\nEnergy required to melt the snowpack = {:0.0f} MJ/m^2\".format(U_o))\n",
    "\n",
    "# Calculate time to completely melt the snowpack\n",
    "t_o = U_o / F_E\n",
    "print(\"\\nTime to complete output phase = {:0.2f} days\".format(t_o))"
   ]
  },
  {
   "cell_type": "code",
   "execution_count": null,
   "metadata": {},
   "outputs": [],
   "source": []
  }
 ],
 "metadata": {
  "kernelspec": {
   "display_name": "Python 3",
   "language": "python",
   "name": "python3"
  },
  "language_info": {
   "codemirror_mode": {
    "name": "ipython",
    "version": 3
   },
   "file_extension": ".py",
   "mimetype": "text/x-python",
   "name": "python",
   "nbconvert_exporter": "python",
   "pygments_lexer": "ipython3",
   "version": "3.8.5"
  }
 },
 "nbformat": 4,
 "nbformat_minor": 2
}
