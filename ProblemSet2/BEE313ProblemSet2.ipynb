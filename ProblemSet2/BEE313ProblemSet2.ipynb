{
 "cells": [
  {
   "cell_type": "markdown",
   "metadata": {},
   "source": [
    "# BEE313 Problem 2.1\n",
    "\n",
    "## Objective \n",
    "The goal of this problem is to determine how long it takes for the snow pack on Hogg Pass' SNOTEL station to fully melt. After it is known that there is no more snow after April 1st. \n",
    "\n",
    "\n",
    "Equation:\n",
    "\n",
    "Total Energy to Fully Melt a SnowPack\n",
    "Utotal = Ucc + Ur + Uout\n",
    "\n",
    "Ucc = ci * rho_w * h_swe *(T_mp - T_s) # energy to get to 0C which is melting point\n",
    "\n",
    "Ur = hs * theta_wmax * rho_w * lambda_frz\n",
    "\n",
    "U_output = (h_swe - hs*theta_wmax)*rho_w*lambda_frz\n",
    "\n",
    "Time to warm snow pack = Ucc/FE, FE = net energy flux \n",
    "\n",
    "Time to Ripen = Ur/FE\n",
    "\n",
    "Tiome to Complete Output Stage = Uoutput/FE\n",
    "\n",
    "## Methods:\n",
    "The known parameters given by the problem statement were documented. After which point the energy for warming was calculated, and thus the time to warm was then found. The next facet of the equation was to determin the ripening time. The max water that could be held within the snow pack was determined, and then used to find the ripening energy. This ripening energy was then inturn utilized to calculating the time to ripen. Finally the output energy from the water released from the snow pack after the maximum water held within the snow pack had been reached was computed to find it's associated time. The three times were summed in order to compute a total time. \n",
    "\n"
   ]
  },
  {
   "cell_type": "code",
   "execution_count": 4,
   "metadata": {},
   "outputs": [
    {
     "name": "stdout",
     "output_type": "stream",
     "text": [
      "Time to warm 0.732 days\n",
      "Time to ripen 7.785 days\n",
      "Time to output 18.592 days\n",
      "The time to melt the snow pack was foudn to be 27.0 days\n"
     ]
    }
   ],
   "source": [
    "# Import statements\n",
    "import numpy as np\n",
    "\n",
    "# known parameters:\n",
    "## Net Energy Flux\n",
    "FE = 5.3 # MJ/((m^2)*(day))\n",
    "## specific heat of ice\n",
    "ci = 2120/1000000 #MJ/kgC\n",
    "## snowpack depth \n",
    "hs = 62 * 0.0254 # converted to meters\n",
    "## density of water\n",
    "rho_w = 1000 #kg/m^3, will change based on temperature...\n",
    "## Temp Melting Point\n",
    "Tmp = 0 # Celcius\n",
    "## Temp Snow Pack\n",
    "Ts = -4.5 # Celcius\n",
    "## snow water equivalent\n",
    "h_swe = 16 * .0254 # meters\n",
    "\n",
    "# Liquid Water Content Max\n",
    "### calc max where we use the snowpack density\n",
    "rho_s = 400 #kg/m^3 at 0C\n",
    "theta_wmax = (3*10**-10)*rho_s**3.23 ## Density of ice or snow here????\n",
    "# latent heat of freezing\n",
    "lambda_frz = .344 #MJ/kg\n",
    "\n",
    "# Calculated time to Warm\n",
    "Ucc = ci * rho_w * h_swe *(Tmp - Ts)\n",
    "time_warm = Ucc/FE # days\n",
    "print(f'Time to warm {time_warm:.3f} days')\n",
    "\n",
    "# Calculated Time to Ripen\n",
    "Ur = hs * theta_wmax * rho_w * lambda_frz\n",
    "time_ripe = Ur/FE\n",
    "print(f'Time to ripen {time_ripe:.3f} days')\n",
    "\n",
    "# Calculated Time to Output:\n",
    "U_output = (h_swe - hs*theta_wmax)*rho_w*lambda_frz\n",
    "time_output = U_output/FE\n",
    "print(f'Time to output {time_output:.3f} days')\n",
    "\n",
    "Time_final =  time_warm+ time_ripe + time_output\n",
    "print(f\"The time to melt the snow pack was foudn to be {np.round(Time_final)} days\")\n",
    "\n",
    "\n"
   ]
  },
  {
   "cell_type": "markdown",
   "metadata": {},
   "source": [
    "## Results:\n",
    "and here\n",
    "\n",
    "## Discussion:\n",
    "and here\n",
    "\n",
    "\\pagebreak"
   ]
  },
  {
   "cell_type": "markdown",
   "metadata": {},
   "source": [
    "# BEE313 Problem 2.2\n",
    "\n",
    "## Objective :\n",
    "The goal of this problem was to determine the fraction of net incoming radition that was converted to latent energy. This was based on the fact that there was no ground heat flux, water advected energy or energy storage at the surface. \n",
    "\n",
    "\n",
    "B = H/LE \n",
    "diff_t = (T_s - T_zm)\n",
    "\n",
    "diff_e = (e_s - e_zm)\n",
    "\n",
    "psycho = ( (cp - p )/(.622*lambda_v))\n",
    "\n",
    "B = psycho*(diff_t/diff_e)\n",
    "\n",
    "\n",
    "Assume:\n",
    "Can assume standard psycometric parameters can be used since htere is no change in elevation and thus that doesn't effect the pressure...\n",
    "\n",
    "Assume that the weathe station is elevated off the ground by approximately above a 1m\n",
    "\n",
    "## Methods:\n",
    "First determined the psychometric constant. Then after that point figured out the bowen ratio. With the bown ration it could then be related the the evaporative fraction. The sensible heat in the bowen ratio needs to be substituted for "
   ]
  },
  {
   "cell_type": "markdown",
   "metadata": {},
   "source": [
    "A weather station over a well-watered field recently recorded an air temperature of 7.5C and a relative humidity of 90%. The field surface temperature was 1.2C. Assuming there is no ground heat flux, water advected energy, or storage of energy at the surface, what fraction of the incoming net radiation is converted to latent energy?"
   ]
  },
  {
   "cell_type": "markdown",
   "metadata": {},
   "source": [
    "# BOWEN RATIO -> This is fraction of LE\n"
   ]
  },
  {
   "cell_type": "code",
   "execution_count": 32,
   "metadata": {
    "collapsed": true
   },
   "outputs": [
    {
     "name": "stdout",
     "output_type": "stream",
     "text": [
      "The Fraction of incoming radiation converted to latent energy is 0.392\n"
     ]
    }
   ],
   "source": [
    "\n",
    "# define the functions:\n",
    "def diff_t(T1, T2):\n",
    "    t_dif = T1 - T2\n",
    "    return t_dif\n",
    "def diff_e(e1, e2):\n",
    "    e_dif = e1 - e2\n",
    "    return e_dif\n",
    "def psycho():\n",
    "    psy = ((cp*p )/(.622*lambda_v))\n",
    "    return psy\n",
    "# psycho = ( (cp - p )/(.622*lambda_v))\n",
    "def Bowen(T1, T2, e1, e2):\n",
    "    B = psycho()*(diff_t(T1, T2)/diff_e(e1, e2))\n",
    "    return B\n",
    "# def Bowen():\n",
    "#     B = psycho()*(diff_t(T_s, T_zm)/diff_e(e_s, e_zm))\n",
    "#     return \n",
    "# Variables:\n",
    "## temperatures\n",
    "T_s, T_zm = 1.2, 7.5\n",
    "## psychometric values\n",
    "cp, p, lambda_v = 1*10**-3, 101.3, 2.47 #MJ/kg, kPa, MJ/kg\n",
    "\n",
    "## relative humidity\n",
    "RH = .9\n",
    "\n",
    "# calculate value for the surface vapor pressure\n",
    "e_star_s = .611*np.exp((17.3*T_s)/(T_s+237.3)) # .66\n",
    "## e_star_s is equivalent to es\n",
    "e_s =  e_star_s\n",
    "# calculate the value for the vapor pressure a 1m\n",
    "e_star_1m = .611*np.exp((17.3*T_zm)/(T_zm+237.3))\n",
    "## Requires relative humidity..\n",
    "e_zm = RH * e_star_1m \n",
    "\n",
    "# Use the function for the Bowen Ratio in order to determine the Fraction of Latent Energy\n",
    "B_ratio = Bowen(T_s, T_zm,e_s, e_zm)\n",
    "\n",
    "Evap_Frac = 1/(1+B_ratio)\n",
    "print(f\"The Fraction of incoming radiation converted to latent energy is {Evap_Frac:.3f}\") "
   ]
  },
  {
   "cell_type": "markdown",
   "metadata": {},
   "source": [
    "# BEE313 Problem 2.3\n",
    "\n",
    "## Objective \n",
    "The goal of this problem is to determine the expected daily evapotranspiration (mm/day) from Crater Lake. The data was collected on a late summer day via a floating weather station. The average air temperature at 2 meters was found to be 21.3 C, and the temperature at the surface of the water 0 meters was found to be 12.4 C. Additionally the wind speed and relative humidity were found to be 2.6 m/s and 45%. The air pressure is 85% of standard air pressure at the lake. It is also important to note that the the water vapor transfer coefficient cannot be used based on the size of the lake. \n",
    "\n",
    "Assume:\n",
    "Free water surface\n",
    "\n",
    "Due to area of lake cannot use simplified equation to solve for K_E\n",
    "\n",
    "## Methods\n",
    "First solved for the vapor pressure of an evaporating surface es by recognizing that it is equatl to the saturation vapor presur at the surface temperature. This was done using the claussius clapeyron relationship. Then the vapor pressure at 2 meters above the surfaace was computed using the relative humidty, and temperature. solved for K_E using equation 6.11 in chapter 6 of Physical Hydrology. Then this value was plugged into the standard equation in order to calculate the evaporation.\n"
   ]
  },
  {
   "cell_type": "code",
   "execution_count": 28,
   "metadata": {},
   "outputs": [
    {
     "name": "stdout",
     "output_type": "stream",
     "text": [
      "Thedaily evapotranspiration from Crater Lake 1.467 mm/day\n"
     ]
    }
   ],
   "source": [
    "from numpy import log as ln\n",
    "# ET Question\n",
    "\n",
    "# Air pressure being 85% of standrd air pressure at lake is that why we are unable to do anything with other KE equaiton?\n",
    "\n",
    "\n",
    "# Calculate Evaporation (Open Water Assumption...)using---- mass transfer method....\n",
    "\n",
    "# Values:\n",
    "# dimensionless constant\n",
    "k = .4\n",
    "## roughness height\n",
    "#### See typical value for water\n",
    "#### Table 6.4\n",
    "z_0 = .0012\n",
    "## Measurement Height\n",
    "zm = 2 # m\n",
    "## zero-plane displacement height\n",
    "#### See typically value for water\n",
    "#### Table 6.4\n",
    "zd = 0\n",
    "\n",
    "## wind speed\n",
    "u_m = 2.6 # m/s\n",
    "\n",
    "## relative humidity\n",
    "RH = .45\n",
    "\n",
    "## Temperatures\n",
    "T_2m = 21.3 #C\n",
    "T_0m = 12.4 #C\n",
    "\n",
    "# Step 1 is to determine the 2m vapor pressure using classious clapeyron\n",
    "\n",
    "e_star_2m = .611*np.exp((17.3*T_2m)/(T_2m+237.3))\n",
    "# Step 2 then plug this value into the equation for vapor pressure at height z\n",
    "## Requires relative humidity..\n",
    "\n",
    "e_zm = RH * e_star_2m \n",
    "\n",
    "# Step 3 then we know that X is our vapor pressure at e(z) and that the air pressure is 85% of standard air pressure at the lake...\n",
    "### so the air pressure is 85% of what <- assume vapor pressure to determine surface water vapor pressure...\n",
    "\n",
    "### Saturated Vapor Pressure at Surface\n",
    "e_star_0m = .611*np.exp((17.3*T_0m)/(T_0m+237.3))\n",
    "### Saturated Vapor Pressure at Surface is Equal to the Vapor PRessure of an Evaporating Surface\n",
    "e_s = e_star_0m\n",
    "# Use EQuation 6.11 to solve for K_E\n",
    "K_E = (1.20*10**-6)/(ln((zm-zd)/(z_0)))**2\n",
    "\n",
    "#  Use Equation 6.12 to solve for E\n",
    "E = K_E*u_m*(e_s-e_zm) # meters/second\n",
    "\n",
    "# converted into mm/day\n",
    "E_mm_day = E*3600*24*1000 #mm/day\n",
    "print(f\"Thedaily evapotranspiration from Crater Lake {E_mm_day:.3f} mm/day\") # Work Seems correct ##m/s\n"
   ]
  },
  {
   "cell_type": "markdown",
   "metadata": {},
   "source": [
    "# BEE313 Problem 2.4\n",
    "A new variety of potatoes has recently been developed that uses less water than traditional types. This new crop is planted in April and harvested in August. It has the following monthly crop coefficient values (April through August): Kc = [0.2, 0.5, 0.9, 0.6, 0.3]. Data from the local Agrimet station (HERO) gives the estimated monthly reference evapotranspiration for these months as: ETr = [124, 185, 233, 284, 245] in mm/month. You are asked to estimate the amount of irrigation water required to grow this new potato variety in Hermiston, OR. Assume that precipitation is minor and that irrigation during each month must match crop water use."
   ]
  },
  {
   "cell_type": "code",
   "execution_count": 25,
   "metadata": {},
   "outputs": [
    {
     "name": "stdout",
     "output_type": "stream",
     "text": [
      "[ 24.8  92.5 209.7 170.4  73.5]\n",
      "The estimated amount of irrigation from April to August is 570.9 mm\n"
     ]
    }
   ],
   "source": [
    "# ET for specific Crop type... potato\n",
    "# ETr is the reference crop evap transpriation...\n",
    "\n",
    "# Etr * crop coefficient\n",
    "\n",
    "Kc_array = np.array([0.2, 0.5, 0.9, 0.6, 0.3])\n",
    "ETr_array = np.array([124, 185, 233, 284, 245])\n",
    "\n",
    "ETc_array = Kc_array*ETr_array\n",
    "print(ETc_array)\n",
    "water = np.sum(ETc_array)\n",
    "print(f\"The estimated amount of irrigation from April to August is {water} mm\")\n",
    "# Estimate amount of irrigation water required to grow this new potato variety,...."
   ]
  },
  {
   "cell_type": "code",
   "execution_count": null,
   "metadata": {},
   "outputs": [],
   "source": []
  }
 ],
 "metadata": {
  "anaconda-cloud": {},
  "kernelspec": {
   "display_name": "Python 3",
   "language": "python",
   "name": "python3"
  },
  "language_info": {
   "codemirror_mode": {
    "name": "ipython",
    "version": 3
   },
   "file_extension": ".py",
   "mimetype": "text/x-python",
   "name": "python",
   "nbconvert_exporter": "python",
   "pygments_lexer": "ipython3",
   "version": "3.9.7"
  }
 },
 "nbformat": 4,
 "nbformat_minor": 1
}
