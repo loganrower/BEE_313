{
 "cells": [
  {
   "cell_type": "markdown",
   "metadata": {},
   "source": [
    "# BEE313 Problem 2.1\n",
    "\n",
    "## Objective \n",
    "The goal of this problem is to determine how long it takes for the snow pack on Hogg Pass' SNOTEL station to fully melt. After it is known that there is no more snow after April 1st. \n",
    "\n",
    "\n",
    "Equation:\n",
    "\n",
    "Total Energy to Fully Melt a SnowPack\n",
    "Utotal = Ucc + Ur + Uout\n",
    "\n",
    "Ucc = ci * rho_w * h_swe *(T_mp - T_s) # energy to get to 0C which is melting point\n",
    "\n",
    "Ur = hs * theta_wmax * rho_w * lambda_frz\n",
    "\n",
    "U_output = (h_swe - hs*theta_wmax)*rho_w*lambda_frz\n",
    "\n",
    "Time to warm snow pack = Ucc/FE, FE = net energy flux \n",
    "\n",
    "Time to Ripen = Ur/FE\n",
    "\n",
    "Tiome to Complete Output Stage = Uoutput/FE\n",
    "\n",
    "## Methods:\n",
    "The known parameters given by the problem statement were documented. After which point the energy for warming was calculated, and thus the time to warm was then found. The next facet of the equation was to determin the ripening time. The max water that could be held within the snow pack was determined, and then used to find the ripening energy. This ripening energy was then inturn utilized to calculating the time to ripen. Finally the output energy from the water released from the snow pack after the maximum water held within the snow pack had been reached was computed to find it's associated time. The three times were summed in order to compute a total time. \n",
    "\n"
   ]
  },
  {
   "cell_type": "code",
   "execution_count": 7,
   "metadata": {},
   "outputs": [
    {
     "name": "stdout",
     "output_type": "stream",
     "text": [
      "Time to warm 0.732 days\n",
      "Time to ripen 113.523 days\n",
      "Time to output -87.145 days\n"
     ]
    }
   ],
   "source": [
    "# Import statements\n",
    "import numpy as np\n",
    "\n",
    "# known parameters:\n",
    "## Net Energy Flux\n",
    "FE = 5.3 # MJ/((m^2)*(day))\n",
    "## specific heat of ice\n",
    "ci = 2120/1000000 #MJ/kgC\n",
    "## snowpack depth \n",
    "hs = 62 * 0.0254 # converted to meters\n",
    "## density of water\n",
    "rho_w = 1000 #kg/m^3, will change based on temperature...\n",
    "## Temp Melting Point\n",
    "Tmp = 0 # Celcius\n",
    "## Temp Snow Pack\n",
    "Ts = -4.5 # Celcius\n",
    "## snow water equivalent\n",
    "h_swe = 16 * .0254 # meters\n",
    "\n",
    "# Liquid Water Content Max\n",
    "### calc max but what is rho_i???\n",
    "rho_i = 917 #kg/m^3 at 0C\n",
    "theta_wmax = (3*10**-10)*rho_i**3.23\n",
    "# latent heat of freezing\n",
    "lambda_frz = .344 #MJ/kg\n",
    "\n",
    "# Calculated time to Warm\n",
    "Ucc = ci * rho_w * h_swe *(Tmp - Ts)\n",
    "time_warm = Ucc/FE # days\n",
    "print(f'Time to warm {time_warm:.3f} days')\n",
    "\n",
    "# Calculated Time to Ripen\n",
    "Ur = hs * theta_wmax * rho_w * lambda_frz\n",
    "time_ripe = Ur/FE\n",
    "print(f'Time to ripen {time_ripe:.3f} days')\n",
    "\n",
    "# Calculated Time to Output:\n",
    "U_output = (h_swe - hs*theta_wmax)*rho_w*lambda_frz\n",
    "time_output = U_output/FE\n",
    "print(f'Time to output {time_output:.3f} days')\n",
    "# Chapter 5 of Textbook!!!"
   ]
  },
  {
   "cell_type": "markdown",
   "metadata": {},
   "source": [
    "## Results:\n",
    "and here\n",
    "\n",
    "## Discussion:\n",
    "and here\n",
    "\n",
    "\\pagebreak"
   ]
  },
  {
   "cell_type": "markdown",
   "metadata": {},
   "source": [
    "# BEE313 Problem 2.2\n",
    "\n",
    "## Objective :\n",
    "The goal of this problem was to determine the fraction of net incoming radition that was converted to latent energy. This was based on the fact that there was no ground heat flux, water advected energy or energy storage at the surface. \n"
   ]
  },
  {
   "cell_type": "code",
   "execution_count": 6,
   "metadata": {
    "collapsed": true
   },
   "outputs": [],
   "source": [
    "# LE (Latent Energy Question..)\n",
    "\n",
    "# Little confused on the assumptions here...\n"
   ]
  },
  {
   "cell_type": "markdown",
   "metadata": {},
   "source": [
    "# BEE313 Problem 2.3\n",
    "\n",
    "On a late summer day, the floating weather station located in the center of Crater Lake recorded an average air temperature (at 2m) of 21.3C while the surface water temperature was 12.4C. At this same station, the wind speed and relative humidity were 2.6m/s and 45% (respectively). Because Cater Lake is so high, the air pressure is approximately 85% of standard air pressure and the equation to estimate the water vapor transfer coefficient based on lake area are not applicable. What is the expected daily ET in mm/day from the lake."
   ]
  },
  {
   "cell_type": "code",
   "execution_count": null,
   "metadata": {},
   "outputs": [],
   "source": [
    "# ET Question"
   ]
  },
  {
   "cell_type": "markdown",
   "metadata": {},
   "source": [
    "# BEE313 Problem 2.4\n",
    "A new variety of potatoes has recently been developed that uses less water than traditional types. This new crop is planted in April and harvested in August. It has the following monthly crop coefficient values (April through August): Kc = [0.2, 0.5, 0.9, 0.6, 0.3]. Data from the local Agrimet station (HERO) gives the estimated monthly reference evapotranspiration for these months as: ETr = [124, 185, 233, 284, 245] in mm/month. You are asked to estimate the amount of irrigation water required to grow this new potato variety in Hermiston, OR. Assume that precipitation is minor and that irrigation during each month must match crop water use."
   ]
  },
  {
   "cell_type": "code",
   "execution_count": null,
   "metadata": {},
   "outputs": [],
   "source": []
  }
 ],
 "metadata": {
  "anaconda-cloud": {},
  "kernelspec": {
   "display_name": "Python 3",
   "language": "python",
   "name": "python3"
  },
  "language_info": {
   "codemirror_mode": {
    "name": "ipython",
    "version": 3
   },
   "file_extension": ".py",
   "mimetype": "text/x-python",
   "name": "python",
   "nbconvert_exporter": "python",
   "pygments_lexer": "ipython3",
   "version": "3.9.7"
  }
 },
 "nbformat": 4,
 "nbformat_minor": 1
}
