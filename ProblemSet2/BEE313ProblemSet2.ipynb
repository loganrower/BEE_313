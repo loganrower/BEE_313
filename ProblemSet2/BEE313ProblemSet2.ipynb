{
 "cells": [
  {
   "cell_type": "markdown",
   "metadata": {},
   "source": [
    "# BEE313 Problem 2.1\n",
    "\n",
    "## Objective \n",
    "The goal of this problem is to determine how long it takes for the snow pack on Hogg Pass' SNOTEL station to fully melt. After it is known that there is no more snow after April 1st. \n",
    "\n",
    "\n",
    "Equation:\n",
    "\n",
    "Total Energy to Fully Melt a SnowPack\n",
    "Utotal = Ucc + Ur + Uout\n",
    "\n",
    "Ucc = ci * rho_w * h_swe *(T_mp - T_s) # energy to get to 0C which is melting point\n",
    "\n",
    "Ur = hs * theta_wmax * rho_w * lambda_frz\n",
    "\n",
    "U_output = (h_swe - hs*theta_wmax)*rho_w*lambda_frz\n",
    "\n",
    "Time to warm snow pack = Ucc/FE, FE = net energy flux \n",
    "\n",
    "Time to Ripen = Ur/FE\n",
    "\n",
    "Tiome to Complete Output Stage = Uoutput/FE\n",
    "\n",
    "## Methods:\n",
    "The known parameters given by the problem statement were documented. After which point the energy for warming was calculated, and thus the time to warm was then found. The next facet of the equation was to determin the ripening time. The max water that could be held within the snow pack was determined, and then used to find the ripening energy. This ripening energy was then inturn utilized to calculating the time to ripen. Finally the output energy from the water released from the snow pack after the maximum water held within the snow pack had been reached was computed to find it's associated time. The three times were summed in order to compute a total time. \n",
    "\n"
   ]
  },
  {
   "cell_type": "code",
   "execution_count": 8,
   "metadata": {},
   "outputs": [
    {
     "name": "stdout",
     "output_type": "stream",
     "text": [
      "Time to warm 0.732 days\n",
      "Time to ripen 7.785 days\n",
      "Time to output 18.592 days\n",
      "The time to melt the snow pack was foudn to be 27.0 days\n"
     ]
    }
   ],
   "source": [
    "# Import statements\n",
    "import numpy as np\n",
    "\n",
    "# known parameters:\n",
    "## Net Energy Flux\n",
    "FE = 5.3 # MJ/((m^2)*(day))\n",
    "## specific heat of ice\n",
    "ci = 2120/1000000 #MJ/kgC\n",
    "## snowpack depth \n",
    "hs = 62 * 0.0254 # converted to meters\n",
    "## density of water\n",
    "rho_w = 1000 #kg/m^3, will change based on temperature...\n",
    "## Temp Melting Point\n",
    "Tmp = 0 # Celcius\n",
    "## Temp Snow Pack\n",
    "Ts = -4.5 # Celcius\n",
    "## snow water equivalent\n",
    "h_swe = 16 * .0254 # meters\n",
    "\n",
    "# Liquid Water Content Max\n",
    "### calc max where we use the snowpack density\n",
    "rho_s = 400 #kg/m^3 at 0C\n",
    "theta_wmax = (3*10**-10)*rho_s**3.23 ## Density of ice or snow here????\n",
    "# latent heat of freezing\n",
    "lambda_frz = .344 #MJ/kg\n",
    "\n",
    "# Calculated time to Warm\n",
    "Ucc = ci * rho_w * h_swe *(Tmp - Ts)\n",
    "time_warm = Ucc/FE # days\n",
    "print(f'Time to warm {time_warm:.3f} days')\n",
    "\n",
    "# Calculated Time to Ripen\n",
    "Ur = hs * theta_wmax * rho_w * lambda_frz\n",
    "time_ripe = Ur/FE\n",
    "print(f'Time to ripen {time_ripe:.3f} days')\n",
    "\n",
    "# Calculated Time to Output:\n",
    "U_output = (h_swe - hs*theta_wmax)*rho_w*lambda_frz\n",
    "time_output = U_output/FE\n",
    "print(f'Time to output {time_output:.3f} days')\n",
    "\n",
    "Time_final =  time_warm+ time_ripe + time_output\n",
    "print(f\"The time to melt the snow pack was foudn to be {np.round(Time_final)} days\")\n",
    "\n",
    "\n"
   ]
  },
  {
   "cell_type": "markdown",
   "metadata": {},
   "source": [
    "## Results:\n",
    "and here\n",
    "\n",
    "## Discussion:\n",
    "and here\n",
    "\n",
    "\\pagebreak"
   ]
  },
  {
   "cell_type": "markdown",
   "metadata": {},
   "source": [
    "# BEE313 Problem 2.2\n",
    "\n",
    "## Objective :\n",
    "The goal of this problem was to determine the fraction of net incoming radition that was converted to latent energy. This was based on the fact that there was no ground heat flux, water advected energy or energy storage at the surface. \n",
    "\n",
    "\n",
    "B = H/LE -> H = LE * B\n",
    "\n",
    "(LE/ (H +LE)) = (1/(1+B))\n",
    "\n",
    "--------------\n",
    "\n",
    "LE / (( LE *B) + LE) = (1/(1+B))\n",
    "\n",
    "----- ---------\n",
    "LE = (((LE*B) + LE))/(1+B)\n",
    "\n",
    "---------------\n",
    "\n",
    "\n",
    "\n",
    "## Methods:\n",
    "First determined the psychometric constant. Then after that point figured out the bowen ratio. With the bown ration it could then be related the the evaporative fraction. The sensible heat in the bowen ratio needs to be substituted for "
   ]
  },
  {
   "cell_type": "markdown",
   "metadata": {},
   "source": [
    "# BOWEN BUT THEN HOW??? LIKE MAYBE EST ET WITH REFERENC BUT WE HAVE NO WIND SPEED!!"
   ]
  },
  {
   "cell_type": "code",
   "execution_count": 6,
   "metadata": {
    "collapsed": true
   },
   "outputs": [],
   "source": [
    "# LE (Latent Energy Question..)\n",
    "\n",
    "# Do we just calculate BOWEN RATIO? \n",
    "\n",
    "\n",
    "\n",
    "## no ground heat flux\n",
    "## no water advected energy \n",
    "## no storage energy at surface\n",
    "\n",
    "## what fraction of eincoming net radiation is converted to latent energy\n",
    "## relative humidity of 90%\n",
    "## \n",
    "\n",
    "# Little confused on the assumptions here...\n",
    "\n",
    "\n"
   ]
  },
  {
   "cell_type": "markdown",
   "metadata": {},
   "source": [
    "# BEE313 Problem 2.3\n",
    "\n",
    "## Objective \n",
    "The goal of this problem is to determine the expected daily evapotranspiration (mm/day) from Crater Lake. The data was collected on a late summer day via a floating weather station. The average air temperature at 2 meters was found to be 21.3 C, and the temperature at the surface of the water 0 meters was found to be 12.4 C. Additionally the wind speed and relative humidity were found to be 2.6 m/s and 45%. The air pressure is 85% of standard air pressure at the lake. It is also important to note that the the water vapor transfer coefficient cannot be used based on the size of the lake. \n",
    "\n",
    "\n",
    "\n",
    "## Methods"
   ]
  },
  {
   "cell_type": "code",
   "execution_count": 9,
   "metadata": {},
   "outputs": [
    {
     "ename": "SyntaxError",
     "evalue": "invalid syntax (165933024.py, line 11)",
     "output_type": "error",
     "traceback": [
      "\u001b[1;36m  Input \u001b[1;32mIn [9]\u001b[1;36m\u001b[0m\n\u001b[1;33m    E_denom =\u001b[0m\n\u001b[1;37m              ^\u001b[0m\n\u001b[1;31mSyntaxError\u001b[0m\u001b[1;31m:\u001b[0m invalid syntax\n"
     ]
    }
   ],
   "source": [
    "# ET Question\n",
    "## Since Evapotransipriration takes into accoutn Interception, Precipitation and Evaporation... in this case wit there being no folage and there being no precipitation...\n",
    "### This measn that evaporation is the only factor at play...\n",
    "\n",
    "# Calculate Evaporation (Open Water Assumption...)using gradient of diffusion method...\n",
    "## Fick's Law\n",
    "\n",
    "## Constant \n",
    "K_E = ((.622*k**2)*rho_a)/(rho_w*P)\n",
    "\n",
    "\n",
    "\n",
    "ET = K_E*u*z_m*(e_s-e_zm)\n",
    "\n",
    "# 1.solve for evaporation\n",
    "\n",
    "# 2. "
   ]
  },
  {
   "cell_type": "markdown",
   "metadata": {},
   "source": [
    "# BEE313 Problem 2.4\n",
    "A new variety of potatoes has recently been developed that uses less water than traditional types. This new crop is planted in April and harvested in August. It has the following monthly crop coefficient values (April through August): Kc = [0.2, 0.5, 0.9, 0.6, 0.3]. Data from the local Agrimet station (HERO) gives the estimated monthly reference evapotranspiration for these months as: ETr = [124, 185, 233, 284, 245] in mm/month. You are asked to estimate the amount of irrigation water required to grow this new potato variety in Hermiston, OR. Assume that precipitation is minor and that irrigation during each month must match crop water use."
   ]
  },
  {
   "cell_type": "code",
   "execution_count": null,
   "metadata": {},
   "outputs": [],
   "source": []
  }
 ],
 "metadata": {
  "anaconda-cloud": {},
  "kernelspec": {
   "display_name": "Python 3",
   "language": "python",
   "name": "python3"
  },
  "language_info": {
   "codemirror_mode": {
    "name": "ipython",
    "version": 3
   },
   "file_extension": ".py",
   "mimetype": "text/x-python",
   "name": "python",
   "nbconvert_exporter": "python",
   "pygments_lexer": "ipython3",
   "version": "3.9.7"
  }
 },
 "nbformat": 4,
 "nbformat_minor": 1
}
