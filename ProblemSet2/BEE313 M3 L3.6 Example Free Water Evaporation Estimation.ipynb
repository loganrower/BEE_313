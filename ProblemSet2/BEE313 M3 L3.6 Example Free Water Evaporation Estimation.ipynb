{
 "cells": [
  {
   "cell_type": "markdown",
   "metadata": {
    "slideshow": {
     "slide_type": "-"
    }
   },
   "source": [
    "# Example Notebook: Estimating Free Water Evaporaiton\n",
    "\n",
    "In this example we calcuate the free water evpoaration from Lake Hefner, Oklahoma on the 12th of July 1951. The Lake has an area of 9.4 km$^2$ and the estimated mass balance evaporation is **5.81mm**.\n",
    "\n",
    "On this day the lake has the following aveage values: $T$(2m) = 27.2 [C], $T_s$ = 26.9 [C], $RH$ = 0.69 [], $P$ 97.3 [kPa], $u$(2m) = 5.81 [m/s], $T_{s(pan)}$ = 27.5, $u_{(pan)}$ = 2.79 [m/s]. On this day the lake has the following daily total values: $K_{in}$ = [30.6 9MJ/m$^2$ day], a = 0.052, $L_{in}$ = 34.4 [MJ/m$^2$ day], and $E_{(pan)}$ = 12.4 [mm].\n",
    "\n",
    "Here we calculate the daily free-water evaporation via the mass-transfer, energy-balance, Bowen ratio, combination, and compare the results with the evaporation given by the lake water balance, which is thought to provide an accurate value for this lake."
   ]
  },
  {
   "cell_type": "markdown",
   "metadata": {},
   "source": [
    "## Mass Transfer Methods\n",
    "\n",
    "The basic mass-transfer relation is\n",
    "\n",
    "$$ E_0 = K_E u(2m) [e_s - e(2m)] $$\n",
    "\n",
    "The value of $K_E$ can be calucated from the average wave height ($z_d = 0.0012$) or based on the lake area. Note how correcting for the area of the lake decreases the estimated flux."
   ]
  },
  {
   "cell_type": "code",
   "execution_count": 1,
   "metadata": {},
   "outputs": [
    {
     "name": "stdout",
     "output_type": "stream",
     "text": [
      "Mass transfer total ET (wave height): \t 11.1 mm/day\n",
      "Mass transfer total ET (lake Area): \t 6.9 mm/day\n"
     ]
    }
   ],
   "source": [
    "# Import numeric python and the plotting library\n",
    "import numpy as np\n",
    "import matplotlib.pyplot as plt\n",
    "%matplotlib inline\n",
    "\n",
    "# Given Information\n",
    "relativeHumidity = 0.69\n",
    "windSpeed = 5.81 # [m/s]\n",
    "T2m = 27.2 # C\n",
    "Ts = 26.9 # C\n",
    "zm = 2 # m\n",
    "press = 97.3 # Estimated air pressure [kPa]\n",
    "lakeArea = 9.4 # Km^2\n",
    "\n",
    "# Constants\n",
    "rhoW = 996 # Density of water [kg/m3]\n",
    "Rda = 287.04 # Universal gass constant for dry air\n",
    "vonKarman = 0.4 # Von Karman constant\n",
    "z0 = 0.0012 # Table 6.4\n",
    "zd = 0 # Table 6.4\n",
    "\n",
    "# Vapor pressures in kPa [Equation 6.2]\n",
    "def eStarFn(inT): return 0.611*np.exp((17.3*inT)/(inT + 237.3))\n",
    "eAir = eStarFn(T2m)*relativeHumidity\n",
    "eSurf = eStarFn(Ts)\n",
    "\n",
    "# Get K_E [Equation 6.11]\n",
    "rhoA = press*1000/(Rda*(T2m+273.15))*(1-0.378*eAir/press)\n",
    "K_E = (0.622 * vonKarman**2 * rhoA) / (rhoW * press * (np.log((zm-zd)/(z0)))**2)\n",
    "K_E = K_E*(1000*60*60*24)# convert to mm/m/day\n",
    "\n",
    "# Evaporation in mm/hr using Mass Transfer Approach (Eq 6.21)\n",
    "evapMT = K_E * windSpeed * (eSurf - eAir)\n",
    "print('Mass transfer total ET (wave height): \\t %.1f mm/day'%evapMT)\n",
    "\n",
    "# KE based on lake area (Equation 6.28)\n",
    "K_E = 1.26*lakeArea**-0.05\n",
    "evapMT = K_E * windSpeed * (eSurf - eAir) \n",
    "print('Mass transfer total ET (lake Area): \\t %.1f mm/day'%evapMT)\n"
   ]
  },
  {
   "cell_type": "markdown",
   "metadata": {},
   "source": [
    "## The Energy Balance Method\n",
    "\n",
    "The energy balance can be used to esimate the evaporaiton as\n",
    "\n",
    "$$  E_0 = \\frac{K+L-H}{\\rho_w \\lambda_v} $$\n",
    "\n",
    "For the energy balance we need $K$, $L$, and $H$. Once these are solved for we plug into the above equation."
   ]
  },
  {
   "cell_type": "code",
   "execution_count": 2,
   "metadata": {},
   "outputs": [
    {
     "name": "stdout",
     "output_type": "stream",
     "text": [
      "Energy balance total ET: \t 10.1 mm/day\n"
     ]
    }
   ],
   "source": [
    "# More Given Information\n",
    "K_in = 30.6\n",
    "L_in = 34.4\n",
    "albedo = 0.052\n",
    "\n",
    "# More Constants\n",
    "emissivity_water = 1-albedo\n",
    "stefanBoltzman = 4.9*10**-9\n",
    "lambdaV = 2.50 - (2.36*10**-3*Ts) # (equation 6.14)\n",
    "\n",
    "# Sortwave energy (eq. 6B1.1)\n",
    "K = K_in*(1-albedo)\n",
    "\n",
    "# Longwave energy (eq. 6B1.4 and 6B1.6)\n",
    "L_out = emissivity_water*stefanBoltzman*(Ts+273.15)**4 + (1-emissivity_water)*L_in\n",
    "L = L_in - L_out\n",
    "\n",
    "# Sensible heat (equation 6.16 and 6.17)\n",
    "K_H =  1.95*10**-4/ (np.log((zm-zd)/(z0)))**2\n",
    "K_H = K_H*(60*60*24)# convert to MJ/m/day\n",
    "H = K_H * windSpeed * (Ts - T2m) \n",
    "\n",
    "# Solve for E_0\n",
    "evapEnergyBalance = (K + L - H)/(rhoW*lambdaV) *1000\n",
    "print('Energy balance total ET: \\t %.1f mm/day'%evapEnergyBalance)\n"
   ]
  },
  {
   "cell_type": "markdown",
   "metadata": {},
   "source": [
    "## The Energy Balance Method with Bowen Ratio\n",
    "\n",
    "The Bowen Ratio is defined as the ratio of sensible to to latent heat as\n",
    "\n",
    "$$ B = \\frac{H}{LE} = \\gamma\\frac{[T_s - T(2m)]}{[e_s - e(2m)]} $$\n",
    "\n",
    "where $\\gamma$ ist he psycrhrometric constant. Note the **Evaporative Fraction** is the fraciton of incomming energy that goes into evaporation and is given by\n",
    "\n",
    "$$ EF = \\frac{LE}{H + LE} = \\frac{1}{B+1} $$\n",
    "\n",
    "The energy balance can be used with the bowen ratio to esimate the evaporaiton as\n",
    "\n",
    "$$  E_0 = \\frac{K+L}{\\rho_w \\lambda_v (1+B)} $$\n",
    "\n",
    "For the energy balance we need $K$, $L$, and $B$. Once these are solved for we plug into the above equation."
   ]
  },
  {
   "cell_type": "code",
   "execution_count": 3,
   "metadata": {},
   "outputs": [
    {
     "name": "stdout",
     "output_type": "stream",
     "text": [
      "Energy balance with Bowen Ratio total ET: \t 10.1 mm/day\n"
     ]
    }
   ],
   "source": [
    "# Calcualte psychrometric constant (equation 6.21)\n",
    "c_a = 1*10**-3\n",
    "gamma = (c_a*press)/(0.622*lambdaV)\n",
    "\n",
    "# Bowen Ratio (eq 6.32)\n",
    "B = gamma*(Ts-T2m)/(eSurf-eAir)\n",
    "\n",
    "# Energy Balance Flux\n",
    "evapBowen = (K + L)/(rhoW*lambdaV*(1+B)) *1000\n",
    "print('Energy balance with Bowen Ratio total ET: \\t %.1f mm/day'%evapBowen)\n"
   ]
  },
  {
   "cell_type": "markdown",
   "metadata": {},
   "source": [
    "## Combination\n",
    "\n",
    "To use the combination equation be need the slope of the vapor pressure curve ($\\Delta$). With this we can calculate the evaporation with the combination equation:\n",
    "\n",
    "$$ E_0 = \\frac{\\Delta(K+L) + \\gamma \\rho_w K_E \\lambda_v u(2m) [e^*(2m) - e(2m)]}{\\rho_w \\lambda_v (\\Delta + \\gamma)} $$\n",
    "\n",
    "The value of $\\Delta$ is calcualated with equation 6.4 and then the combination equation is solved"
   ]
  },
  {
   "cell_type": "code",
   "execution_count": 4,
   "metadata": {},
   "outputs": [
    {
     "name": "stdout",
     "output_type": "stream",
     "text": [
      "Energy balance total ET: \t 8.3 mm/day\n"
     ]
    }
   ],
   "source": [
    "# Slope of vapor pressure curve\n",
    "Delta = 2508.3/((T2m+237.3)**2) * np.exp((17.3*T2m)/(T2m+237.3))\n",
    "\n",
    "# Combinatio Equation (Note that K_E must be adjusted to the correct units)\n",
    "evapCombo = (Delta*(K + L) + gamma*rhoW*K_E*10**-3*windSpeed*(eStarFn(T2m) - eAir))/(\n",
    "    (rhoW*lambdaV*(Delta + gamma))) *1000\n",
    "print('Energy balance total ET: \\t %.1f mm/day'%evapCombo)"
   ]
  },
  {
   "cell_type": "markdown",
   "metadata": {},
   "source": [
    "## Review\n",
    "Note the range of values here. The observed mass balance estimate was 5.8mm, while the other estimates ranged from 6.9 to 11.1mm. \n"
   ]
  },
  {
   "cell_type": "code",
   "execution_count": null,
   "metadata": {},
   "outputs": [],
   "source": []
  }
 ],
 "metadata": {
  "kernelspec": {
   "display_name": "Python 3",
   "language": "python",
   "name": "python3"
  },
  "language_info": {
   "codemirror_mode": {
    "name": "ipython",
    "version": 3
   },
   "file_extension": ".py",
   "mimetype": "text/x-python",
   "name": "python",
   "nbconvert_exporter": "python",
   "pygments_lexer": "ipython3",
   "version": "3.7.6"
  }
 },
 "nbformat": 4,
 "nbformat_minor": 2
}
