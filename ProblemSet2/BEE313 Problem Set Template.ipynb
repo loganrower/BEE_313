{
 "cells": [
  {
   "cell_type": "markdown",
   "metadata": {},
   "source": [
    "# BEE313 Problem 2.1\n",
    "\n",
    "\n",
    "You are asked to calculate on what day the snowpack at the Hogg Pass SNOTEL station (site 526) will fully melt, given that the snowpack has a depth of  62 inches and a snow water equivalent of 16.4 inches with a temperature of -4.5C on April 1st. Assume that no more snow falls after April 1st date and the average daily net energy flux is 5.3 MJ per square meter per day."
   ]
  },
  {
   "cell_type": "code",
   "execution_count": 2,
   "metadata": {},
   "outputs": [],
   "source": [
    "# Import statements\n",
    "import numpy as np\n",
    "\n",
    "# more code goes here..."
   ]
  },
  {
   "cell_type": "markdown",
   "metadata": {},
   "source": [
    "## Results:\n",
    "and here\n",
    "\n",
    "## Discussion:\n",
    "and here\n",
    "\n",
    "\\pagebreak"
   ]
  },
  {
   "cell_type": "markdown",
   "metadata": {},
   "source": [
    "# BEE313 Problem 2.2\n",
    "\n",
    "A weather station over a well-watered field recently recorded an air temperature of 7.5C and a relative humidity of 90%. The field surface temperature was 1.2C. Assuming there is no ground heat flux, water advected energy, or storage of energy at the surface, what fraction of the incoming net radiation is converted to latent energy?"
   ]
  },
  {
   "cell_type": "code",
   "execution_count": 6,
   "metadata": {
    "collapsed": true
   },
   "outputs": [],
   "source": [
    "# More code goes here..."
   ]
  },
  {
   "cell_type": "markdown",
   "metadata": {},
   "source": [
    "# BEE313 Problem 2.3\n",
    "\n",
    "On a late summer day, the floating weather station located in the center of Crater Lake recorded an average air temperature (at 2m) of 21.3C while the surface water temperature was 12.4C. At this same station, the wind speed and relative humidity were 2.6m/s and 45% (respectively). Because Cater Lake is so high, the air pressure is approximately 85% of standard air pressure and the equation to estimate the water vapor transfer coefficient based on lake area are not applicable. What is the expected daily ET in mm/day from the lake."
   ]
  },
  {
   "cell_type": "markdown",
   "metadata": {},
   "source": [
    "# BEE313 Problem 2.4\n",
    "A new variety of potatoes has recently been developed that uses less water than traditional types. This new crop is planted in April and harvested in August. It has the following monthly crop coefficient values (April through August): Kc = [0.2, 0.5, 0.9, 0.6, 0.3]. Data from the local Agrimet station (HERO) gives the estimated monthly reference evapotranspiration for these months as: ETr = [124, 185, 233, 284, 245] in mm/month. You are asked to estimate the amount of irrigation water required to grow this new potato variety in Hermiston, OR. Assume that precipitation is minor and that irrigation during each month must match crop water use."
   ]
  },
  {
   "cell_type": "code",
   "execution_count": null,
   "metadata": {},
   "outputs": [],
   "source": []
  }
 ],
 "metadata": {
  "anaconda-cloud": {},
  "kernelspec": {
   "display_name": "Python 3",
   "language": "python",
   "name": "python3"
  },
  "language_info": {
   "codemirror_mode": {
    "name": "ipython",
    "version": 3
   },
   "file_extension": ".py",
   "mimetype": "text/x-python",
   "name": "python",
   "nbconvert_exporter": "python",
   "pygments_lexer": "ipython3",
   "version": "3.6.6"
  }
 },
 "nbformat": 4,
 "nbformat_minor": 1
}
