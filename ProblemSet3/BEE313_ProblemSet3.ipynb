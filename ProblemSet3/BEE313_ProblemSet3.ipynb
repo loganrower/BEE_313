{
 "cells": [
  {
   "cell_type": "markdown",
   "metadata": {},
   "source": [
    "Problem 3.1: A new wine grape has been developed locally and was tested exclusively in silty-clay soils within the Willamette Valley. In these soils, tests have shown that the volumetric soil water content at which this grape becomes stressed is 0.42 cm3/cm3. If this grape were to be grown in sandy soils elsewhere in Oregon, what would the volumetric water content at which this vine become stressed be assuming the Campbell pedotransfer function represents these soils well."
   ]
  },
  {
   "cell_type": "code",
   "execution_count": null,
   "metadata": {
    "vscode": {
     "languageId": "plaintext"
    }
   },
   "outputs": [],
   "source": []
  },
  {
   "cell_type": "markdown",
   "metadata": {},
   "source": [
    "Problem 3.2: In an arid region with clay soils, a summer storm brings a total of 40 mm of rainfall over 1 hour. You are monitoring a small watershed for flash flood hazards and have installed an array of soil moisture probes in the basin at 10 cm below the surface. At the time that infiltration reaches these soil probes, how many cm of surface runoff (infiltration excess) may have occurred within this catchment if the initial soil water content is 35% by volume."
   ]
  },
  {
   "cell_type": "code",
   "execution_count": null,
   "metadata": {
    "vscode": {
     "languageId": "plaintext"
    }
   },
   "outputs": [],
   "source": []
  },
  {
   "cell_type": "markdown",
   "metadata": {},
   "source": [
    "Problem 3.3: The town of Millersburg OR is located between the Willamette and Santiam Rivers. These two rivers, which are approximately 6.2km apart, both flow north in parallel with Millersburg in between. If the Willamette River has a surface elevation of 52m above sea level and the Santiam River has a surface elevation of 65m above sea level, what is the expected height of the water table at Millersburg (which is 2.3km from the Willamette River)? Below the Willamette valley the confining layer has a height of about 45m above sea level, the average annual recharge is about 500 mm/year, and the hydraulic conductivity is 51.8m/day."
   ]
  },
  {
   "cell_type": "code",
   "execution_count": null,
   "metadata": {
    "vscode": {
     "languageId": "plaintext"
    }
   },
   "outputs": [],
   "source": []
  },
  {
   "cell_type": "markdown",
   "metadata": {},
   "source": [
    "Problem 3.4: A well 0.5m diameter well is installed in a confined aquifer that is 50m thick. After pumping for a sufficient time to reach steady state, it was found that the drawdown in hydraulic head at the well casing (25cm) was 2m below the original hydraulic head before pumping began. An adjacent monitoring well located 30m away has a drawdown of 0.25m. If the well pumps 500 cubic meters a day, what is the expected hydraulic conductivity of this confined aquifer."
   ]
  },
  {
   "cell_type": "code",
   "execution_count": null,
   "metadata": {
    "vscode": {
     "languageId": "plaintext"
    }
   },
   "outputs": [],
   "source": []
  },
  {
   "cell_type": "markdown",
   "metadata": {},
   "source": []
  }
 ],
 "metadata": {
  "language_info": {
   "name": "python"
  },
  "orig_nbformat": 4
 },
 "nbformat": 4,
 "nbformat_minor": 2
}
