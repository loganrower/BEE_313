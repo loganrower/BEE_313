{
 "cells": [
  {
   "cell_type": "markdown",
   "metadata": {},
   "source": [
    "Problem 3.1: \n",
    "> A new wine grape has been developed locally and was tested exclusively in silty-clay soils within the Willamette Valley. In these soils, tests have shown that the volumetric soil water content at which this grape becomes stressed is 0.42 cm3/cm3. If this grape were to be grown in sandy soils elsewhere in Oregon, what would the volumetric water content at which this vine become stressed be assuming the Campbell pedotransfer function represents these soils well.\n",
    "\n",
    "ph_silt = air_ph_1*(porosity_1/X1)**b_1\n",
    "\n",
    "ph_sand = air_ph_2*(porosity_2/X2)**b_2\n",
    "X2 = 1/(((ph_sand/air_ph)**(1/b_2))*(1/(porosity)))"
   ]
  },
  {
   "cell_type": "code",
   "execution_count": 113,
   "metadata": {},
   "outputs": [
    {
     "name": "stdout",
     "output_type": "stream",
     "text": [
      "pressure head 254.00398410430125\n",
      " \n",
      "Volumetric Water Content of Sand\n",
      "0.18627892508674773\n"
     ]
    }
   ],
   "source": [
    "# What would volumetric water content at\n",
    "# # which this vine become stressed\n",
    "# Assuming the campbell pedotransfer function represents these soils well\n",
    "\n",
    "\n",
    "# X1 is known volumetric content...\n",
    "# X2 is unknown volumetric content\n",
    "# ph_silt = ph_sand... assume that... then solbe for X2\n",
    "\n",
    "\n",
    "# First solved for the pressure head associated wtih the soil type of silty clay and the volumetric soil water content of .42 cm3/cm3\n",
    "X1 = .42\n",
    "porosity_1 = .492\n",
    "air_ph_1 = 49\n",
    "b_1 = 10.4\n",
    "\n",
    "ph_silt = air_ph_1*(porosity_1/X1)**b_1\n",
    "\n",
    "print(\"pressure head\", ph_silt)\n",
    "\n",
    "# Then solved for the volemtric water content in the sand soil assuming same pressure head...\n",
    "porosity_2 = .395\n",
    "air_ph_2 = 12.1\n",
    "ph_sand = ph_silt\n",
    "b_2 = 4.05\n",
    "#X2 = 1/(((ph_sand/air_ph_2)**(1/b_2))*(1/(porosity_2)))\n",
    "X2 = (air_ph_2*((porosity_2**b_2)/ph_sand))**(1/b_2)\n",
    "print(\" \")\n",
    "print(\"Volumetric Water Content of Sand\")\n",
    "print(X2)\n"
   ]
  },
  {
   "cell_type": "markdown",
   "metadata": {},
   "source": [
    "Problem 3.2: \n",
    "> In an arid region with clay soils, a summer storm brings a total of 40 mm of rainfall over 1 hour. You are monitoring a small watershed for flash flood hazards and have installed an array of soil moisture probes in the basin at 10 cm below the surface. At the time that infiltration reaches these soil probes, how many cm of surface runoff (infiltration excess) may have occurred within this catchment if the initial soil water content is 35% by volume.\n",
    "\n",
    "\n",
    "ASSUME: \n",
    "* infiltration rate is 10cm/hour\n",
    "* constnt rainfall so 4cm/hour \n",
    "\n",
    "Ponding time is not when it reaches soil moisture probes...\n",
    "\n"
   ]
  },
  {
   "cell_type": "code",
   "execution_count": 158,
   "metadata": {},
   "outputs": [
    {
     "name": "stdout",
     "output_type": "stream",
     "text": [
      "0.15588471971066908\n",
      "0.6235388788426763\n",
      "1.32\n",
      "0.25341790365485806\n",
      "0.30632838538056784\n"
     ]
    }
   ],
   "source": [
    "# Infiltration Excess ... saturation from above\n",
    "# So this means all pores are fill...\n",
    "\n",
    "import numpy as np\n",
    "import matplotlib.pyplot as plt\n",
    "import pandas as pd\n",
    "# CLAY SOIL\n",
    "\n",
    "# KNOWNS:\n",
    "k_h_sec = 1.28*(10**-4)  # cm/s\n",
    "k_h_hr = k_h_sec * 60*60  # cm/hr\n",
    "psi_ae = 40.5  # cm\n",
    "w = 40/10  # cm/hour\n",
    "z_f = 10  # cm\n",
    "b = 11.4\n",
    "time_total = 1  # hour\n",
    "# porosity of clay...\n",
    "porosity = .482  # proportion...\n",
    "# In Arid Region -> Given the inital water content as a proportion of volume...\n",
    "theta_init = .35  # proportion.\n",
    "\n",
    "# found psi_f...\n",
    "psi_f = ((2*b + 3)/(2*b + 6))*psi_ae\n",
    "\n",
    "# Calculated the Time to Pond.\n",
    "###### w > K_H\n",
    "# Then when we get time to pond\n",
    "theta_w = porosity\n",
    "## Time to pond...\n",
    "Tp = (k_h_hr * psi_f*(theta_w - theta_init))/(w*(w-k_h_hr))\n",
    "print(Tp)\n",
    "\n",
    "# Amount of infiltration that occurs up until point of ponding..\n",
    "## Assumed that infiltration is constant at rainfall rate of 4cm/hour\n",
    "F_Tp = w * Tp \n",
    "\n",
    "\n",
    "# Then calculated the cumulative infiltration at the depth of... soil probes\n",
    "F_T = z_f*(porosity-theta_init)\n",
    "print(F_Tp)\n",
    "print(F_T)\n",
    "# Time: That it takes to reach F_Tp\n",
    "t = ((F_T - F_Tp)/k_h_hr)+((psi_f*(porosity-theta_init)/k_h_hr))*np.log((F_Tp+psi_f*(porosity-theta_init))/(F_T+psi_f*(porosity-theta_init)))\n",
    "print(t)\n",
    "\n",
    "# Infiltration excess\n",
    "# Rainfall fall rate times time in hours t...\n",
    "# F_T is the amou t of infiltration that has occurred\n",
    "fexcess_T_list = F_T - w*t # rainfall - infiltration ponding... \n",
    "print(fexcess_T_list)\n"
   ]
  },
  {
   "cell_type": "code",
   "execution_count": 126,
   "metadata": {},
   "outputs": [
    {
     "name": "stdout",
     "output_type": "stream",
     "text": [
      "400\n",
      "The Runoff\n",
      "1.867\n"
     ]
    }
   ],
   "source": [
    "# Infiltration Excess ... saturation from above\n",
    "# So this means all pores are fill...\n",
    "\n",
    "import numpy as np\n",
    "import matplotlib.pyplot as plt\n",
    "import pandas as pd\n",
    "# CLAY SOIL\n",
    "\n",
    "# KNOWNS:\n",
    "k_h_sec = 1.28*10**(-4)  # cm/s\n",
    "k_h_hr = k_h_sec * 60*60  # cm/hr\n",
    "psi_ae = 40.5  # cm\n",
    "w = 40/10  # cm/hour\n",
    "z_p = 10  # cm\n",
    "b = 11.4\n",
    "time_total = 1  # hour\n",
    "# porosity of clay...\n",
    "porosity = .482  # proportion...\n",
    "# In Arid Region -> Given the inital water content as a proportion of volume...\n",
    "theta_init = .35  # proportion.\n",
    "\n",
    "# found psi_f...\n",
    "psi_f = ((2*b + 3)/(2*b + 6))*psi_ae\n",
    "\n",
    "# Calculated the Time to Pond.\n",
    "###### w > K_H\n",
    "# Then when we get time to pond\n",
    "theta_w = porosity\n",
    "Tp = (k_h_hr * psi_f*(theta_w - theta_init))/(w*(w-k_h_hr))\n",
    "\n",
    "\n",
    "# Infiltration is constant at the rainfall rate, 4cm/hr\n",
    "# from 0 until.... Tp = .02313 hr\n",
    "# Cumulative Infiltration During this time... while tw>tP\n",
    "F_T = w * Tp\n",
    "\n",
    "# Cumulative Precipitation Values\n",
    "# CP = w * t....where w remains constant and the\n",
    "F_list = np.arange(.01, w*time_total+.01, .01)\n",
    "\n",
    "# Time of cumulative infiltration (8.36)\n",
    "t_F_list = (\n",
    "    (F_list-F_T)/k_h_hr +\n",
    "    psi_f*(porosity-theta_init)/k_h_hr *\n",
    "    np.log((F_T+psi_f*(porosity-theta_init))/(F_list+psi_f*(porosity-theta_init))) +\n",
    "    Tp)\n",
    "# instantaneous\n",
    "f_T_list = k_h_hr*(1 + psi_f*(porosity-theta_init)/F_list)\n",
    "\n",
    "# wetting front\n",
    "z_f = F_list/(porosity - theta_init)\n",
    "\n",
    "# Check for time longer than storm or before Tp\n",
    "f_T_list[t_F_list > time_total] = np.nan\n",
    "f_T_list[t_F_list <= Tp] = np.nan\n",
    "f_T_list[z_f > z_p] = np.nan\n",
    "t_F_list[0] = Tp\n",
    "f_T_list[0] = w  # Set first value to f=w at t=0\n",
    "\n",
    "# Infiltration excess\n",
    "# Rainfall minus infiltration rate\n",
    "fexcess_T_list = w - f_T_list\n",
    "\n",
    "fexcess_T_list = fexcess_T_list[np.logical_not(np.isnan(fexcess_T_list))]\n",
    "\n",
    "print(\"The Runoff\")\n",
    "print(np.round(fexcess_T_list[-1], decimals=3))\n"
   ]
  },
  {
   "cell_type": "markdown",
   "metadata": {},
   "source": [
    "Problem 3.3: \n",
    "> The town of Millersburg OR is located between the Willamette and Santiam Rivers. These two rivers, which are approximately 6.2km apart, both flow north in parallel with Millersburg in between. If the Willamette River has a surface elevation of 52m above sea level and the Santiam River has a surface elevation of 65m above sea level, what is the expected height of the water table at Millersburg (which is 2.3km from the Willamette River)? Below the Willamette valley the confining layer has a height of about 45m above sea level, the average annual recharge is about 500 mm/year, and the hydraulic conductivity is 51.8m/day."
   ]
  },
  {
   "cell_type": "code",
   "execution_count": 125,
   "metadata": {},
   "outputs": [
    {
     "name": "stdout",
     "output_type": "stream",
     "text": [
      "20.406455051864597\n"
     ]
    }
   ],
   "source": [
    "# What is the expected height of the water table?\n",
    "# Confining layer of height of 45 , above sea level which is below the willamette valley\n",
    "# Average Annual reachagre is 500 mm/ year, hydraulic conductivity is 51.8 m/day...\n",
    "R_in = (500/(1000*365))  # m/year\n",
    "k_h = 51.8  # m/day\n",
    "h_o = 52 -45 # m\n",
    "hL = 65 -45 # m\n",
    "L = 6.2 * 1000  # m\n",
    "x = 2.3 * 1000  # m\n",
    "\n",
    "h_x = (((-R_in/k_h)*x**2)+(((hL**2)-(h_o**2))/L)*x+(R_in/k_h)*L*x + h_o**2)**(1/2)\n",
    "\n",
    "print(h_x)  # above the confined layer...\n"
   ]
  },
  {
   "cell_type": "markdown",
   "metadata": {},
   "source": [
    "Problem 3.4: \n",
    "> A well 0.5m diameter well is installed in a confined aquifer that is 50m thick. After pumping for a sufficient time to reach steady state, it was found that the drawdown in hydraulic head at the well casing (25cm) was 2m below the original hydraulic head before pumping began. An adjacent monitoring well located 30m away has a drawdown of 0.25m. If the well pumps 500 cubic meters a day, what is the expected hydraulic conductivity of this confined aquifer."
   ]
  },
  {
   "cell_type": "code",
   "execution_count": 111,
   "metadata": {},
   "outputs": [
    {
     "name": "stdout",
     "output_type": "stream",
     "text": [
      "-175.0\n",
      "-4.0943445622221\n",
      "0.0043097564536975505\n"
     ]
    }
   ],
   "source": [
    "# monitoring well means that there is no pumping...\n",
    "\n",
    "import numpy as np\n",
    "\n",
    "Qpump = 500*100*100*100/(24*60*60)  # cm3/second\n",
    "\n",
    "# Aquifer Thickness\n",
    "H = 50*100\n",
    "\n",
    "# Well (2)\n",
    "h1 = H-(2*100)  # cm\n",
    "r1 = .5*100  # cm\n",
    "\n",
    "# monitoring point (2)\n",
    "r2 = 30*100  # cm\n",
    "h2 = H - (.25*100)  # cm\n",
    "\n",
    "# Need to Solve for Hydraulic Conductivity\n",
    "\n",
    "k_H = (Qpump/(2*(np.pi)*H*((h1 - h2))))*np.log(r1/r2)\n",
    "print(k_H)\n"
   ]
  },
  {
   "cell_type": "markdown",
   "metadata": {},
   "source": []
  }
 ],
 "metadata": {
  "interpreter": {
   "hash": "ec4fd43df588234be800306b20d22148d8a6bf29799a747a386d7b854fd2609b"
  },
  "kernelspec": {
   "display_name": "Python 3.9.7 ('Warren_Lab')",
   "language": "python",
   "name": "python3"
  },
  "language_info": {
   "codemirror_mode": {
    "name": "ipython",
    "version": 3
   },
   "file_extension": ".py",
   "mimetype": "text/x-python",
   "name": "python",
   "nbconvert_exporter": "python",
   "pygments_lexer": "ipython3",
   "version": "3.9.7"
  },
  "orig_nbformat": 4
 },
 "nbformat": 4,
 "nbformat_minor": 2
}
