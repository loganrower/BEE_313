{
 "cells": [
  {
   "cell_type": "markdown",
   "metadata": {},
   "source": [
    "Problem 3.1: \n",
    "> A new wine grape has been developed locally and was tested exclusively in silty-clay soils within the Willamette Valley. In these soils, tests have shown that the volumetric soil water content at which this grape becomes stressed is 0.42 cm3/cm3. If this grape were to be grown in sandy soils elsewhere in Oregon, what would the volumetric water content at which this vine become stressed be assuming the Campbell pedotransfer function represents these soils well.\n",
    "\n",
    "ph_silt = air_ph_1*(porosity_1/X1)**b_1\n",
    "\n",
    "ph_sand = air_ph_2*(porosity_2/X2)**b_2\n",
    "X2 = 1/(((ph_sand/air_ph)**(1/b_2))*(1/(porosity)))"
   ]
  },
  {
   "cell_type": "code",
   "execution_count": 4,
   "metadata": {},
   "outputs": [
    {
     "name": "stdout",
     "output_type": "stream",
     "text": [
      "pressure head 254.00398410430125\n",
      " \n",
      "Volumetric Water Content of Sand\n",
      "0.18627892508674776\n"
     ]
    }
   ],
   "source": [
    "# What would volumetric water content at \n",
    "# # which this vine become stressed\n",
    "# Assuming the campbell pedotransfer function represents these soils well\n",
    "\n",
    "\n",
    "## X1 is known volumetric content...\n",
    "## X2 is unknown volumetric content\n",
    "## ph_silt = ph_sand... assume that... then solbe for X2\n",
    "\n",
    "\n",
    "# First solved for the pressure head associated wtih the soil type of silty clay and the volumetric soil water content of .42 cm3/cm3\n",
    "X1 = .42\n",
    "porosity_1 = .492\n",
    "air_ph_1 = 49\n",
    "b_1 = 10.4\n",
    "\n",
    "ph_silt = air_ph_1*(porosity_1/X1)**b_1\n",
    "\n",
    "print(\"pressure head\", ph_silt)\n",
    "\n",
    "# Then solved for the volemtric water content in the sand soil assuming same pressure head...\n",
    "porosity_2 = .395\n",
    "air_ph_2= 12.1\n",
    "ph_sand = ph_silt\n",
    "b_2 = 4.05\n",
    "X2 = 1/(((ph_sand/air_ph_2)**(1/b_2))*(1/(porosity_2)))\n",
    "\n",
    "print(\" \")\n",
    "print(\"Volumetric Water Content of Sand\")\n",
    "print(X2)"
   ]
  },
  {
   "cell_type": "markdown",
   "metadata": {},
   "source": [
    "Problem 3.2: \n",
    "> In an arid region with clay soils, a summer storm brings a total of 40 mm of rainfall over 1 hour. You are monitoring a small watershed for flash flood hazards and have installed an array of soil moisture probes in the basin at 10 cm below the surface. At the time that infiltration reaches these soil probes, how many cm of surface runoff (infiltration excess) may have occurred within this catchment if the initial soil water content is 35% by volume.\n",
    "\n",
    "\n",
    "ASSUME: \n",
    "* infiltration rate is 10cm/hour\n",
    "* constnt rainfall so 4cm/hour "
   ]
  },
  {
   "cell_type": "code",
   "execution_count": 21,
   "metadata": {},
   "outputs": [
    {
     "name": "stdout",
     "output_type": "stream",
     "text": [
      "3.9074627306273064\n"
     ]
    }
   ],
   "source": [
    "# Infiltration Excess ... saturation from above\n",
    "### So this means all pores are fill...\n",
    "\n",
    "\n",
    "#CLAY SOIL\n",
    "\n",
    "## KNOWNS:\n",
    "k_h_sec = 1.28*10**(-4) #cm/s\n",
    "k_h_hr = k_h_sec *60*60 # cm/hr\n",
    "psi_ae = 40.5 # cm\n",
    "w = 10 #cm/hour\n",
    "p = 40/10 #cm/hour\n",
    "b = 11.4\n",
    "time_total = 1 # hour\n",
    "#### porosity of clay...\n",
    "porosity = .482  # proportion...\n",
    "#### In Arid Region -> Given the inital water content as a proportion of volume...\n",
    "theta_init = .35 # proportion..\n",
    "\n",
    "# Important to note that \n",
    "##   w > k_h_hr\n",
    "\n",
    "\n",
    "\n",
    "\n",
    "\n",
    "### Darcy's Law in Finite Difference Form... Provides the Depth of Wetting Front at Tp...\n",
    "\n",
    "\n",
    "psi_f = ((2*b + 3)/(2*b + 6))*psi_ae\n",
    "\n",
    "z = (k_h_hr * psi_f)/(w-k_h_hr)\n",
    "\n",
    "# print(\"Depth\")\n",
    "\n",
    "# print(z)\n",
    "\n",
    "### Calculated the Time to Pond.\n",
    "###### porosity = theta_w\n",
    "#### Then when we get time to pond we can then extrapolate to the amount that was left on surface after that point.\n",
    "theta_w =  porosity\n",
    "Tp = (k_h_hr * psi_f*(theta_w - theta_init))/(w*(w-k_h_hr))\n",
    "\n",
    "# print(\"Time hours\")\n",
    "# print(Tp)\n",
    "# print(\"Time minutes\")\n",
    "# print(Tp*60)\n",
    "\n",
    "#### Then determined that the amount of time that would be for ponding..\n",
    "t_pond = time_total-Tp\n",
    "\n",
    "\n",
    "#### Then computed the cumulative amount of water ponded at the surfacs..\n",
    "runoff = t_pond * p ## amount that doesn't infiltrate...\n",
    "print(runoff)\n",
    "# ### Then computed infiltration Rate (8.34)\n",
    "# F_t = z*(theta_w - theta_init)\n",
    "# f_t = k_h_hr*(1+((psi_f)*(theta_w - theta_init)/F_t))\n",
    "\n",
    "# ### Then computed the hortonian overland flow\n",
    "# ##### p. 481\n",
    "\n",
    "# q_ho = p - f_t\n",
    "# Page 373???\n"
   ]
  },
  {
   "cell_type": "markdown",
   "metadata": {},
   "source": [
    "Problem 3.3: \n",
    "> The town of Millersburg OR is located between the Willamette and Santiam Rivers. These two rivers, which are approximately 6.2km apart, both flow north in parallel with Millersburg in between. If the Willamette River has a surface elevation of 52m above sea level and the Santiam River has a surface elevation of 65m above sea level, what is the expected height of the water table at Millersburg (which is 2.3km from the Willamette River)? Below the Willamette valley the confining layer has a height of about 45m above sea level, the average annual recharge is about 500 mm/year, and the hydraulic conductivity is 51.8m/day."
   ]
  },
  {
   "cell_type": "code",
   "execution_count": null,
   "metadata": {},
   "outputs": [],
   "source": []
  },
  {
   "cell_type": "markdown",
   "metadata": {},
   "source": [
    "Problem 3.4: A well 0.5m diameter well is installed in a confined aquifer that is 50m thick. After pumping for a sufficient time to reach steady state, it was found that the drawdown in hydraulic head at the well casing (25cm) was 2m below the original hydraulic head before pumping began. An adjacent monitoring well located 30m away has a drawdown of 0.25m. If the well pumps 500 cubic meters a day, what is the expected hydraulic conductivity of this confined aquifer."
   ]
  },
  {
   "cell_type": "code",
   "execution_count": null,
   "metadata": {},
   "outputs": [],
   "source": []
  },
  {
   "cell_type": "markdown",
   "metadata": {},
   "source": []
  }
 ],
 "metadata": {
  "interpreter": {
   "hash": "ec4fd43df588234be800306b20d22148d8a6bf29799a747a386d7b854fd2609b"
  },
  "kernelspec": {
   "display_name": "Python 3.9.7 ('Warren_Lab')",
   "language": "python",
   "name": "python3"
  },
  "language_info": {
   "codemirror_mode": {
    "name": "ipython",
    "version": 3
   },
   "file_extension": ".py",
   "mimetype": "text/x-python",
   "name": "python",
   "nbconvert_exporter": "python",
   "pygments_lexer": "ipython3",
   "version": "3.9.7"
  },
  "orig_nbformat": 4
 },
 "nbformat": 4,
 "nbformat_minor": 2
}
