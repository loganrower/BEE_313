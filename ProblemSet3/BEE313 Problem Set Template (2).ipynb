{
 "cells": [
  {
   "cell_type": "markdown",
   "metadata": {},
   "source": [
    "# BEE313 Problem 1.1\n",
    "\n",
    "## Objective \n",
    "The goal of this problem was to determine the volumetric water conent when a new wine grape would become stressed in Sandy Soil. \n",
    "## Methods:\n",
    "The campbell pedotransfer function was used in order to determine the pressure head associated with wine grapes becoming stressed in silty-clay soils. Then using this same pressure head, the parameters for sandy soil were applied to the pedo transfer function and it was solved for the volumetric content of the sandy soil.\n",
    "\n",
    "\n",
    "ph_silt = air_ph_1*(porosity_1/X1)**b_1\n",
    "\n",
    "ph_sand = air_ph_2*(porosity_2/X2)**b_2\n",
    "X2 = 1/(((ph_sand/air_ph)**(1/b_2))*(1/(porosity)))\n"
   ]
  },
  {
   "cell_type": "code",
   "execution_count": 15,
   "metadata": {},
   "outputs": [
    {
     "name": "stdout",
     "output_type": "stream",
     "text": [
      "pressure head 254.004\n",
      " \n",
      "Volumetric Water Content of Sand\n",
      "0.186\n"
     ]
    }
   ],
   "source": [
    "# X1 is known volumetric content...\n",
    "# X2 is unknown volumetric content\n",
    "# ph_silt = ph_sand... assume that... then solbe for X2\n",
    "\n",
    "# First solved for the pressure head associated wtih the soil type of silty clay and the volumetric soil water content of .42 cm3/cm3\n",
    "X1 = .42\n",
    "porosity_1 = .492\n",
    "air_ph_1 = 49\n",
    "b_1 = 10.4\n",
    "\n",
    "ph_silt = air_ph_1*(porosity_1/X1)**b_1\n",
    "\n",
    "print(f\"pressure head {ph_silt:.3f}\")\n",
    "\n",
    "# Then solved for the volemtric water content in the sand soil assuming same pressure head...\n",
    "porosity_2 = .395\n",
    "air_ph_2 = 12.1\n",
    "ph_sand = ph_silt\n",
    "b_2 = 4.05\n",
    "#X2 = 1/(((ph_sand/air_ph_2)**(1/b_2))*(1/(porosity_2)))\n",
    "X2 = (air_ph_2*((porosity_2**b_2)/ph_sand))**(1/b_2)\n",
    "print(\" \")\n",
    "print(\"Volumetric Water Content of Sand\")\n",
    "print(f\"{X2:.3f}\")"
   ]
  },
  {
   "cell_type": "markdown",
   "metadata": {},
   "source": [
    "## Results:\n",
    "The volumetric water conent of the sandy soil was determined to be .186cm^3/cm^3 at a presure head of 254 cm. \n",
    "## Discussion:\n",
    "\n",
    "The pressure head for these two soils was deemed to be the same, and due to the fact that the two soils have different pore sizes, this allows for different rates of evapotranspiration and drainage. This ultimately leads to less water storage within the larger pores, and thus thus indicating that there would be a lower volumetric soil water content due to this reduction in storage capacity. \n"
   ]
  },
  {
   "cell_type": "markdown",
   "metadata": {},
   "source": [
    "# BEE313 Problem 1.2\n",
    "\n",
    "## Objective \n",
    "The goal of this problem was to determine the amount of surface runoff that occurred, after the water had infiltrated 10cm down to the ends soil moisture probes. It was assumed that the time to pond was not the same as the time that the water reached teh soil moisture probes.  \n",
    "## Methods:\n",
    "The time to pond was first determined. Then after this point the cumulative infiltration that occurred up until this point of ponding was found. Then the cumulative precipitation was calculated for when the wetting front reached the soil moisture probes 10cm down. With this value and the time to pond infiltration the time that it took to infiltrate to the probes was found. Finally the excess infiltration was found by multiplying the time by the precipitation rate and subtracting the cumultative infiltration over that period from that.\n",
    "\n"
   ]
  },
  {
   "cell_type": "code",
   "execution_count": 16,
   "metadata": {
    "collapsed": true
   },
   "outputs": [
    {
     "name": "stdout",
     "output_type": "stream",
     "text": [
      "Surface Runoff: 0.317 cm\n",
      "time to reach 10cm in soil: 24.558 minutes\n"
     ]
    }
   ],
   "source": [
    "# Infiltration Excess ... saturation from above\n",
    "# So this means all pores are fill...\n",
    "\n",
    "import numpy as np\n",
    "import matplotlib.pyplot as plt\n",
    "import pandas as pd\n",
    "# CLAY SOIL\n",
    "\n",
    "# KNOWNS:\n",
    "k_h_sec = 1.28*(10**-4)  # cm/s\n",
    "k_h_hr = k_h_sec * 60*60  # cm/hr\n",
    "psi_ae = 40.5  # cm\n",
    "w = 40/10  # cm/hour\n",
    "z_f = 10  # cm\n",
    "b = 11.4\n",
    "time_total = 1  # hour\n",
    "# porosity of clay...\n",
    "porosity = .482  # proportion...\n",
    "# In Arid Region -> Given the inital water content as a proportion of volume...\n",
    "theta_init = .35  # proportion.\n",
    "\n",
    "# found psi_f...\n",
    "psi_f = ((2*b + 3)/(2*b + 6))*psi_ae\n",
    "\n",
    "# Calculated the Time to Pond.\n",
    "###### w > K_H\n",
    "# Then when we get time to pond\n",
    "theta_w = porosity\n",
    "## Time to pond...\n",
    "Tp = (k_h_hr * psi_f*(theta_w - theta_init))/(w*(w-k_h_hr))\n",
    "\n",
    "\n",
    "# Amount of infiltration that occurs up until point of ponding..\n",
    "## Assumed that infiltration is constant at rainfall rate of 4cm/hour\n",
    "F_Tp = w * Tp \n",
    "\n",
    "\n",
    "# Then calculated the cumulative infiltration at the depth of... soil probes\n",
    "F_T = z_f*(porosity-theta_init)\n",
    "# Time: That it takes to reach F_Tp\n",
    "t = ((F_T - F_Tp)/k_h_hr)+((psi_f*(porosity-theta_init)/k_h_hr))*np.log((F_Tp+psi_f*(porosity-theta_init))/(F_T+psi_f*(porosity-theta_init)))+Tp\n",
    "\n",
    "# Infiltration excess\n",
    "# Rainfall fall rate times time in hours t...\n",
    "# F_T is the amou t of infiltration that has occurred\n",
    "fexcess_T = w*t- F_T # rainfall - infiltration ponding... \n",
    "print(f\"Surface Runoff: {fexcess_T:.3f} cm\")\n",
    "print(f\"time to reach 10cm in soil: {t*60:.3f} minutes\")"
   ]
  },
  {
   "cell_type": "markdown",
   "metadata": {},
   "source": [
    "## Resuts:\n",
    "The surface runoff was determined to be .317cm.\n",
    "\n",
    "## Discussion:\n",
    "It took 25 minutes assuming that the soil was iniitally saturated for the water to infiltrate through the column and reach the soil moisture probes. After the ponding time was reached water was still able to infiltrate through the soil column, and is why the wetting front continued to move further through the soil profile."
   ]
  },
  {
   "cell_type": "markdown",
   "metadata": {},
   "source": [
    "# BEE313 Problem 1.3\n",
    "\n",
    "## Objective \n",
    "The objective of this problem was to determine the height of the water table at Millersburg above the confining layer that is assocaited with the Willamette Valley. \n",
    "## Methods:\n",
    "The Dupuit approximation was utilized to determine this height. The heights of the willamete and santiam surface elevations from sea level were accounted for by subtracted the height of the confining layer from them. This allowed the region above the confining layer to be computed to determine how much would correspond to the water table. The appropriate values were plugged into the equation and the units were converted such that they were in meters."
   ]
  },
  {
   "cell_type": "code",
   "execution_count": 17,
   "metadata": {},
   "outputs": [
    {
     "name": "stdout",
     "output_type": "stream",
     "text": [
      "Height of Water Table Above the Confining Layer 20.406 m\n"
     ]
    }
   ],
   "source": [
    "# What is the expected height of the water table?\n",
    "# Confining layer of height of 45 , above sea level which is below the willamette valley\n",
    "# Average Annual reachagre is 500 mm/ year, hydraulic conductivity is 51.8 m/day...\n",
    "R_in = (500/(1000*365))  # m/year\n",
    "k_h = 51.8  # m/day\n",
    "h_o = 52 -45 # m\n",
    "hL = 65 -45 # m\n",
    "L = 6.2 * 1000  # m\n",
    "x = 2.3 * 1000  # m\n",
    "\n",
    "h_x = (((-R_in/k_h)*x**2)+(((hL**2)-(h_o**2))/L)*x+(R_in/k_h)*L*x + h_o**2)**(1/2)\n",
    "\n",
    "print(f\"Height of Water Table Above the Confining Layer {h_x:.3f} m\")  # above the confined layer..."
   ]
  },
  {
   "cell_type": "markdown",
   "metadata": {},
   "source": [
    "## Results\n",
    "The height of the water table above the confining layer was found to be 20.406m.\n",
    "\n",
    "## Discussion\n",
    "It is important to noted that in the computation of this value the heights above the confining layer needed to be accounted for since th hydraulic conductivity corresponds to the area above this layer. This was an important distinction to make in order to accurately compute a value for the height of the water table. If the heights from the sea level were computed initially then this water table height would be far larger. "
   ]
  },
  {
   "cell_type": "markdown",
   "metadata": {},
   "source": [
    "# BEE313 Problem 1.4\n",
    "\n",
    "## Objective \n",
    "\n",
    "The goal of this problem was to determine the hydraulic conductivity of the confined aquifer. \n",
    "## Methods:\n",
    "The Thiem equation was utilized. The Well was set to be the first points with the height being the thickness subtracted from the drawdown. The Monitoring point was the second point with the height being the thickness subtracted from the drawdown at that point as well. The discharge was converted to be cm^3/s. The kH was solved for by manipulating the equation. "
   ]
  },
  {
   "cell_type": "code",
   "execution_count": 18,
   "metadata": {},
   "outputs": [
    {
     "name": "stdout",
     "output_type": "stream",
     "text": [
      "Hydraulic Conductivity 0.004 cm/s \n"
     ]
    }
   ],
   "source": [
    "# monitoring well means that there is no pumping...\n",
    "\n",
    "import numpy as np\n",
    "\n",
    "Qpump = 500*100*100*100/(24*60*60)  # cm3/second\n",
    "\n",
    "# Aquifer Thickness\n",
    "H = 50*100\n",
    "\n",
    "# Well (1)\n",
    "h1 = H-(2*100)  # cm\n",
    "r1 = .5*100  # cm\n",
    "\n",
    "# monitoring point (2)\n",
    "r2 = 30*100  # cm\n",
    "h2 = H - (.25*100)  # cm\n",
    "\n",
    "# Need to Solve for Hydraulic Conductivity\n",
    "\n",
    "k_H = (Qpump/(2*(np.pi)*H*((h1 - h2))))*np.log(r1/r2)\n",
    "print(f\"Hydraulic Conductivity {k_H:.3f} cm/s \")"
   ]
  },
  {
   "cell_type": "markdown",
   "metadata": {},
   "source": [
    "## Results\n",
    "The hydraulic conductivity was found to be .004 cm/s.\n",
    "\n",
    "## Discussion\n",
    "This value makes sense for hydraulic conductivity to be low since water is less likely able to infiltrate easily into the aquifer. Hydraulic conductivity is directly proportional to drainage rates so this small value for hydraulic conductivity makes sense. "
   ]
  },
  {
   "cell_type": "markdown",
   "metadata": {},
   "source": []
  }
 ],
 "metadata": {
  "anaconda-cloud": {},
  "interpreter": {
   "hash": "ec4fd43df588234be800306b20d22148d8a6bf29799a747a386d7b854fd2609b"
  },
  "kernelspec": {
   "display_name": "Python 3.9.7 ('Warren_Lab')",
   "language": "python",
   "name": "python3"
  },
  "language_info": {
   "codemirror_mode": {
    "name": "ipython",
    "version": 3
   },
   "file_extension": ".py",
   "mimetype": "text/x-python",
   "name": "python",
   "nbconvert_exporter": "python",
   "pygments_lexer": "ipython3",
   "version": "3.9.7"
  }
 },
 "nbformat": 4,
 "nbformat_minor": 1
}
