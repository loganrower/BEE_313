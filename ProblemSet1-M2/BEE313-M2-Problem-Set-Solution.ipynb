{
 "cells": [
  {
   "cell_type": "markdown",
   "metadata": {},
   "source": [
    "\\pagebreak\n",
    "# BEE313 Problem 1.1\n",
    "\n",
    "## Objective:\n",
    "We are interested in estimating the groundwater contribution to this basin on an annual basis in mm/year. This basin has an area of 10 km$^2$, 1750 mm annual rainfal, and average annual stream flow of 0.3 m$^3$/sec.\n",
    "\n",
    "## Methods\n",
    "We will use mass balance to estimate the groundwater contribution from/to (with +/- signs, respectively) the catchment. The mass balance is:\n",
    "$$ P - ET - Q - G = \\Delta S $$\n",
    "We assume that at the annual scale $\\Delta S$ is zero. We convert all units to [mm/year]. We rewrite the mass balance to sovel for G as\n",
    "$$ G = P - ET - Q $$"
   ]
  },
  {
   "cell_type": "code",
   "execution_count": 1,
   "metadata": {},
   "outputs": [
    {
     "name": "stdout",
     "output_type": "stream",
     "text": [
      "Groundwater flow = -656.08 mm/year\n"
     ]
    }
   ],
   "source": [
    "import numpy as np\n",
    "import matplotlib.pyplot as plt\n",
    "%matplotlib inline\n",
    "\n",
    "# Given information\n",
    "Area = 10 # [km^2]\n",
    "P = 1750 # [mm/year]\n",
    "Q = 0.3 # [m^3/sec]\n",
    "ET = 4 # [mm/day]\n",
    "\n",
    "# Convert units\n",
    "Area = Area * 1000 **2 # [m^2]\n",
    "Q = Q * (60*60*24*365) / Area * 1000 # [mm/year]\n",
    "ET = ET * (365)\n",
    "\n",
    "# Do Mass Balance\n",
    "G = P - ET - Q\n",
    "\n",
    "# Print answer\n",
    "print('Groundwater flow =', G, 'mm/year')"
   ]
  },
  {
   "cell_type": "markdown",
   "metadata": {},
   "source": [
    "## Results:\n",
    "Based on the mass balance equation, in total, **656 mm/year** of water flows into this watersheds via groudwater on average.\n",
    "\n",
    "## Discussion:\n",
    "Though not visible, the contribution of groundwater movements to the total catchment mass is considerable (about 40% of rainfall and ET and 70% of stream flows).\n",
    "\n",
    "\\pagebreak"
   ]
  },
  {
   "cell_type": "markdown",
   "metadata": {},
   "source": [
    "# BEE313 Problem 1.2\n",
    "\n",
    "## Objective:\n",
    "The goal of this problem is to obtain the specific moisture decrease due to temperature reduction when an air parcel moves from Pacific Ocean at Newport to Mary's peak. \n",
    "\n",
    "## Methods\n",
    "The absolute humidity should be calculated at both ends. The rainfall can be obtained as the difference. For this purpose, first the vapor pressure is found from relative humidity and temperature:\n",
    "$$ e = 611 \\ exp(\\frac{17.27T }{T+237.3}) $$\n",
    "The absolute humidity is then calculated using vapor pressure and temperature:\n",
    "$$ \\rho_V = \\frac{e}{R_V \\ (T+273.15)} $$\n",
    "Finally, the rainfall is found from air mass thickness and absolute humidity change. The total expected rainfall is given by the difference in vapor density [kg/m3] multiplied by the thickness of the cloud ($h$) and then converted to mm with the density of water ($\\rho_W$)\n",
    "$$ P = (\\rho_{V(start)} - \\rho_{V(end)})h/\\rho_W $$"
   ]
  },
  {
   "cell_type": "code",
   "execution_count": 2,
   "metadata": {},
   "outputs": [
    {
     "name": "stdout",
     "output_type": "stream",
     "text": [
      "Water lost from air mass in mm is 9.1mm\n"
     ]
    }
   ],
   "source": [
    "import numpy as np\n",
    "import matplotlib.pyplot as plt\n",
    "%matplotlib inline\n",
    "\n",
    "# Constants\n",
    "R_V = 461.5 # [J/kg/K]\n",
    "rho_W = 1000 # [kg/m^3] water density\n",
    "\n",
    "# Given information\n",
    "Temp_0 = 21 # [C]\n",
    "RH_0 = 65/100 # [%]\n",
    "Temp_1 = 8 # [C]\n",
    "AirMassThickness = 2.5*1000 # [m]\n",
    "\n",
    "# Define function to calcuate eStar\n",
    "def eStar(Tin): return 611*np.exp((17.27*Tin)/(Tin+237.3))\n",
    "\n",
    "# Inital absolute humidity in kg/m^3\n",
    "eStar_0 = eStar(Temp_0)\n",
    "e_0 = RH_0*eStar_0 \n",
    "rhoV_0 = e_0/(R_V*(Temp_0+273.15))\n",
    "\n",
    "# Final absolute humidity in kg/m^3\n",
    "e_1 = eStar(Temp_1)\n",
    "rhoV_1 = e_1/(R_V*(Temp_1+273.15))\n",
    "\n",
    "# Difference in absolute humidty\n",
    "rhoV_change = rhoV_0 - rhoV_1\n",
    "\n",
    "# Convert to mm of rainfall\n",
    "precipitation_mm = rhoV_change * AirMassThickness / rho_W * 1000\n",
    "print(\"Water lost from air mass in mm is %.1fmm\" % precipitation_mm)"
   ]
  },
  {
   "cell_type": "markdown",
   "metadata": {},
   "source": [
    "## Results:\n",
    "In total, a minimum of **9.1mm** of precipitation is lost from the air mass over this distance.\n",
    "\n",
    "## Discussion:\n",
    "If air parcel becomes cooler (here moving to high eleveations), its vapor pressure does not change, but its relative humidity increases. With further cooling, the parcel has reached its saturation vapor pressure and its relative humidity which results in condensation.\n",
    "\n",
    "\\pagebreak"
   ]
  },
  {
   "cell_type": "markdown",
   "metadata": {},
   "source": [
    "# BEE313 Problem 1.3\n",
    "\n",
    "## Objective:\n",
    "We want to calculate the average annual precipitation in mm in a watershed, where a few Gauge measurements have been performed as:\n",
    "\n",
    "$$ GaugeElevations = [460, 600, 1180] $$\n",
    "$$ GaugePrecipitation = [715, 750, 895] $$\n",
    "\n",
    "To evaluate the rainfall, the topographic distribution of this watershed of its area with elevation: \n",
    "$$ AreaElevations = [200, 400, 600, 800, 1000, 1200, 1400, 1600] $$\n",
    "$$ AreaFraction = [0.0, 0.028, 0.159, 0.341, 0.271, 0.151, 0.042, 0.008] $$\n",
    "Where the *AreaElevations* are the upper end of that area's elevation range. \n",
    " \n",
    "##  Methods\n",
    "To solve this problem we'll use the hypsometric method, assuming a linear orographic relation. The first step is to obtain the fitiing function that relates the Gauge Precipitation to Gauge Elevations. This function will then be used to find the actual precipitations based on Area Elevations. In this problem, we used a linear fitted function. The average annual precipitation is finally calculated basd on a weighted average using the area fractions."
   ]
  },
  {
   "cell_type": "code",
   "execution_count": 3,
   "metadata": {},
   "outputs": [
    {
     "name": "stdout",
     "output_type": "stream",
     "text": [
      "Fit coeffs [2.5e-01 6.0e+02]\n",
      "The basins average precipitation is 800.7999999999997 mm\n"
     ]
    },
    {
     "data": {
      "text/plain": [
       "<matplotlib.legend.Legend at 0x7fd56b375a60>"
      ]
     },
     "execution_count": 3,
     "metadata": {},
     "output_type": "execute_result"
    },
    {
     "data": {
      "image/png": "[encoded data removed]",
      "text/plain": [
       "<Figure size 432x288 with 1 Axes>"
      ]
     },
     "metadata": {
      "needs_background": "light"
     },
     "output_type": "display_data"
    }
   ],
   "source": [
    "import numpy as np\n",
    "import matplotlib.pyplot as plt\n",
    "%matplotlib inline\n",
    "\n",
    "# Basin Area Information\n",
    "Area_Elevations = np.array([100, 300, 500, 700, 900, 1100, 1300, 1500])\n",
    "Area_Fraction = np.array([0.0, 0.028, 0.159, 0.341, 0.271, 0.151, 0.042, 0.008])\n",
    "\n",
    "# Rain gauge data\n",
    "Gauge_Elevations = np.array([460, 600, 1180])\n",
    "Gague_Precipitation = np.array([715, 750, 895])\n",
    "\n",
    "# Fit a line to gague data\n",
    "fit_coeffs = np.polyfit(Gauge_Elevations, Gague_Precipitation, 1)\n",
    "print('Fit coeffs',fit_coeffs)\n",
    "\n",
    "# Predict rainfall at different elevations\n",
    "Average_Elevations = Area_Elevations # To get average elevation in this range\n",
    "Average_Precipitation = Average_Elevations*fit_coeffs[0] + fit_coeffs[1]\n",
    "\n",
    "# Estimate the basin average\n",
    "Basin_Average = np.sum(Average_Precipitation * Area_Fraction)\n",
    "print('The basins average precipitation is',Basin_Average, 'mm')\n",
    "\n",
    "plt.figure(1)\n",
    "plt.plot(Gauge_Elevations, Gague_Precipitation,'bo',label='Gauges')\n",
    "plt.plot(Average_Elevations,Average_Precipitation,'r-',label='$P$=%.2f$z$+%.2f'%(fit_coeffs[0], fit_coeffs[1]))\n",
    "plt.plot(Area_Elevations,Average_Precipitation,'gx',label='Elevation Bands')\n",
    "plt.xlabel('Elevation [m]'); plt.ylabel('Precipitation [mm]')\n",
    "plt.legend()"
   ]
  },
  {
   "cell_type": "markdown",
   "metadata": {},
   "source": [
    "## Results:\n",
    "The average precipitation in this basin is **801mm**.\n",
    "\n",
    "## Discussion:\n",
    "When guages are well distributed throughout a watershed with complex topography, it is important that elevation be taken into account. Here a linear approach is used to estimate relationship between elevation and precipitation, though other posible relations exist.\n",
    "\n",
    "\\pagebreak"
   ]
  },
  {
   "cell_type": "markdown",
   "metadata": {},
   "source": [
    "# BEE313 Problem 1.4\n",
    "\n",
    "## Objective:\n",
    "The objective of this problem is to calculate the 10-year annual rainfall total given a 100 year time series for the city of Corvallis.\n",
    "\n",
    "##  Methods\n",
    "The rainfall data is sorted and the non-exceedance probability ($F(x)$) is calculated using \n",
    "$$ F(x) = \\frac{r}{1+n} $$ \n",
    "where $r$ is the rank (smallest to largest) and $n$ is the number of obserations, 99 our case. The return interval is calculated as \n",
    "$$ T_R = \\frac{1}{1-F(x)} $$\n",
    "\n",
    "We can find the index of the 10year event by solving the above equations for $r$ given that $T_R$ is 10. Combining the above we have\n",
    "$$ r = \\left(1-\\frac{1}{T_R}\\right)(1+n) $$\n",
    "where it is important to note that the the we must convert the rank to an integer subtract 1 from the rank to find the index (since these start at 1 but indexes in python start at 0)."
   ]
  },
  {
   "cell_type": "code",
   "execution_count": 4,
   "metadata": {},
   "outputs": [
    {
     "name": "stdout",
     "output_type": "stream",
     "text": [
      "The 10-year annual precipitation total in Corvallis is  1330.55 mm\n"
     ]
    },
    {
     "data": {
      "image/png": "[encoded data removed]",
      "text/plain": [
       "<Figure size 432x288 with 1 Axes>"
      ]
     },
     "metadata": {
      "needs_background": "light"
     },
     "output_type": "display_data"
    }
   ],
   "source": [
    "import numpy as np\n",
    "from scipy.stats import norm\n",
    "import matplotlib.pyplot as plt\n",
    "%matplotlib inline\n",
    "\n",
    "# Given Data\n",
    "AnnualRainfall = np.array(\n",
    "    [1021.06,1052.48,1330.55,889.06,1407.20,886.63,1163.28,1168.88,897.59,1249.29,\n",
    "    993.65,963.82,1240.87,958.52,1144.11,1017.51,1252.29,1074.10,897.10,1284.55,\n",
    "    1097.71,1105.44,1000.74,933.31,966.33,903.02,1033.65,1206.93,988.68,673.89,\n",
    "    654.62,1052.87,998.38,1157.67,981.55,718.48,869.52,1505.57,911.09,775.72,\n",
    "    1118.34,975.42,1132.92,947.14,659.60,1200.15,1033.66,1022.35,1227.38,907.94,\n",
    "    1435.88,1190.44,778.84,1326.98,1162.43,1246.73,1043.58,1034.07,1116.40,934.84,\n",
    "    1126.82,1211.50,932.40,1022.74,1188.63,907.78,1015.64,887.22,1393.42,1067.60,\n",
    "    1224.72,1336.84,1154.76,1238.44,1234.72,1095.73,748.32,1025.56,923.02,1071.70,\n",
    "    1112.84,1200.78,1209.95,1422.25,1245.29,693.02,1112.20,967.55,970.48,766.32,\n",
    "    974.69,849.93,833.45,902.90,954.75,1382.77,1918.39,1162.03,1520.63])\n",
    "\n",
    "# Sorted Precipitation and ranks\n",
    "N_observations = len(AnnualRainfall)\n",
    "P_sorted = np.sort(AnnualRainfall)\n",
    "P_ranks = np.arange(N_observations)+1 # Because these start at zero\n",
    "\n",
    "# Exceedence Probabilities and Return Intervals With Weibul Plotting\n",
    "nonExceedenceProbability = P_ranks/(N_observations+1) # F(x)\n",
    "exceedenceProbability = 1 - nonExceedenceProbability # 1-F(x)\n",
    "return_interval = 1/exceedenceProbability # 1/(1-F(x))\n",
    "\n",
    "# Find the rank of the 10 year event (rounding down)\n",
    "returnPeriodCalculated = 10\n",
    "rankCalculated = (1-(1/returnPeriodCalculated))*(N_observations+1)\n",
    "indexCalculated = int(rankCalculated-1)\n",
    "precipitationCalculated = P_sorted[indexCalculated]\n",
    "print('The 10-year annual precipitation total in Corvallis is ', precipitationCalculated, 'mm')\n",
    "\n",
    "# Plot results\n",
    "plt.figure(2)\n",
    "plt.plot(return_interval,P_sorted,'.-')\n",
    "plt.plot(returnPeriodCalculated,precipitationCalculated,'ro' )\n",
    "plt.ylabel('Annual Precipitation [mm]')\n",
    "plt.xlabel('Return Interval [Years]')\n",
    "plt.yscale('log'); plt.xscale('log')\n",
    "plt.grid('on')\n"
   ]
  },
  {
   "cell_type": "markdown",
   "metadata": {},
   "source": [
    "\n",
    "## Results:\n",
    "Using an interpolation approach the 10-year annual precipitation total is **1331mm**.  \n",
    "\n",
    "## Discussion:\n",
    "Engineers are often tasked with designing projects with a specific return interval in, the approach here finds the 10-year annual rainfall amount. As larger return intervals are estimated, the spacing between observations grows and uncertainty becomes larger."
   ]
  },
  {
   "cell_type": "code",
   "execution_count": null,
   "metadata": {},
   "outputs": [],
   "source": []
  }
 ],
 "metadata": {
  "anaconda-cloud": {},
  "kernelspec": {
   "display_name": "Python 3",
   "language": "python",
   "name": "python3"
  },
  "language_info": {
   "codemirror_mode": {
    "name": "ipython",
    "version": 3
   },
   "file_extension": ".py",
   "mimetype": "text/x-python",
   "name": "python",
   "nbconvert_exporter": "python",
   "pygments_lexer": "ipython3",
   "version": "3.8.5"
  }
 },
 "nbformat": 4,
 "nbformat_minor": 1
}
